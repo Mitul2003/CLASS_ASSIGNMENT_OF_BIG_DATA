{
 "cells": [
  {
   "cell_type": "markdown",
   "metadata": {},
   "source": [
    "**Task 3: Develop Message Filtering Logic**"
   ]
  },
  {
   "cell_type": "code",
   "execution_count": null,
   "metadata": {},
   "outputs": [],
   "source": [
    "# This logic is already implemented in the Kafka producer code, where messages are filtered based on their type field\n",
    "# Each producer sends messages only of a specific type to the corresponding Kafka topic\n",
    "# Consumers then subscribe to their respective topics and process the messages relevant to them\n",
    "# No additional filtering logic is needed in our consumers"
   ]
  }
 ],
 "metadata": {
  "language_info": {
   "name": "python"
  }
 },
 "nbformat": 4,
 "nbformat_minor": 2
}

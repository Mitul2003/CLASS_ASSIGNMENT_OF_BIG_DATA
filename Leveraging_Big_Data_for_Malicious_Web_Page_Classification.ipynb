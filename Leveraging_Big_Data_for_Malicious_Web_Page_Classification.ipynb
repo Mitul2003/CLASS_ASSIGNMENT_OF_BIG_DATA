{
  "cells": [
    {
      "cell_type": "code",
      "execution_count": null,
      "metadata": {
        "colab": {
          "base_uri": "https://localhost:8080/"
        },
        "id": "apnn8KIJcrV0",
        "outputId": "965d2c00-0354-4238-c469-ba628b0ef8f8"
      },
      "outputs": [
        {
          "name": "stdout",
          "output_type": "stream",
          "text": [
            "Collecting pyspark\n",
            "  Downloading pyspark-3.5.1.tar.gz (317.0 MB)\n",
            "\u001b[2K     \u001b[90m━━━━━━━━━━━━━━━━━━━━━━━━━━━━━━━━━━━━━━━━\u001b[0m \u001b[32m317.0/317.0 MB\u001b[0m \u001b[31m3.9 MB/s\u001b[0m eta \u001b[36m0:00:00\u001b[0m\n",
            "\u001b[?25h  Preparing metadata (setup.py) ... \u001b[?25l\u001b[?25hdone\n",
            "Requirement already satisfied: py4j==0.10.9.7 in /usr/local/lib/python3.10/dist-packages (from pyspark) (0.10.9.7)\n",
            "Building wheels for collected packages: pyspark\n",
            "  Building wheel for pyspark (setup.py) ... \u001b[?25l\u001b[?25hdone\n",
            "  Created wheel for pyspark: filename=pyspark-3.5.1-py2.py3-none-any.whl size=317488491 sha256=c8d4fdebaea35dfecf8020b2e7a441cb13b90ee3877039d50393298fafb83fde\n",
            "  Stored in directory: /root/.cache/pip/wheels/80/1d/60/2c256ed38dddce2fdd93be545214a63e02fbd8d74fb0b7f3a6\n",
            "Successfully built pyspark\n",
            "Installing collected packages: pyspark\n",
            "Successfully installed pyspark-3.5.1\n"
          ]
        }
      ],
      "source": [
        "# !pip install pyspark"
      ]
    },
    {
      "cell_type": "code",
      "execution_count": null,
      "metadata": {
        "id": "YW7c_bYMdB0E"
      },
      "outputs": [],
      "source": [
        "# Importing necessary modules\n",
        "from pyspark.sql import SparkSession\n",
        "from pyspark.ml import Pipeline\n",
        "from pyspark.ml.classification import NaiveBayes\n",
        "from pyspark.ml.evaluation import BinaryClassificationEvaluator, MulticlassClassificationEvaluator\n",
        "from pyspark.ml.feature import Tokenizer, RegexTokenizer\n",
        "from pyspark.ml.feature import StringIndexer, OneHotEncoder, VectorAssembler\n",
        "from pyspark.ml.feature import StopWordsRemover\n",
        "from pyspark.ml.feature import HashingTF, IDF\n",
        "\n",
        "# Importing time module for timing operations\n",
        "import time\n",
        "\n",
        "# Importing LinearSVC classifier\n",
        "from pyspark.ml.classification import LinearSVC\n",
        "\n",
        "# Importing warnings module to suppress warnings\n",
        "import warnings\n",
        "warnings.filterwarnings(\"ignore\")\n",
        "\n",
        "# Importing pandas for data manipulation\n",
        "import pandas as pd\n",
        "\n",
        "# Importing IntegerType from pyspark.sql.types for specifying data types\n",
        "from pyspark.sql.types import IntegerType\n"
      ]
    },
    {
      "cell_type": "markdown",
      "metadata": {
        "id": "6pKsQ8KrDLUH"
      },
      "source": [
        "# DATA LOADING  \n",
        "\n",
        "\n",
        "\n"
      ]
    },
    {
      "cell_type": "markdown",
      "metadata": {
        "id": "Jy9Hw8CVe5rj"
      },
      "source": [
        "* Load Dataset"
      ]
    },
    {
      "cell_type": "code",
      "execution_count": null,
      "metadata": {
        "id": "6oQLgedreMdF"
      },
      "outputs": [],
      "source": [
        "#for access dataset direct through kaggle\n",
        "!pip install opendatasets\n",
        "\n",
        "import opendatasets as od\n",
        "od.download(\"https://www.kaggle.com/datasets/aksingh2411/dataset-of-malicious-and-benign-webpages?resource=download\")"
      ]
    },
    {
      "cell_type": "code",
      "execution_count": null,
      "metadata": {
        "id": "JUjHrFSAePA1"
      },
      "outputs": [],
      "source": [
        "df_chunk=pd.read_csv(\"Webpages_Classification_test_data.csv\")"
      ]
    },
    {
      "cell_type": "code",
      "execution_count": null,
      "metadata": {
        "id": "qXawOhnmg2yT",
        "outputId": "d67eebf2-89fd-4d07-86d4-312ed847443d"
      },
      "outputs": [
        {
          "name": "stderr",
          "output_type": "stream",
          "text": [
            "24/05/06 23:34:28 WARN Utils: Your hostname, Mituls-MacBook-Air.local resolves to a loopback address: 127.0.0.1; using 10.200.10.95 instead (on interface en0)\n",
            "24/05/06 23:34:28 WARN Utils: Set SPARK_LOCAL_IP if you need to bind to another address\n",
            "Setting default log level to \"WARN\".\n",
            "To adjust logging level use sc.setLogLevel(newLevel). For SparkR, use setLogLevel(newLevel).\n",
            "24/05/06 23:34:29 WARN NativeCodeLoader: Unable to load native-hadoop library for your platform... using builtin-java classes where applicable\n"
          ]
        },
        {
          "name": "stderr",
          "output_type": "stream",
          "text": [
            "24/05/06 23:34:40 WARN GarbageCollectionMetrics: To enable non-built-in garbage collector(s) List(G1 Concurrent GC), users should configure it(them) to spark.eventLog.gcMetrics.youngGenerationGarbageCollectors or spark.eventLog.gcMetrics.oldGenerationGarbageCollectors\n"
          ]
        }
      ],
      "source": [
        "# Create a SparkSession\n",
        "spark = SparkSession.builder.appName(\"BDP_PROJECT\").getOrCreate()"
      ]
    },
    {
      "cell_type": "code",
      "execution_count": null,
      "metadata": {
        "id": "oIdOkvXu604H"
      },
      "outputs": [],
      "source": [
        "df_spark = spark.createDataFrame(df_chunk)"
      ]
    },
    {
      "cell_type": "code",
      "execution_count": null,
      "metadata": {
        "colab": {
          "base_uri": "https://localhost:8080/"
        },
        "id": "zCDrfBpwDVC3",
        "outputId": "242332ae-9ef4-49fe-8d46-13ecdb166253"
      },
      "outputs": [
        {
          "name": "stderr",
          "output_type": "stream",
          "text": [
            "24/05/06 23:34:47 WARN TaskSetManager: Stage 0 contains a task of very large size (10434 KiB). The maximum recommended task size is 1000 KiB.\n",
            "24/05/06 23:34:52 WARN PythonRunner: Detected deadlock while completing task 0.0 in stage 0 (TID 0): Attempting to kill Python Worker\n",
            "                                                                                \r"
          ]
        },
        {
          "name": "stdout",
          "output_type": "stream",
          "text": [
            "+----------+--------------------+-------+---------------+-------------+---+----------+-----+------+----------+--------------------+-----+\n",
            "|Unnamed: 0|                 url|url_len|         ip_add|      geo_loc|tld|    who_is|https|js_len|js_obf_len|             content|label|\n",
            "+----------+--------------------+-------+---------------+-------------+---+----------+-----+------+----------+--------------------+-----+\n",
            "|         0|http://www.dutcht...|     36|  175.67.214.68|        China|com|  complete|  yes|  38.5|       0.0|Decay suggest in ...| good|\n",
            "|         1|http://www.collec...|     32|188.120.171.121|       Sweden|com|incomplete|  yes| 187.0|       0.0|breast addict nud...| good|\n",
            "|         2|http://www.deadli...|     27|   193.51.170.1|       France|com|  complete|  yes|  31.0|       0.0|Nato's military s...| good|\n",
            "|         3|http://www.mil.fi...|     56|   13.237.35.44|    Australia| fi|  complete|  yes| 152.0|       0.0|Night being newto...| good|\n",
            "|         4|http://www.avclub...|     40|  220.193.62.89|        China|com|  complete|  yes| 150.0|       0.0|34 per two childr...| good|\n",
            "|         5|http://www.yellow...|     34|  13.122.80.132|United States|net|  complete|  yes| 140.5|       0.0|Own desert includ...| good|\n",
            "|         6|http://www.eteamz...|     31|  67.240.38.208|United States|com|  complete|  yes|  72.0|       0.0|The trial ions wh...| good|\n",
            "|         7|http://www.becket...|     29|  135.41.22.180|United States|com|  complete|  yes|  60.5|       0.0|Region with conse...| good|\n",
            "|         8|http://www.newedg...|     33|  90.136.31.203|       Sweden|com|  complete|  yes| 108.0|       0.0|In 1953, the high...| good|\n",
            "|         9|http://www.fourdi...|     38|120.101.209.144|       Taiwan|com|  complete|  yes|  38.5|       0.0|Christian power h...| good|\n",
            "|        10|http://eserver.or...|     46|  169.64.227.39|United States|org|  complete|  yes| 166.0|       0.0|Facility, it with...| good|\n",
            "|        11|http://www.tkhr.com/|     20|  183.228.23.16|        China|com|  complete|  yes| 179.5|       0.0|fondle whore give...| good|\n",
            "|        12|http://www.chinal...|     27|  15.238.210.97|United States|com|  complete|  yes| 114.5|       0.0|Observed temperat...| good|\n",
            "|        13|http://www.urmc.r...|     55| 154.121.13.150|      Algeria|edu|incomplete|  yes| 148.5|       0.0|Various estimates...| good|\n",
            "|        14|http://www.whitew...|     32| 139.208.211.50|        China| ca|incomplete|  yes| 112.5|       0.0|Of abstraction cu...| good|\n",
            "|        15|http://discountpe...|     27| 193.174.96.162|      Germany|com|  complete|  yes| 151.0|       0.0|Material, as a co...| good|\n",
            "|        16|http://democrats....|     66|   170.65.188.8|United States|gov|  complete|   no| 175.5|       0.0|Ensure implementa...| good|\n",
            "|        17|http://com.en.spo...|     32|  177.7.178.123|       Brazil|com|  complete|   no| 155.5|       0.0|Creating artistic...| good|\n",
            "|        18|http://www.dbccol...|     31|  74.212.56.181|United States|com|  complete|   no| 123.5|       0.0|Sliding doors ida...| good|\n",
            "|        19|http://leftfootbl...|     28|   182.17.85.87|     Thailand|com|  complete|   no| 197.0|       0.0|Other predictions...| good|\n",
            "+----------+--------------------+-------+---------------+-------------+---+----------+-----+------+----------+--------------------+-----+\n",
            "only showing top 20 rows\n",
            "\n"
          ]
        }
      ],
      "source": [
        "df_spark.show()"
      ]
    },
    {
      "cell_type": "code",
      "execution_count": null,
      "metadata": {
        "colab": {
          "base_uri": "https://localhost:8080/"
        },
        "id": "wAkfw02zKTx_",
        "outputId": "00f6926e-b6d1-44f8-ec44-05b1d7760cfb"
      },
      "outputs": [
        {
          "data": {
            "text/plain": [
              "['Unnamed: 0',\n",
              " 'url',\n",
              " 'url_len',\n",
              " 'ip_add',\n",
              " 'geo_loc',\n",
              " 'tld',\n",
              " 'who_is',\n",
              " 'https',\n",
              " 'js_len',\n",
              " 'js_obf_len',\n",
              " 'content',\n",
              " 'label']"
            ]
          },
          "execution_count": 7,
          "metadata": {},
          "output_type": "execute_result"
        }
      ],
      "source": [
        "# Initializing Column Set\n",
        "column_set=df_spark.columns\n",
        "column_set"
      ]
    },
    {
      "cell_type": "markdown",
      "metadata": {
        "id": "9M-gVZJ-QMgg"
      },
      "source": [
        "# EDA\n",
        "\n",
        "\n",
        "\n",
        "\n"
      ]
    },
    {
      "cell_type": "code",
      "execution_count": null,
      "metadata": {
        "colab": {
          "base_uri": "https://localhost:8080/"
        },
        "id": "MW2r00IA-1Yx",
        "outputId": "9a33e195-7949-4ccb-d658-26b479f1fb57"
      },
      "outputs": [
        {
          "name": "stderr",
          "output_type": "stream",
          "text": [
            "24/05/06 23:29:04 WARN SparkStringUtils: Truncated the string representation of a plan since it was too large. This behavior can be adjusted by setting 'spark.sql.debug.maxToStringFields'.\n",
            "24/05/06 23:29:04 WARN TaskSetManager: Stage 1 contains a task of very large size (20721 KiB). The maximum recommended task size is 1000 KiB.\n",
            "[Stage 1:=======>                                                   (1 + 7) / 8]\r"
          ]
        },
        {
          "name": "stdout",
          "output_type": "stream",
          "text": [
            "+-------+-----------------+--------------------+------------------+-------------+-----------+------+----------+------+------------------+-----------------+--------------------+------+\n",
            "|summary|       Unnamed: 0|                 url|           url_len|       ip_add|    geo_loc|   tld|    who_is| https|            js_len|       js_obf_len|             content| label|\n",
            "+-------+-----------------+--------------------+------------------+-------------+-----------+------+----------+------+------------------+-----------------+--------------------+------+\n",
            "|  count|           100000|              100000|            100000|       100000|     100000|100000|    100000|100000|            100000|           100000|              100000|100000|\n",
            "|   mean|          49999.5|                NULL|          35.90026|         NULL|       NULL|  NULL|      NULL|  NULL|119.03937099999997|        7.9497954|                NULL|  NULL|\n",
            "| stddev|28867.65779668774|                NULL|14.698339101548981|         NULL|       NULL|  NULL|      NULL|  NULL| 89.67820615752153|59.47904819707309|                NULL|  NULL|\n",
            "|    min|                0|http://007-host.com/|                13|   1.1.154.18|Afghanistan| ab.ca|  complete|    no|               0.0|              0.0|\"asian\"); and bus...|   bad|\n",
            "|    max|            99999|news:alt.discuss....|               481|99.99.213.180|      Åland|    zm|incomplete|   yes|             854.1|802.8539999999998|−45 °f and metabo...|  good|\n",
            "+-------+-----------------+--------------------+------------------+-------------+-----------+------+----------+------+------------------+-----------------+--------------------+------+\n",
            "\n"
          ]
        },
        {
          "name": "stderr",
          "output_type": "stream",
          "text": [
            "                                                                                \r"
          ]
        }
      ],
      "source": [
        "df_spark.describe().show()"
      ]
    },
    {
      "cell_type": "markdown",
      "metadata": {
        "id": "aPEzIGKrTtHu"
      },
      "source": [
        "### FINDING MISSING VALUES"
      ]
    },
    {
      "cell_type": "code",
      "execution_count": null,
      "metadata": {
        "id": "KS34qdL3_JAh",
        "outputId": "9543d547-c721-4628-e074-f171923ba891"
      },
      "outputs": [
        {
          "name": "stderr",
          "output_type": "stream",
          "text": [
            "24/05/06 23:31:47 WARN TaskSetManager: Stage 4 contains a task of very large size (20721 KiB). The maximum recommended task size is 1000 KiB.\n",
            "                                                                                \r"
          ]
        }
      ],
      "source": [
        "from pyspark.sql.functions import col\n",
        "from pyspark.sql import functions as F\n",
        "\n",
        "# Count missing values in each column\n",
        "missing_counts = df_spark.select([col(c).isNull().cast(\"int\").alias(c) for c in df_spark.columns]).agg(*[F.sum(c).alias(c) for c in df_spark.columns]).collect()"
      ]
    },
    {
      "cell_type": "code",
      "execution_count": null,
      "metadata": {
        "colab": {
          "base_uri": "https://localhost:8080/"
        },
        "id": "azBtyPCN_nk4",
        "outputId": "50da3bc7-35f4-4a63-fd8b-27db6f964758"
      },
      "outputs": [
        {
          "name": "stdout",
          "output_type": "stream",
          "text": [
            "+----------+---+-------+------+-------+---+------+-----+------+----------+-------+-----+\n",
            "|Unnamed: 0|url|url_len|ip_add|geo_loc|tld|who_is|https|js_len|js_obf_len|content|label|\n",
            "+----------+---+-------+------+-------+---+------+-----+------+----------+-------+-----+\n",
            "|         0|  0|      0|     0|      0|  0|     0|    0|     0|         0|      0|    0|\n",
            "+----------+---+-------+------+-------+---+------+-----+------+----------+-------+-----+\n",
            "\n"
          ]
        }
      ],
      "source": [
        "from pyspark.sql import Row\n",
        "\n",
        "# Convert the missing counts list to a Row object\n",
        "missing_counts_row = Row(*df_spark.columns)\n",
        "\n",
        "# Create a Row object with the missing counts\n",
        "missing_counts = missing_counts_row(*missing_counts[0])\n",
        "\n",
        "# Convert the Row object to a DataFrame\n",
        "missing_counts_df = spark.createDataFrame([missing_counts])\n",
        "\n",
        "# Display the missing counts DataFrame\n",
        "missing_counts_df.show()\n"
      ]
    },
    {
      "cell_type": "markdown",
      "metadata": {
        "id": "pMtztlVcXsYM"
      },
      "source": [
        "###ANALYSIS OF GOOD AND BAD LABELS ACROSS EACH COLUMNS"
      ]
    },
    {
      "cell_type": "code",
      "execution_count": null,
      "metadata": {
        "colab": {
          "base_uri": "https://localhost:8080/"
        },
        "id": "DYll0MShIu_w",
        "outputId": "a760401a-f6b6-40a4-d69f-113a63cb104f"
      },
      "outputs": [
        {
          "name": "stdout",
          "output_type": "stream",
          "text": [
            "Analysis for column 'Unnamed: 0' (sorted by bad count in descending order):\n",
            "+----------+---------+----------+\n",
            "|Unnamed: 0|bad_count|good_count|\n",
            "+----------+---------+----------+\n",
            "|      3937|        1|         0|\n",
            "|      7159|        1|         0|\n",
            "|      7543|        1|         0|\n",
            "|      2473|        1|         0|\n",
            "|      3311|        1|         0|\n",
            "|      2509|        1|         0|\n",
            "|      1887|        1|         0|\n",
            "|      8133|        1|         0|\n",
            "|      2643|        1|         0|\n",
            "|      3680|        1|         0|\n",
            "|      2942|        1|         0|\n",
            "|      3324|        1|         0|\n",
            "|      2717|        1|         0|\n",
            "|      6252|        1|         0|\n",
            "|      1567|        1|         0|\n",
            "|      6905|        1|         0|\n",
            "|      1776|        1|         0|\n",
            "|      7637|        1|         0|\n",
            "|      8183|        1|         0|\n",
            "|      2772|        1|         0|\n",
            "+----------+---------+----------+\n",
            "only showing top 20 rows\n",
            "\n",
            "Analysis for column 'url' (sorted by bad count in descending order):\n",
            "+--------------------+---------+----------+\n",
            "|                 url|bad_count|good_count|\n",
            "+--------------------+---------+----------+\n",
            "|http://www.street...|        1|         0|\n",
            "|http://www.twiste...|        1|         0|\n",
            "|http://www.oriono...|        1|         0|\n",
            "|http://www.franck...|        1|         0|\n",
            "|http://hot-smut.c...|        1|         0|\n",
            "|http://www.top-22...|        1|         0|\n",
            "|http://www.gruppo...|        1|         0|\n",
            "|http://www.thesta...|        1|         0|\n",
            "|http://www.mature...|        1|         0|\n",
            "|http://www.fresha...|        1|         0|\n",
            "|http://www.escort...|        1|         0|\n",
            "|http://www.mifi-c...|        1|         0|\n",
            "|http://www.blackt...|        1|         0|\n",
            "|http://members.tr...|        1|         0|\n",
            "|http://www.covent...|        1|         0|\n",
            "|http://www.sex-ma...|        1|         0|\n",
            "|http://sex-toplis...|        1|         0|\n",
            "|http://www.thedog...|        1|         0|\n",
            "|http://www.erotik...|        1|         0|\n",
            "|http://www.kentuc...|        1|         0|\n",
            "+--------------------+---------+----------+\n",
            "only showing top 20 rows\n",
            "\n",
            "Analysis for column 'url_len' (sorted by bad count in descending order):\n",
            "+-------+---------+----------+\n",
            "|url_len|bad_count|good_count|\n",
            "+-------+---------+----------+\n",
            "|     29|       13|       453|\n",
            "|     30|       13|       408|\n",
            "|     28|       10|       446|\n",
            "|     25|        9|       463|\n",
            "|     31|        9|       428|\n",
            "|     27|        9|       449|\n",
            "|     32|        8|       338|\n",
            "|     44|        8|       143|\n",
            "|     22|        7|       314|\n",
            "|     34|        7|       352|\n",
            "|     39|        7|       129|\n",
            "|     35|        6|       290|\n",
            "|     40|        6|       173|\n",
            "|     37|        5|       183|\n",
            "|     21|        5|       240|\n",
            "|     24|        5|       409|\n",
            "|     50|        4|       100|\n",
            "|     26|        4|       495|\n",
            "|     33|        4|       304|\n",
            "|     38|        4|       183|\n",
            "+-------+---------+----------+\n",
            "only showing top 20 rows\n",
            "\n",
            "Analysis for column 'ip_add' (sorted by bad count in descending order):\n",
            "+---------------+---------+----------+\n",
            "|         ip_add|bad_count|good_count|\n",
            "+---------------+---------+----------+\n",
            "|    52.26.20.75|        1|         0|\n",
            "| 119.157.152.93|        1|         0|\n",
            "|  73.40.121.203|        1|         0|\n",
            "| 75.165.190.102|        1|         0|\n",
            "| 214.242.145.93|        1|         0|\n",
            "|100.148.143.153|        1|         0|\n",
            "|   87.206.89.70|        1|         0|\n",
            "|  133.106.47.88|        1|         0|\n",
            "|   36.49.85.236|        1|         0|\n",
            "|   218.246.39.3|        1|         0|\n",
            "|  199.200.15.72|        1|         0|\n",
            "|136.243.227.231|        1|         0|\n",
            "|  174.243.85.53|        1|         0|\n",
            "|   2.224.101.55|        1|         0|\n",
            "|133.110.171.186|        1|         0|\n",
            "|   220.197.59.3|        1|         0|\n",
            "|   8.134.89.102|        1|         0|\n",
            "| 38.185.208.151|        1|         0|\n",
            "| 115.86.216.191|        1|         0|\n",
            "|  128.88.223.58|        1|         0|\n",
            "+---------------+---------+----------+\n",
            "only showing top 20 rows\n",
            "\n",
            "Analysis for column 'geo_loc' (sorted by bad count in descending order):\n",
            "+--------------+---------+----------+\n",
            "|       geo_loc|bad_count|good_count|\n",
            "+--------------+---------+----------+\n",
            "| United States|       81|      4237|\n",
            "|         China|       19|       950|\n",
            "|         Japan|       14|       578|\n",
            "|   South Korea|       10|       285|\n",
            "|         India|        8|       107|\n",
            "|       Germany|        7|       340|\n",
            "|         Italy|        6|       154|\n",
            "|        Mexico|        4|        67|\n",
            "|        Canada|        4|       208|\n",
            "|        Russia|        3|       137|\n",
            "|        France|        3|       244|\n",
            "|     Hong Kong|        3|        32|\n",
            "|        Taiwan|        2|       105|\n",
            "|        Brazil|        2|       230|\n",
            "|        Israel|        2|        24|\n",
            "|       Tunisia|        2|        20|\n",
            "|     Australia|        2|       132|\n",
            "|      Bulgaria|        2|        17|\n",
            "|United Kingdom|        2|       287|\n",
            "|   Netherlands|        2|       144|\n",
            "+--------------+---------+----------+\n",
            "only showing top 20 rows\n",
            "\n",
            "Analysis for column 'tld' (sorted by bad count in descending order):\n",
            "+------+---------+----------+\n",
            "|   tld|bad_count|good_count|\n",
            "+------+---------+----------+\n",
            "|   com|      129|      5783|\n",
            "|   net|       14|       453|\n",
            "|    de|       13|        71|\n",
            "|   org|        7|      1245|\n",
            "| co.uk|        6|       398|\n",
            "|    fr|        4|        42|\n",
            "|    pl|        3|         6|\n",
            "| co.jp|        3|         4|\n",
            "|    it|        2|        42|\n",
            "|    nl|        2|        64|\n",
            "|com.au|        2|       110|\n",
            "|    us|        1|        19|\n",
            "|    jp|        1|         9|\n",
            "|com.ar|        1|         3|\n",
            "| ne.jp|        1|         2|\n",
            "|com.br|        1|         3|\n",
            "|    ca|        1|       119|\n",
            "| co.il|        1|         2|\n",
            "|    ch|        1|        21|\n",
            "|    at|        1|         8|\n",
            "+------+---------+----------+\n",
            "only showing top 20 rows\n",
            "\n",
            "Analysis for column 'who_is' (sorted by bad count in descending order):\n",
            "+----------+---------+----------+\n",
            "|    who_is|bad_count|good_count|\n",
            "+----------+---------+----------+\n",
            "|incomplete|      178|      1942|\n",
            "|  complete|       17|      7863|\n",
            "+----------+---------+----------+\n",
            "\n",
            "Analysis for column 'https' (sorted by bad count in descending order):\n",
            "+-----+---------+----------+\n",
            "|https|bad_count|good_count|\n",
            "+-----+---------+----------+\n",
            "|   no|      178|      1946|\n",
            "|  yes|       17|      7859|\n",
            "+-----+---------+----------+\n",
            "\n",
            "Analysis for column 'js_len' (sorted by bad count in descending order):\n",
            "+------+---------+----------+\n",
            "|js_len|bad_count|good_count|\n",
            "+------+---------+----------+\n",
            "|   0.0|        8|       529|\n",
            "| 486.0|        3|         0|\n",
            "| 360.9|        3|         0|\n",
            "| 837.0|        3|         0|\n",
            "| 819.9|        2|         0|\n",
            "| 612.9|        2|         0|\n",
            "| 511.2|        2|         0|\n",
            "| 418.5|        2|         0|\n",
            "| 315.9|        2|         0|\n",
            "| 734.4|        2|         0|\n",
            "| 408.6|        2|         0|\n",
            "| 518.4|        2|         0|\n",
            "| 547.2|        2|         0|\n",
            "| 584.1|        2|         0|\n",
            "| 792.0|        2|         0|\n",
            "| 356.4|        2|         0|\n",
            "| 798.3|        2|         0|\n",
            "| 751.5|        2|         0|\n",
            "| 604.8|        2|         0|\n",
            "| 801.0|        2|         0|\n",
            "+------+---------+----------+\n",
            "only showing top 20 rows\n",
            "\n",
            "Analysis for column 'js_obf_len' (sorted by bad count in descending order):\n",
            "+----------+---------+----------+\n",
            "|js_obf_len|bad_count|good_count|\n",
            "+----------+---------+----------+\n",
            "|       0.0|       18|      9805|\n",
            "|   549.054|        2|         0|\n",
            "|    484.38|        1|         0|\n",
            "|   273.636|        1|         0|\n",
            "|     179.1|        1|         0|\n",
            "|    171.99|        1|         0|\n",
            "|   391.716|        1|         0|\n",
            "|   456.192|        1|         0|\n",
            "|   314.289|        1|         0|\n",
            "|    241.11|        1|         0|\n",
            "|    255.06|        1|         0|\n",
            "|   313.065|        1|         0|\n",
            "|   240.408|        1|         0|\n",
            "|   489.888|        1|         0|\n",
            "|   650.808|        1|         0|\n",
            "|    516.96|        1|         0|\n",
            "|    460.08|        1|         0|\n",
            "|   779.148|        1|         0|\n",
            "|   229.887|        1|         0|\n",
            "|   382.158|        1|         0|\n",
            "+----------+---------+----------+\n",
            "only showing top 20 rows\n",
            "\n",
            "Analysis for column 'content' (sorted by bad count in descending order):\n",
            "+--------------------+---------+----------+\n",
            "|             content|bad_count|good_count|\n",
            "+--------------------+---------+----------+\n",
            "|bumfuck bunghole ...|        1|         0|\n",
            "|slutwear cybersli...|        1|         0|\n",
            "|sexually fag negr...|        1|         0|\n",
            "|hustler kraut dum...|        1|         0|\n",
            "|flatulence fuckof...|        1|         0|\n",
            "|jizjuice kuniling...|        1|         0|\n",
            "|aroused desire sh...|        1|         0|\n",
            "|showtime quickie ...|        1|         0|\n",
            "|spaghettibender w...|        1|         0|\n",
            "|screwyou hosejob ...|        1|         0|\n",
            "|diseases suckmyti...|        1|         0|\n",
            "|blacks kissass fo...|        1|         0|\n",
            "|angry willie fist...|        1|         0|\n",
            "|jesuschrist finge...|        1|         0|\n",
            "|pissin phuked col...|        1|         0|\n",
            "|sodomize reestie ...|        1|         0|\n",
            "|yankee snowback t...|        1|         0|\n",
            "|niggur hussy jigg...|        1|         0|\n",
            "|funfuck backseat ...|        1|         0|\n",
            "|hitler bigass fuc...|        1|         0|\n",
            "+--------------------+---------+----------+\n",
            "only showing top 20 rows\n",
            "\n",
            "Analysis for column 'label' (sorted by bad count in descending order):\n",
            "+-----+---------+----------+\n",
            "|label|bad_count|good_count|\n",
            "+-----+---------+----------+\n",
            "|  bad|      195|         0|\n",
            "| good|        0|      9805|\n",
            "+-----+---------+----------+\n",
            "\n"
          ]
        }
      ],
      "source": [
        "from pyspark.sql import SparkSession\n",
        "from pyspark.sql.functions import count, when\n",
        "\n",
        "\n",
        "# Get the list of column names in the DataFrame\n",
        "columns = df_spark.columns\n",
        "\n",
        "# Iterate over each column to calculate the count of good and bad labels\n",
        "for column in columns:\n",
        "    # Group by column and label, and count the occurrences\n",
        "    label_analysis = df_spark.groupBy(column, \"label\").count()\n",
        "\n",
        "    # Pivot the DataFrame to have separate columns for good and bad counts\n",
        "    label_analysis_pivot = label_analysis.groupBy(column).pivot(\"label\").sum(\"count\")\n",
        "\n",
        "    # Rename the columns for better clarity\n",
        "    label_analysis_pivot = label_analysis_pivot.withColumnRenamed(\"good\", \"good_count\").withColumnRenamed(\"bad\", \"bad_count\")\n",
        "\n",
        "    # Fill NaN values with 0\n",
        "    label_analysis_pivot = label_analysis_pivot.fillna(0)\n",
        "\n",
        "    # Sorting the DataFrame by the bad count in descending order\n",
        "    label_analysis_pivot = label_analysis_pivot.orderBy(\"bad_count\", ascending=False)\n",
        "\n",
        "    print(f\"Analysis for column '{column}' (sorted by bad count in descending order):\")\n",
        "    label_analysis_pivot.show()\n",
        "\n",
        "\n"
      ]
    },
    {
      "cell_type": "markdown",
      "metadata": {
        "id": "UkwjvKnuT5Zg"
      },
      "source": [
        "### GEO-LOCATION ANALYSIS :"
      ]
    },
    {
      "cell_type": "markdown",
      "metadata": {
        "id": "2dRCta3ouyd2"
      },
      "source": [
        "* **Determining the Ratio of Good to Bad URLs**"
      ]
    },
    {
      "cell_type": "code",
      "execution_count": null,
      "metadata": {
        "colab": {
          "base_uri": "https://localhost:8080/"
        },
        "id": "CuyTnqHXUSoo",
        "outputId": "615c8dab-3d5c-4dea-ed96-35ee33970bf2"
      },
      "outputs": [
        {
          "name": "stdout",
          "output_type": "stream",
          "text": [
            "+--------------+----------+---------+-----------+----------+---------+\n",
            "|       geo_loc|good_count|bad_count|total_count|good_ratio|bad_ratio|\n",
            "+--------------+----------+---------+-----------+----------+---------+\n",
            "| United States|      4237|       81|       4318|     0.981|    0.019|\n",
            "|         China|       950|       19|        969|     0.980|    0.020|\n",
            "|         Japan|       578|       14|        592|     0.976|    0.024|\n",
            "|   South Korea|       285|       10|        295|     0.966|    0.034|\n",
            "|         India|       107|        8|        115|     0.930|    0.070|\n",
            "|       Germany|       340|        7|        347|     0.980|    0.020|\n",
            "|         Italy|       154|        6|        160|     0.963|    0.037|\n",
            "|        Mexico|        67|        4|         71|     0.944|    0.056|\n",
            "|        Canada|       208|        4|        212|     0.981|    0.019|\n",
            "|        Russia|       137|        3|        140|     0.979|    0.021|\n",
            "|        France|       244|        3|        247|     0.988|    0.012|\n",
            "|     Hong Kong|        32|        3|         35|     0.914|    0.086|\n",
            "|        Taiwan|       105|        2|        107|     0.981|    0.019|\n",
            "|        Israel|        24|        2|         26|     0.923|    0.077|\n",
            "|       Tunisia|        20|        2|         22|     0.909|    0.091|\n",
            "|        Brazil|       230|        2|        232|     0.991|    0.009|\n",
            "|     Australia|       132|        2|        134|     0.985|    0.015|\n",
            "|      Bulgaria|        17|        2|         19|     0.895|    0.105|\n",
            "|United Kingdom|       287|        2|        289|     0.993|    0.007|\n",
            "|   Netherlands|       144|        2|        146|     0.986|    0.014|\n",
            "+--------------+----------+---------+-----------+----------+---------+\n",
            "only showing top 20 rows\n",
            "\n"
          ]
        }
      ],
      "source": [
        "from pyspark.sql import SparkSession\n",
        "from pyspark.sql.functions import count, when, format_number\n",
        "\n",
        "# Group by geo_loc and calculate the count of good and bad URLs\n",
        "geo_loc_analysis = df_spark.groupBy('geo_loc') \\\n",
        "    .agg(count(when(df_spark.label == 'good', True)).alias('good_count'),\n",
        "         count(when(df_spark.label != 'good', True)).alias('bad_count'))\n",
        "\n",
        "# Calculate the total count of URLs for each geographical location\n",
        "geo_loc_analysis = geo_loc_analysis.withColumn('total_count', geo_loc_analysis.good_count + geo_loc_analysis.bad_count)\n",
        "\n",
        "# Calculate the ratio of good and bad URLs to total URLs for each geographical location\n",
        "geo_loc_analysis = geo_loc_analysis.withColumn('good_ratio', format_number(geo_loc_analysis.good_count / geo_loc_analysis.total_count, 3)) \\\n",
        "    .withColumn('bad_ratio', format_number(geo_loc_analysis.bad_count / geo_loc_analysis.total_count, 3))\n",
        "\n",
        "# Sort the DataFrame by the bad count in descending order\n",
        "geo_loc_analysis = geo_loc_analysis.orderBy('bad_count', ascending=False)\n",
        "\n",
        "geo_loc_analysis.show()\n",
        "\n"
      ]
    },
    {
      "cell_type": "markdown",
      "metadata": {
        "id": "Kis7JHJUvBtP"
      },
      "source": [
        "* **Exploring Geo Locations with High Incidences of Malicious Labels**"
      ]
    },
    {
      "cell_type": "code",
      "execution_count": null,
      "metadata": {
        "colab": {
          "base_uri": "https://localhost:8080/"
        },
        "id": "p1f8kp80N1PP",
        "outputId": "5a460168-85e9-47a0-f898-c031066a42e6"
      },
      "outputs": [
        {
          "name": "stdout",
          "output_type": "stream",
          "text": [
            "Analysis for geo_loc: Germany\n",
            "+---+-----+----------+---------+\n",
            "|tld|https|good_count|bad_count|\n",
            "+---+-----+----------+---------+\n",
            "|com|   no|         0|        6|\n",
            "| it|   no|         0|        1|\n",
            "+---+-----+----------+---------+\n",
            "\n",
            "Analysis for geo_loc: United States\n",
            "+-----+-----+----------+---------+\n",
            "|  tld|https|good_count|bad_count|\n",
            "+-----+-----+----------+---------+\n",
            "|  com|   no|         0|       50|\n",
            "|  com|  yes|         0|        5|\n",
            "|   de|   no|         0|        4|\n",
            "|  net|   no|         0|        4|\n",
            "|co.uk|   no|         0|        3|\n",
            "+-----+-----+----------+---------+\n",
            "\n",
            "Analysis for geo_loc: India\n",
            "+------+-----+----------+---------+\n",
            "|   tld|https|good_count|bad_count|\n",
            "+------+-----+----------+---------+\n",
            "|   com|   no|         0|        3|\n",
            "|   net|   no|         0|        1|\n",
            "|    cz|   no|         0|        1|\n",
            "|com.ar|   no|         0|        1|\n",
            "|com.au|   no|         0|        1|\n",
            "+------+-----+----------+---------+\n",
            "\n",
            "Analysis for geo_loc: China\n",
            "+-----+-----+----------+---------+\n",
            "|  tld|https|good_count|bad_count|\n",
            "+-----+-----+----------+---------+\n",
            "|  com|   no|         0|       10|\n",
            "|   de|   no|         0|        2|\n",
            "|co.jp|   no|         0|        2|\n",
            "|  com|  yes|         0|        2|\n",
            "|   ch|   no|         0|        1|\n",
            "+-----+-----+----------+---------+\n",
            "\n",
            "Analysis for geo_loc: Italy\n",
            "+---+-----+----------+---------+\n",
            "|tld|https|good_count|bad_count|\n",
            "+---+-----+----------+---------+\n",
            "|com|   no|         0|        3|\n",
            "|net|   no|         0|        1|\n",
            "|com|  yes|         0|        1|\n",
            "|org|   no|         0|        1|\n",
            "+---+-----+----------+---------+\n",
            "\n",
            "Analysis for geo_loc: South Korea\n",
            "+-----+-----+----------+---------+\n",
            "|  tld|https|good_count|bad_count|\n",
            "+-----+-----+----------+---------+\n",
            "|  com|   no|         0|        7|\n",
            "|   pl|   no|         0|        1|\n",
            "|  net|   no|         0|        1|\n",
            "|co.jp|   no|         0|        1|\n",
            "+-----+-----+----------+---------+\n",
            "\n",
            "Analysis for geo_loc: Mexico\n",
            "+-----+-----+----------+---------+\n",
            "|  tld|https|good_count|bad_count|\n",
            "+-----+-----+----------+---------+\n",
            "|  com|   no|         0|        2|\n",
            "|ne.jp|   no|         0|        1|\n",
            "|  org|   no|         0|        1|\n",
            "+-----+-----+----------+---------+\n",
            "\n",
            "Analysis for geo_loc: Canada\n",
            "+---+-----+----------+---------+\n",
            "|tld|https|good_count|bad_count|\n",
            "+---+-----+----------+---------+\n",
            "|com|   no|         0|        3|\n",
            "| de|   no|         0|        1|\n",
            "+---+-----+----------+---------+\n",
            "\n",
            "Analysis for geo_loc: Japan\n",
            "+---+-----+----------+---------+\n",
            "|tld|https|good_count|bad_count|\n",
            "+---+-----+----------+---------+\n",
            "|com|   no|         0|        5|\n",
            "| de|   no|         0|        4|\n",
            "|net|   no|         0|        2|\n",
            "| jp|   no|         0|        1|\n",
            "|net|  yes|         0|        1|\n",
            "+---+-----+----------+---------+\n",
            "\n"
          ]
        }
      ],
      "source": [
        "from pyspark.sql import SparkSession\n",
        "from pyspark.sql.functions import count, when, desc\n",
        "\n",
        "# Filter the DataFrame to get the list of unique geo_loc values where the bad count is greater than 3\n",
        "geo_locs_with_bad_count_gt_3 = df_spark.filter(df_spark[\"label\"] != \"good\").groupBy(\"geo_loc\").agg(count(\"*\").alias(\"bad_count\")).filter(\"bad_count > 3\").select(\"geo_loc\").rdd.map(lambda row: row[0]).collect()\n",
        "\n",
        "# Iterate over each unique geo_loc with bad count > 3\n",
        "for geo_loc in geo_locs_with_bad_count_gt_3:\n",
        "    print(f\"Analysis for geo_loc: {geo_loc}\")\n",
        "\n",
        "    # Filter the DataFrame for the specific geo_loc where the label is bad\n",
        "    geo_loc_bad = df_spark.filter((df_spark[\"geo_loc\"] == geo_loc) & (df_spark[\"label\"] != \"good\"))\n",
        "\n",
        "    # Group by other columns and count good and bad labels\n",
        "    geo_loc_analysis = geo_loc_bad.groupBy(\"tld\", \"https\").agg(\n",
        "        count(when(geo_loc_bad[\"label\"] == \"good\", True)).alias(\"good_count\"),\n",
        "        count(when(geo_loc_bad[\"label\"] != \"good\", True)).alias(\"bad_count\")\n",
        "    )\n",
        "\n",
        "    # Sort the analysis results in decreasing order of the bad count and show only top 5 counts\n",
        "    geo_loc_analysis = geo_loc_analysis.orderBy(desc(\"bad_count\")).limit(5)\n",
        "\n",
        "    geo_loc_analysis.show()\n",
        "\n"
      ]
    },
    {
      "cell_type": "markdown",
      "metadata": {
        "id": "iL0ZQ6FzvL3F"
      },
      "source": [
        "###TOP LEVEL DOMAIN ANALYSIS :"
      ]
    },
    {
      "cell_type": "markdown",
      "metadata": {
        "id": "yQOgiC7hc0yY"
      },
      "source": [
        "#### Top 10 TLDs with the Highest Total Counts of Good and Bad URLs"
      ]
    },
    {
      "cell_type": "code",
      "execution_count": null,
      "metadata": {
        "colab": {
          "base_uri": "https://localhost:8080/"
        },
        "id": "0yRgL6u6ZNVd",
        "outputId": "e7d56f17-d414-4545-8a3b-340a5884a044"
      },
      "outputs": [
        {
          "name": "stdout",
          "output_type": "stream",
          "text": [
            "+------------+---------+--------+\n",
            "|         tld|good_urls|bad_urls|\n",
            "+------------+---------+--------+\n",
            "|         com|     5783|     129|\n",
            "|         org|     1245|       7|\n",
            "|         edu|      560|       0|\n",
            "|         net|      453|      14|\n",
            "|       co.uk|      398|       6|\n",
            "|          ca|      119|       1|\n",
            "|      com.au|      110|       2|\n",
            "|      org.uk|       91|       0|\n",
            "|          de|       71|      13|\n",
            "|         gov|       73|       0|\n",
            "|          nl|       64|       2|\n",
            "|       ac.uk|       62|       0|\n",
            "|          fr|       42|       4|\n",
            "|          it|       42|       2|\n",
            "|        info|       34|       0|\n",
            "|blogspot.com|       32|       0|\n",
            "|       co.nz|       27|       0|\n",
            "|          cz|       22|       1|\n",
            "|          ch|       21|       1|\n",
            "|          us|       19|       1|\n",
            "+------------+---------+--------+\n",
            "only showing top 20 rows\n",
            "\n"
          ]
        }
      ],
      "source": [
        "from pyspark.sql.functions import count, when, desc\n",
        "\n",
        "# Group by TLD and count good and bad URLs\n",
        "tld_analysis = df_spark.groupBy(\"tld\").agg(\n",
        "    count(when(df_spark[\"label\"] == \"good\", True)).alias(\"good_urls\"),\n",
        "    count(when(df_spark[\"label\"] != \"good\", True)).alias(\"bad_urls\")\n",
        ")\n",
        "\n",
        "# Calculate the percentage of good and bad URLs\n",
        "tld_analysis = tld_analysis.withColumn('total_urls', tld_analysis.good_urls + tld_analysis.bad_urls)\n",
        "tld_analysis = tld_analysis.withColumn(\n",
        "    \"good_percentage\", tld_analysis[\"good_urls\"] / (tld_analysis[\"good_urls\"] + tld_analysis[\"bad_urls\"]) * 100\n",
        ").withColumn(\n",
        "    \"bad_percentage\", tld_analysis[\"bad_urls\"] / (tld_analysis[\"good_urls\"] + tld_analysis[\"bad_urls\"]) * 100\n",
        ")\n",
        "\n",
        "# Select top 10 TLDs with highest bad percentage\n",
        "top_bad_tlds = tld_analysis.select(\"tld\", \"good_urls\",'bad_urls').orderBy(desc(\"total_urls\"))\n",
        "\n",
        "#The top TLDs with highest bad percentage\n",
        "top_bad_tlds.show()\n",
        "\n"
      ]
    },
    {
      "cell_type": "code",
      "execution_count": null,
      "metadata": {
        "colab": {
          "base_uri": "https://localhost:8080/",
          "height": 606
        },
        "id": "Hp0Y2XMpc8yg",
        "outputId": "a3d63081-fcba-4093-a02b-39f48e48fe68"
      },
      "outputs": [
        {
          "data": {
            "image/png": "[encoded data removed]",
            "text/plain": [
              "<Figure size 1000x600 with 1 Axes>"
            ]
          },
          "metadata": {},
          "output_type": "display_data"
        }
      ],
      "source": [
        "import matplotlib.pyplot as plt\n",
        "\n",
        "# Convert PySpark DataFrame to Pandas DataFrame\n",
        "top_bad_tlds_pandas = top_bad_tlds.limit(10).toPandas()\n",
        "\n",
        "# Plotting\n",
        "plt.figure(figsize=(10, 6))\n",
        "\n",
        "# Number of TLDs\n",
        "num_tlds = len(top_bad_tlds_pandas)\n",
        "\n",
        "# Width of each bar\n",
        "bar_width = 0.35\n",
        "\n",
        "# X locations for the groups\n",
        "index = range(num_tlds)\n",
        "\n",
        "# Plot bars for good URLs\n",
        "plt.bar(index, top_bad_tlds_pandas['good_urls'], bar_width, label='Good URLs')\n",
        "\n",
        "# Plot bars for bad URLs\n",
        "plt.bar([i + bar_width for i in index], top_bad_tlds_pandas['bad_urls'], bar_width, label='Bad URLs')\n",
        "\n",
        "# Customizing the plot\n",
        "plt.xlabel('TLD', fontsize=12)\n",
        "plt.ylabel('Count', fontsize=12)\n",
        "plt.title('Top 10 TLDs with the Highest Total Counts of Good and Bad URLs', fontsize=14, fontweight='bold')\n",
        "plt.xticks([i + bar_width / 2 for i in index], top_bad_tlds_pandas['tld'], rotation=45)\n",
        "plt.legend()\n",
        "\n",
        "# Show plot\n",
        "plt.tight_layout()\n",
        "plt.show()\n"
      ]
    },
    {
      "cell_type": "markdown",
      "metadata": {
        "id": "yNRacQKGvY5x"
      },
      "source": [
        "####Top TLD'S With Highest Percentage Of Good URLs"
      ]
    },
    {
      "cell_type": "code",
      "execution_count": null,
      "metadata": {
        "colab": {
          "base_uri": "https://localhost:8080/"
        },
        "id": "W99Kk57qFCb4",
        "outputId": "e1010cf3-3071-47bc-ebb6-1e26a4689eca"
      },
      "outputs": [
        {
          "name": "stdout",
          "output_type": "stream",
          "text": [
            "+------------+----------+---------------+\n",
            "|         tld|total_urls|good_percentage|\n",
            "+------------+----------+---------------+\n",
            "|         edu|       560|          100.0|\n",
            "|      org.uk|        91|          100.0|\n",
            "|         gov|        73|          100.0|\n",
            "|       ac.uk|        62|          100.0|\n",
            "|        info|        34|          100.0|\n",
            "|blogspot.com|        32|          100.0|\n",
            "|       co.nz|        27|          100.0|\n",
            "|          se|        20|          100.0|\n",
            "|          be|        19|          100.0|\n",
            "|          dk|        19|          100.0|\n",
            "|       co.za|        18|          100.0|\n",
            "|          ie|        18|          100.0|\n",
            "|      edu.au|        15|          100.0|\n",
            "|         biz|        15|          100.0|\n",
            "|          es|        14|          100.0|\n",
            "|          ru|        14|          100.0|\n",
            "|      org.au|        14|          100.0|\n",
            "|      com.tw|        12|          100.0|\n",
            "|          fi|        12|          100.0|\n",
            "|      net.au|        11|          100.0|\n",
            "+------------+----------+---------------+\n",
            "only showing top 20 rows\n",
            "\n"
          ]
        }
      ],
      "source": [
        "from pyspark.sql import SparkSession\n",
        "from pyspark.sql.functions import count, when\n",
        "\n",
        "\n",
        "# Group by TLD and count good and bad URLs\n",
        "tld_analysis = df_spark.groupBy(\"tld\").agg(\n",
        "    count(when(df_spark[\"label\"] == \"good\", True)).alias(\"good_urls\"),\n",
        "    count(when(df_spark[\"label\"] != \"good\", True)).alias(\"bad_urls\")\n",
        ")\n",
        "tld_analysis = tld_analysis.withColumn('total_urls', tld_analysis.good_urls + tld_analysis.bad_urls)\n",
        "# Optionally, calculate the percentage of good and bad URLs\n",
        "tld_analysis = tld_analysis.withColumn(\n",
        "    \"good_percentage\", tld_analysis[\"good_urls\"] / (tld_analysis[\"good_urls\"] + tld_analysis[\"bad_urls\"]) * 100\n",
        ").withColumn(\n",
        "    \"bad_percentage\", tld_analysis[\"bad_urls\"] / (tld_analysis[\"good_urls\"] + tld_analysis[\"bad_urls\"]) * 100\n",
        ")\n",
        "top_good_tlds = tld_analysis.select(\"tld\", \"total_urls\",\"good_percentage\").orderBy(desc(\"good_percentage\"), desc(\"total_urls\"))\n",
        "\n",
        "# Show the results\n",
        "top_good_tlds.show()\n",
        "\n",
        "\n",
        "\n"
      ]
    },
    {
      "cell_type": "markdown",
      "metadata": {
        "id": "X-0uFfvXnm9I"
      },
      "source": [
        "####Top TLD'S With Highest Percentage Of Bad URLs"
      ]
    },
    {
      "cell_type": "code",
      "execution_count": null,
      "metadata": {
        "colab": {
          "base_uri": "https://localhost:8080/"
        },
        "id": "X4E7hqcGGB0e",
        "outputId": "eb76226c-0993-4d4c-97a2-de0f4d214692"
      },
      "outputs": [
        {
          "name": "stdout",
          "output_type": "stream",
          "text": [
            "+------+----------+------------------+\n",
            "|   tld|total_urls|    bad_percentage|\n",
            "+------+----------+------------------+\n",
            "| co.jp|         7|42.857142857142854|\n",
            "|    pl|         9| 33.33333333333333|\n",
            "| co.il|         3| 33.33333333333333|\n",
            "| ne.jp|         3| 33.33333333333333|\n",
            "|com.ar|         4|              25.0|\n",
            "|com.br|         4|              25.0|\n",
            "|    de|        84|15.476190476190476|\n",
            "|    at|         9| 11.11111111111111|\n",
            "|    jp|        10|              10.0|\n",
            "|    fr|        46| 8.695652173913043|\n",
            "|    us|        20|               5.0|\n",
            "|    it|        44| 4.545454545454546|\n",
            "|    ch|        22| 4.545454545454546|\n",
            "|    cz|        23|4.3478260869565215|\n",
            "|    nl|        66|3.0303030303030303|\n",
            "|   net|       467|2.9978586723768736|\n",
            "|   com|      5912| 2.182002706359946|\n",
            "|com.au|       112|1.7857142857142856|\n",
            "| co.uk|       404|1.4851485148514851|\n",
            "|    ca|       120|0.8333333333333334|\n",
            "+------+----------+------------------+\n",
            "only showing top 20 rows\n",
            "\n"
          ]
        }
      ],
      "source": [
        "from pyspark.sql.functions import count, when, desc\n",
        "\n",
        "# Group by TLD and count good and bad URLs\n",
        "tld_analysis = df_spark.groupBy(\"tld\").agg(\n",
        "    count(when(df_spark[\"label\"] == \"good\", True)).alias(\"good_urls\"),\n",
        "    count(when(df_spark[\"label\"] != \"good\", True)).alias(\"bad_urls\")\n",
        ")\n",
        "\n",
        "# Calculate the percentage of good and bad URLs\n",
        "tld_analysis = tld_analysis.withColumn('total_urls', tld_analysis.good_urls + tld_analysis.bad_urls)\n",
        "tld_analysis = tld_analysis.withColumn(\n",
        "    \"good_percentage\", tld_analysis[\"good_urls\"] / (tld_analysis[\"good_urls\"] + tld_analysis[\"bad_urls\"]) * 100\n",
        ").withColumn(\n",
        "    \"bad_percentage\", tld_analysis[\"bad_urls\"] / (tld_analysis[\"good_urls\"] + tld_analysis[\"bad_urls\"]) * 100\n",
        ")\n",
        "\n",
        "# Select top 10 TLDs with highest bad percentage\n",
        "top_bad_tlds = tld_analysis.select(\"tld\", \"total_urls\",\"bad_percentage\").orderBy(desc(\"bad_percentage\"), desc(\"total_urls\"))\n",
        "\n",
        "# Show the top TLDs with highest bad percentage\n",
        "top_bad_tlds.show()\n",
        "\n"
      ]
    },
    {
      "cell_type": "markdown",
      "metadata": {
        "id": "zyvQaws9eL7m"
      },
      "source": [
        "###Correlation Matrix\n"
      ]
    },
    {
      "cell_type": "code",
      "execution_count": null,
      "metadata": {
        "colab": {
          "base_uri": "https://localhost:8080/",
          "height": 315
        },
        "id": "yloPGXj4dy0-",
        "outputId": "bfef4b4b-4d4e-4c37-b9a0-85a5305f6dd6"
      },
      "outputs": [
        {
          "data": {
            "image/png": "[encoded data removed]",
            "text/plain": [
              "<Figure size 400x300 with 1 Axes>"
            ]
          },
          "metadata": {},
          "output_type": "display_data"
        }
      ],
      "source": [
        "import matplotlib.pyplot as plt\n",
        "import seaborn as sns\n",
        "\n",
        "# Calculate the correlation matrix\n",
        "correlation_matrix = df_spark.select(['url_len', 'js_len', 'js_obf_len']).toPandas().corr()\n",
        "\n",
        "# Plot the heatmap\n",
        "plt.figure(figsize=(4, 3))\n",
        "sns.heatmap(correlation_matrix, annot=True, cmap='coolwarm', cbar=False)\n",
        "plt.title('Correlation Heatmap', fontsize=14)\n",
        "plt.show()\n"
      ]
    },
    {
      "cell_type": "markdown",
      "metadata": {
        "id": "PwBVaMxPygrk"
      },
      "source": [
        "###Distribution of js_len and js_ofs_len by labels"
      ]
    },
    {
      "cell_type": "code",
      "execution_count": null,
      "metadata": {
        "colab": {
          "base_uri": "https://localhost:8080/",
          "height": 569
        },
        "id": "V0D1M5KGlOHa",
        "outputId": "a29e5d35-61f9-4fbd-ef3a-386678bcd08b"
      },
      "outputs": [
        {
          "data": {
            "image/png": "[encoded data removed]",
            "text/plain": [
              "<Figure size 1000x600 with 1 Axes>"
            ]
          },
          "metadata": {},
          "output_type": "display_data"
        }
      ],
      "source": [
        "from pyspark.sql import SparkSession\n",
        "import matplotlib.pyplot as plt\n",
        "\n",
        "# Import necessary libraries and functions\n",
        "import pyspark.sql.functions as F\n",
        "\n",
        "# Convert PySpark DataFrame to Pandas DataFrame\n",
        "df_pandas = df_spark.toPandas()\n",
        "\n",
        "# Plot the scatter plot\n",
        "plt.figure(figsize=(10, 6))\n",
        "\n",
        "# Separate the data for 'good' and 'bad' labels\n",
        "good_data = df_pandas[df_pandas['label'] == 'good']\n",
        "bad_data = df_pandas[df_pandas['label'] == 'bad']\n",
        "\n",
        "# Plot 'good' data points in red\n",
        "plt.scatter(x=good_data['js_len'], y=good_data['js_obf_len'], c='red', label='good')\n",
        "\n",
        "# Plot 'bad' data points in blue\n",
        "plt.scatter(x=bad_data['js_len'], y=bad_data['js_obf_len'], c='blue', label='bad')\n",
        "\n",
        "plt.title('Scatter Plot of JS Length vs JS Obfuscated Length', fontsize=14, fontweight='bold')\n",
        "plt.xlabel('JS Length', fontsize=12)\n",
        "plt.ylabel('JS Obfuscated Length', fontsize=12)\n",
        "plt.grid(True)\n",
        "plt.legend(loc='upper left')  # Place legend at upper right\n",
        "plt.show()\n"
      ]
    },
    {
      "cell_type": "code",
      "execution_count": null,
      "metadata": {
        "colab": {
          "base_uri": "https://localhost:8080/"
        },
        "id": "oDaZ6ZPSy6Ll",
        "outputId": "8487fc83-3e61-4c69-ae29-a441a6add02a"
      },
      "outputs": [
        {
          "name": "stdout",
          "output_type": "stream",
          "text": [
            "+-----+------------------+-------------+----------+----------+\n",
            "|label|       mean_js_len|median_js_len|min_js_len|max_js_len|\n",
            "+-----+------------------+-------------+----------+----------+\n",
            "|  bad| 572.4092307692306|        593.1|       0.0|     853.2|\n",
            "| good|109.01677715451301|        111.0|       0.0|     199.5|\n",
            "+-----+------------------+-------------+----------+----------+\n",
            "\n",
            "+-----+------------------+-----------------+--------------+--------------+\n",
            "|label|   mean_js_obf_len|median_js_obf_len|min_js_obf_len|max_js_obf_len|\n",
            "+-----+------------------+-----------------+--------------+--------------+\n",
            "|  bad|368.86786153846157|           367.65|           0.0|       792.702|\n",
            "| good|               0.0|              0.0|           0.0|           0.0|\n",
            "+-----+------------------+-----------------+--------------+--------------+\n",
            "\n"
          ]
        }
      ],
      "source": [
        "# Grouping the data by label and computing mean, median, min, and max values for 'js_len'\n",
        "js_len_stats = df_spark.groupby(\"label\").agg(\n",
        "    F.mean(\"js_len\").alias(\"mean_js_len\"),\n",
        "    F.expr(\"percentile_approx(js_len, 0.5)\").alias(\"median_js_len\"),\n",
        "    F.min(\"js_len\").alias(\"min_js_len\"),\n",
        "    F.max(\"js_len\").alias(\"max_js_len\")\n",
        ")\n",
        "\n",
        "# Showing the statistics for 'js_len'\n",
        "js_len_stats.show()\n",
        "\n",
        "# Grouping the data by label and computing mean, median, min, and max values for 'js_obf_len'\n",
        "js_obf_len_stats = df_spark.groupby(\"label\").agg(\n",
        "    F.mean(\"js_obf_len\").alias(\"mean_js_obf_len\"),\n",
        "    F.expr(\"percentile_approx(js_obf_len, 0.5)\").alias(\"median_js_obf_len\"),\n",
        "    F.min(\"js_obf_len\").alias(\"min_js_obf_len\"),\n",
        "    F.max(\"js_obf_len\").alias(\"max_js_obf_len\")\n",
        ")\n",
        "\n",
        "# Showing the statistics for 'js_obf_len'\n",
        "js_obf_len_stats.show()\n"
      ]
    },
    {
      "cell_type": "code",
      "execution_count": null,
      "metadata": {
        "colab": {
          "base_uri": "https://localhost:8080/",
          "height": 564
        },
        "id": "mh3unPS2zlxt",
        "outputId": "c0e384f7-be59-4e3d-c83e-21f72fe1ba62"
      },
      "outputs": [
        {
          "data": {
            "image/png": "[encoded data removed]",
            "text/plain": [
              "<Figure size 1000x600 with 1 Axes>"
            ]
          },
          "metadata": {},
          "output_type": "display_data"
        }
      ],
      "source": [
        "label_stats = df_spark.groupby(\"label\").agg(\n",
        "    F.mean(\"js_len\").alias(\"mean_js_len\"),\n",
        "    F.expr(\"percentile_approx(js_len, 0.5)\").alias(\"median_js_len\"),\n",
        "    F.min(\"js_len\").alias(\"min_js_len\"),\n",
        "    F.max(\"js_len\").alias(\"max_js_len\")\n",
        ")\n",
        "\n",
        "# Convert DataFrame to Pandas for visualization\n",
        "label_stats_pd = label_stats.toPandas()\n",
        "\n",
        "\n",
        "# Plotting histograms for URL lengths based on label\n",
        "good_urls = df_spark.filter(df_spark.label == \"good\").select(\"js_len\").rdd.flatMap(lambda x: x).collect()\n",
        "bad_urls = df_spark.filter(df_spark.label != \"good\").select(\"js_len\").rdd.flatMap(lambda x: x).collect()\n",
        "\n",
        "plt.figure(figsize=(10, 6))\n",
        "plt.hist(good_urls, bins=20, alpha=0.5, label='Good URLs', color='blue')\n",
        "plt.hist(bad_urls, bins=20, alpha=0.5, label='Bad URLs', color='red')\n",
        "plt.xlabel('JS Length')\n",
        "plt.ylabel('Frequency')\n",
        "plt.title('Distribution of JS Lengths by Label')\n",
        "plt.legend(loc='upper right')\n",
        "plt.show()"
      ]
    },
    {
      "cell_type": "markdown",
      "metadata": {
        "id": "l8f7ZctOln8d"
      },
      "source": [
        "### Distribution of URL length by labels"
      ]
    },
    {
      "cell_type": "code",
      "execution_count": null,
      "metadata": {
        "colab": {
          "base_uri": "https://localhost:8080/"
        },
        "id": "iw2ALXkcfJXx",
        "outputId": "5f6a20d5-1fd4-4e8e-ecef-9e80f4ad9398"
      },
      "outputs": [
        {
          "name": "stdout",
          "output_type": "stream",
          "text": [
            "+-----+-----------------+--------------+-----------+-----------+\n",
            "|label|     mean_url_len|median_url_len|min_url_len|max_url_len|\n",
            "+-----+-----------------+--------------+-----------+-----------+\n",
            "|  bad|35.66153846153846|            32|         18|         76|\n",
            "| good|35.75410504844467|            32|         14|        197|\n",
            "+-----+-----------------+--------------+-----------+-----------+\n",
            "\n"
          ]
        }
      ],
      "source": [
        "# Grouping the data by label and computing mean, median, min, and max URL lengths\n",
        "label_stats = df_spark.groupby(\"label\").agg(\n",
        "    F.mean(\"url_len\").alias(\"mean_url_len\"),\n",
        "    F.expr(\"percentile_approx(url_len, 0.5)\").alias(\"median_url_len\"),\n",
        "    F.min(\"url_len\").alias(\"min_url_len\"),\n",
        "    F.max(\"url_len\").alias(\"max_url_len\")\n",
        ")\n",
        "\n",
        "# Showing the statistics\n",
        "label_stats.show()"
      ]
    },
    {
      "cell_type": "code",
      "execution_count": null,
      "metadata": {
        "colab": {
          "base_uri": "https://localhost:8080/",
          "height": 564
        },
        "id": "G4b4JOkIezWp",
        "outputId": "f3f8dbb2-cf40-49dd-9014-be9a1bb8ee5a"
      },
      "outputs": [
        {
          "data": {
            "image/png": "[encoded data removed]",
            "text/plain": [
              "<Figure size 1000x600 with 1 Axes>"
            ]
          },
          "metadata": {},
          "output_type": "display_data"
        }
      ],
      "source": [
        "# Grouping the data by label and computing mean, median, min, and max URL lengths\n",
        "label_stats = df_spark.groupby(\"label\").agg(\n",
        "    F.mean(\"url_len\").alias(\"mean_url_len\"),\n",
        "    F.expr(\"percentile_approx(url_len, 0.5)\").alias(\"median_url_len\"),\n",
        "    F.min(\"url_len\").alias(\"min_url_len\"),\n",
        "    F.max(\"url_len\").alias(\"max_url_len\")\n",
        ")\n",
        "\n",
        "# Convert DataFrame to Pandas for visualization\n",
        "label_stats_pd = label_stats.toPandas()\n",
        "\n",
        "\n",
        "# Plotting histograms for URL lengths based on label\n",
        "good_urls = df_spark.filter(df_spark.label == \"good\").select(\"url_len\").rdd.flatMap(lambda x: x).collect()\n",
        "bad_urls = df_spark.filter(df_spark.label != \"good\").select(\"url_len\").rdd.flatMap(lambda x: x).collect()\n",
        "\n",
        "plt.figure(figsize=(10, 6))\n",
        "plt.hist(good_urls, bins=20, alpha=0.5, label='Good URLs', color='blue',edgecolor='black')\n",
        "plt.hist(bad_urls, bins=20, alpha=0.5, label='Bad URLs', color='red',edgecolor='black')\n",
        "plt.xlabel('URL Length')\n",
        "plt.ylabel('Frequency')\n",
        "plt.title('Distribution of URL Lengths by Label')\n",
        "plt.legend(loc='upper right')\n",
        "plt.show()"
      ]
    },
    {
      "cell_type": "markdown",
      "metadata": {
        "id": "n50ppF9KDQ7z"
      },
      "source": [
        "# DATA PREPROCESSING\n",
        "\n",
        "\n",
        "\n"
      ]
    },
    {
      "cell_type": "markdown",
      "metadata": {
        "id": "1XruyS2zVLWu"
      },
      "source": [
        "## DATA CLEANING"
      ]
    },
    {
      "cell_type": "markdown",
      "metadata": {
        "id": "N79yl9_iCVDw"
      },
      "source": [
        "* **Finding Nulls**\n",
        "\n",
        "\n",
        "---\n",
        "\n"
      ]
    },
    {
      "cell_type": "code",
      "execution_count": null,
      "metadata": {
        "colab": {
          "base_uri": "https://localhost:8080/"
        },
        "id": "PQCl10t8-ZTr",
        "outputId": "ffa4eb2d-de35-48da-d7eb-0241454fc781"
      },
      "outputs": [
        {
          "name": "stderr",
          "output_type": "stream",
          "text": [
            "24/05/06 23:35:03 WARN TaskSetManager: Stage 1 contains a task of very large size (10434 KiB). The maximum recommended task size is 1000 KiB.\n",
            "24/05/06 23:35:04 WARN TaskSetManager: Stage 4 contains a task of very large size (10434 KiB). The maximum recommended task size is 1000 KiB.\n"
          ]
        },
        {
          "name": "stdout",
          "output_type": "stream",
          "text": [
            "Total number of null rows in url : 0\n"
          ]
        },
        {
          "name": "stderr",
          "output_type": "stream",
          "text": [
            "24/05/06 23:35:05 WARN TaskSetManager: Stage 7 contains a task of very large size (10434 KiB). The maximum recommended task size is 1000 KiB.\n"
          ]
        },
        {
          "name": "stdout",
          "output_type": "stream",
          "text": [
            "Total number of null rows in url_len : 0\n"
          ]
        },
        {
          "name": "stderr",
          "output_type": "stream",
          "text": [
            "24/05/06 23:35:06 WARN TaskSetManager: Stage 10 contains a task of very large size (10434 KiB). The maximum recommended task size is 1000 KiB.\n"
          ]
        },
        {
          "name": "stdout",
          "output_type": "stream",
          "text": [
            "Total number of null rows in ip_add : 0\n"
          ]
        },
        {
          "name": "stderr",
          "output_type": "stream",
          "text": [
            "24/05/06 23:35:07 WARN TaskSetManager: Stage 13 contains a task of very large size (10434 KiB). The maximum recommended task size is 1000 KiB.\n"
          ]
        },
        {
          "name": "stdout",
          "output_type": "stream",
          "text": [
            "Total number of null rows in geo_loc : 0\n",
            "Total number of null rows in tld : 0\n"
          ]
        },
        {
          "name": "stderr",
          "output_type": "stream",
          "text": [
            "24/05/06 23:35:07 WARN TaskSetManager: Stage 16 contains a task of very large size (10434 KiB). The maximum recommended task size is 1000 KiB.\n",
            "24/05/06 23:35:08 WARN TaskSetManager: Stage 19 contains a task of very large size (10434 KiB). The maximum recommended task size is 1000 KiB.\n"
          ]
        },
        {
          "name": "stdout",
          "output_type": "stream",
          "text": [
            "Total number of null rows in who_is : 0\n"
          ]
        },
        {
          "name": "stderr",
          "output_type": "stream",
          "text": [
            "24/05/06 23:35:09 WARN TaskSetManager: Stage 22 contains a task of very large size (10434 KiB). The maximum recommended task size is 1000 KiB.\n"
          ]
        },
        {
          "name": "stdout",
          "output_type": "stream",
          "text": [
            "Total number of null rows in https : 0\n",
            "Total number of null rows in js_len : 0\n"
          ]
        },
        {
          "name": "stderr",
          "output_type": "stream",
          "text": [
            "24/05/06 23:35:10 WARN TaskSetManager: Stage 25 contains a task of very large size (10434 KiB). The maximum recommended task size is 1000 KiB.\n"
          ]
        },
        {
          "name": "stdout",
          "output_type": "stream",
          "text": [
            "Total number of null rows in js_obf_len : 0\n"
          ]
        },
        {
          "name": "stderr",
          "output_type": "stream",
          "text": [
            "24/05/06 23:35:10 WARN TaskSetManager: Stage 28 contains a task of very large size (10434 KiB). The maximum recommended task size is 1000 KiB.\n",
            "24/05/06 23:35:11 WARN TaskSetManager: Stage 31 contains a task of very large size (10434 KiB). The maximum recommended task size is 1000 KiB.\n"
          ]
        },
        {
          "name": "stdout",
          "output_type": "stream",
          "text": [
            "Total number of null rows in content : 0\n",
            "Total number of null rows in label : 0\n"
          ]
        }
      ],
      "source": [
        "null_count = df_spark.filter(df_spark.url.isNull()).count()\n",
        "print(\"Total number of null rows in url :\", null_count)\n",
        "null_count = df_spark.filter(df_spark.url_len.isNull()).count()\n",
        "print(\"Total number of null rows in url_len :\", null_count)\n",
        "null_count = df_spark.filter(df_spark.ip_add.isNull()).count()\n",
        "print(\"Total number of null rows in ip_add :\", null_count)\n",
        "null_count = df_spark.filter(df_spark.geo_loc.isNull()).count()\n",
        "print(\"Total number of null rows in geo_loc :\", null_count)\n",
        "null_count = df_spark.filter(df_spark.tld.isNull()).count()\n",
        "print(\"Total number of null rows in tld :\", null_count)\n",
        "null_count = df_spark.filter(df_spark.who_is.isNull()).count()\n",
        "print(\"Total number of null rows in who_is :\", null_count)\n",
        "null_count = df_spark.filter(df_spark.https.isNull()).count()\n",
        "print(\"Total number of null rows in https :\", null_count)\n",
        "null_count = df_spark.filter(df_spark.js_len.isNull()).count()\n",
        "print(\"Total number of null rows in js_len :\", null_count)\n",
        "null_count = df_spark.filter(df_spark.js_obf_len.isNull()).count()\n",
        "print(\"Total number of null rows in js_obf_len :\", null_count)\n",
        "null_count = df_spark.filter(df_spark.content.isNull()).count()\n",
        "print(\"Total number of null rows in content :\", null_count)\n",
        "null_count = df_spark.filter(df_spark.label.isNull()).count()\n",
        "print(\"Total number of null rows in label :\", null_count)\n"
      ]
    },
    {
      "cell_type": "markdown",
      "metadata": {
        "id": "9l0nleD-CYGi"
      },
      "source": [
        "* **Removing Null Value**\n",
        "\n",
        "\n",
        "---\n",
        "\n"
      ]
    },
    {
      "cell_type": "code",
      "execution_count": null,
      "metadata": {
        "id": "UJQ5wWPOCZq3"
      },
      "outputs": [],
      "source": [
        "df_spark=df_spark.na.drop()"
      ]
    },
    {
      "cell_type": "markdown",
      "metadata": {
        "id": "nrAmVtQGVSHl"
      },
      "source": [
        "## PROCESS DATA ACCRODING OUR MODEL"
      ]
    },
    {
      "cell_type": "markdown",
      "metadata": {
        "id": "8ABz8aMI-gN1"
      },
      "source": [
        "* **Changing the DataType of column js_len and js_obf_len from double to Integer**\n",
        "\n",
        "---\n",
        "\n"
      ]
    },
    {
      "cell_type": "code",
      "execution_count": null,
      "metadata": {
        "colab": {
          "base_uri": "https://localhost:8080/"
        },
        "id": "E7-Z3DHo-UhJ",
        "outputId": "1de63165-842b-4562-e192-158d7a849ee7"
      },
      "outputs": [
        {
          "name": "stdout",
          "output_type": "stream",
          "text": [
            "root\n",
            " |-- Unnamed: 0: long (nullable = true)\n",
            " |-- url: string (nullable = true)\n",
            " |-- url_len: long (nullable = true)\n",
            " |-- ip_add: string (nullable = true)\n",
            " |-- geo_loc: string (nullable = true)\n",
            " |-- tld: string (nullable = true)\n",
            " |-- who_is: string (nullable = true)\n",
            " |-- https: string (nullable = true)\n",
            " |-- js_len: double (nullable = true)\n",
            " |-- js_obf_len: double (nullable = true)\n",
            " |-- content: string (nullable = true)\n",
            " |-- label: string (nullable = true)\n",
            "\n"
          ]
        }
      ],
      "source": [
        "df_spark.printSchema()"
      ]
    },
    {
      "cell_type": "code",
      "execution_count": null,
      "metadata": {
        "id": "3kqkWUyt1qmB"
      },
      "outputs": [],
      "source": [
        "df_spark = df_spark.withColumn(\"js_len\", df_spark[\"js_len\"].cast(IntegerType()))\n",
        "df_spark = df_spark.withColumn(\"js_obf_len\", df_spark[\"js_obf_len\"].cast(IntegerType()))"
      ]
    },
    {
      "cell_type": "code",
      "execution_count": null,
      "metadata": {
        "colab": {
          "base_uri": "https://localhost:8080/"
        },
        "id": "thvvk-Kk-Xj0",
        "outputId": "00cdc11d-8187-4234-a55d-84206ea39c98"
      },
      "outputs": [
        {
          "name": "stdout",
          "output_type": "stream",
          "text": [
            "root\n",
            " |-- Unnamed: 0: long (nullable = true)\n",
            " |-- url: string (nullable = true)\n",
            " |-- url_len: long (nullable = true)\n",
            " |-- ip_add: string (nullable = true)\n",
            " |-- geo_loc: string (nullable = true)\n",
            " |-- tld: string (nullable = true)\n",
            " |-- who_is: string (nullable = true)\n",
            " |-- https: string (nullable = true)\n",
            " |-- js_len: integer (nullable = true)\n",
            " |-- js_obf_len: integer (nullable = true)\n",
            " |-- content: string (nullable = true)\n",
            " |-- label: string (nullable = true)\n",
            "\n"
          ]
        }
      ],
      "source": [
        "df_spark.printSchema()"
      ]
    },
    {
      "cell_type": "markdown",
      "metadata": {
        "id": "nOJthx3FV7dY"
      },
      "source": [
        "* **Tokenization (content)**\n",
        "\n",
        "---\n",
        "\n"
      ]
    },
    {
      "cell_type": "markdown",
      "metadata": {
        "id": "xV5VDWn7Dl0n"
      },
      "source": [
        "A Tokenizer is a transformer that takes an input string (e.g., a text column in a DataFrame) and splits it into words based on specified delimiters (usually whitespace)."
      ]
    },
    {
      "cell_type": "code",
      "execution_count": null,
      "metadata": {
        "colab": {
          "base_uri": "https://localhost:8080/"
        },
        "id": "W9_p1aWdDBrN",
        "outputId": "b2edadeb-fc43-46b1-c73f-c84d2e5292be"
      },
      "outputs": [
        {
          "data": {
            "text/plain": [
              "Tokenizer_8bc4726083a0"
            ]
          },
          "execution_count": 13,
          "metadata": {},
          "output_type": "execute_result"
        }
      ],
      "source": [
        "tokenizer = Tokenizer(outputCol=\"words\")\n",
        "tokenizer.setInputCol(\"content\")"
      ]
    },
    {
      "cell_type": "markdown",
      "metadata": {
        "id": "wiBHgghaWDFJ"
      },
      "source": [
        "* **StopWords Removal (Content)**\n",
        "\n",
        "---\n",
        "\n",
        "\n"
      ]
    },
    {
      "cell_type": "markdown",
      "metadata": {
        "id": "xBiZ84uJEeFr"
      },
      "source": [
        "creates a StopWordsRemover instance with the input column set to the output column of the previous Tokenizer transformation. It specifies the output column name as \"contentVec\", indicating that the resulting DataFrame will contain a new column with the tokenized text after stop words removal."
      ]
    },
    {
      "cell_type": "code",
      "execution_count": null,
      "metadata": {
        "id": "tcbWvhdpEhJ8"
      },
      "outputs": [],
      "source": [
        "remover = StopWordsRemover(inputCol=tokenizer.getOutputCol(), outputCol=\"contentVec\")"
      ]
    },
    {
      "cell_type": "code",
      "execution_count": null,
      "metadata": {
        "colab": {
          "base_uri": "https://localhost:8080/"
        },
        "id": "wLPqhyN_Elxi",
        "outputId": "a58c4d7b-ebd8-4dac-eb65-b7ec0d8f9af8"
      },
      "outputs": [
        {
          "data": {
            "text/plain": [
              "StopWordsRemover_cd4abe10c202"
            ]
          },
          "execution_count": 15,
          "metadata": {},
          "output_type": "execute_result"
        }
      ],
      "source": [
        "remover"
      ]
    },
    {
      "cell_type": "markdown",
      "metadata": {
        "id": "O2xdSa3QWKCo"
      },
      "source": [
        "* **Hashing TF (Text to numeric)**\n",
        "\n",
        "---\n",
        "\n"
      ]
    },
    {
      "cell_type": "markdown",
      "metadata": {
        "id": "VaxsyMZlE--3"
      },
      "source": [
        "HashingTF stands for Hashing Term Frequency, and it's a technique used to convert a collection of text documents into a numerical feature vector."
      ]
    },
    {
      "cell_type": "code",
      "execution_count": null,
      "metadata": {
        "colab": {
          "base_uri": "https://localhost:8080/"
        },
        "id": "ViWpHg2UEqtH",
        "outputId": "8ccfa764-2925-4fdb-95e8-bc9dec2e3ceb"
      },
      "outputs": [
        {
          "data": {
            "text/plain": [
              "HashingTF_181970f3b152"
            ]
          },
          "execution_count": 16,
          "metadata": {},
          "output_type": "execute_result"
        }
      ],
      "source": [
        "hashingTF = HashingTF(inputCol=remover.getOutputCol(), outputCol=\"rawFeatures\", numFeatures=20)\n",
        "hashingTF"
      ]
    },
    {
      "cell_type": "markdown",
      "metadata": {
        "id": "cShdWF1hFWsA"
      },
      "source": [
        "This code creates a HashingTF instance with the input column set to the output column of the previous StopWordsRemover transformation. It also specifies the output column name as \"rawFeatures\" and sets the numFeatures parameter to 20, indicating that the resulting feature vector will have a dimensionality of 20."
      ]
    },
    {
      "cell_type": "markdown",
      "metadata": {
        "id": "qvFiwe3FWP6K"
      },
      "source": [
        "* **RegexTokenizer (URL)**\n",
        "\n",
        "---\n",
        "\n"
      ]
    },
    {
      "cell_type": "markdown",
      "metadata": {
        "id": "zUD6yejhFw9G"
      },
      "source": [
        "It  is similar to Tokenizer, but it allows you to specify a regular expression pattern to define how the input text should be tokenized."
      ]
    },
    {
      "cell_type": "code",
      "execution_count": null,
      "metadata": {
        "id": "5GH147CUFHmQ"
      },
      "outputs": [],
      "source": [
        "regexTokenizer = RegexTokenizer(inputCol=\"url\", outputCol=\"urlToken\", pattern=\"/\")"
      ]
    },
    {
      "cell_type": "markdown",
      "metadata": {
        "id": "_3y_O6apGB3S"
      },
      "source": [
        "This code creates a RegexTokenizer instance with the input column set to \"url\" and the output column set to \"urlToken\". It specifies the regular expression pattern \"/\" to define how the input URL text should be tokenized. In this case, the tokenizer will split the URL string whenever it encounters a \"/\" character."
      ]
    },
    {
      "cell_type": "markdown",
      "metadata": {
        "id": "Ovyc8qbKWWRz"
      },
      "source": [
        "* **hashingTFurl**\n",
        "\n",
        "---\n",
        "\n"
      ]
    },
    {
      "cell_type": "markdown",
      "metadata": {
        "id": "jfoaqYVbGJVr"
      },
      "source": [
        "it is used  to process tokenized URL data generated by a RegexTokenizer transformer."
      ]
    },
    {
      "cell_type": "code",
      "execution_count": null,
      "metadata": {
        "id": "JymTTOvIGCRn"
      },
      "outputs": [],
      "source": [
        "hashingTFurl = HashingTF(inputCol=regexTokenizer.getOutputCol(), outputCol=\"urlVec\", numFeatures=20)\n"
      ]
    },
    {
      "cell_type": "markdown",
      "metadata": {
        "id": "Wyr-FTf-GZ_T"
      },
      "source": [
        "- inputCol: Specifies the input column from which the HashingTF transformer will read the tokenized URL data. It is set to the output column of the RegexTokenizer transformer, which contains the tokenized URL tokens (urlToken).\n",
        "- outputCol: Specifies the name of the output column where the hashed URL features will be stored. Here, it's set to \"urlVec\".\n",
        "- numFeatures: Determines the number of features (dimensions) in the output feature vector. It's set to 20 in this case, meaning the output feature vector will have a dimensionality of 20."
      ]
    },
    {
      "cell_type": "markdown",
      "metadata": {
        "id": "7uaLb4cjWkQ_"
      },
      "source": [
        "* **StringIndexer and OneHotEncoder transformers**\n",
        "\n",
        "---\n",
        "\n"
      ]
    },
    {
      "cell_type": "markdown",
      "metadata": {
        "id": "yhK-z-hsGsoq"
      },
      "source": [
        "used  to encode categorical features into numerical representations."
      ]
    },
    {
      "cell_type": "code",
      "execution_count": null,
      "metadata": {
        "id": "w8aXTTGVGdYI"
      },
      "outputs": [],
      "source": [
        "indexertld = StringIndexer(inputCol=\"tld\", outputCol=\"tldIndex\")\n",
        "indexerlabels = StringIndexer(inputCol=\"label\", outputCol=\"labelIndex\")\n",
        "indexerhttps= StringIndexer(inputCol=\"https\", outputCol=\"httpsIndex\")\n",
        "indexerwhois= StringIndexer(inputCol=\"who_is\", outputCol=\"whoisIndex\")\n",
        "Encodertld = OneHotEncoder(inputCols=[indexertld.getOutputCol()], outputCols=[\"tldVec\"])\n",
        "Encoderhttps = OneHotEncoder(inputCols=[indexerhttps.getOutputCol()], outputCols=[\"httpsVec\"])\n",
        "Encoderwhois = OneHotEncoder(inputCols=[indexerwhois.getOutputCol()], outputCols=[\"whoisVec\"])\n"
      ]
    },
    {
      "cell_type": "markdown",
      "metadata": {
        "id": "hho69ga4G_At"
      },
      "source": [
        "- StringIndexer:\n",
        "  - StringIndexer is used to convert categorical strings into numerical indices.\n",
        "  - You're setting up four StringIndexer instances: indexertld, indexerlabels, indexerhttps, and indexerwhois.\n",
        "  - Each StringIndexer takes an input column (e.g., \"tld\", \"label\", \"https\", \"who_is\") and outputs a corresponding index column (e.g., \"tldIndex\", \"labelIndex\", \"httpsIndex\", \"whoisIndex\").\n",
        "- OneHotEncoder:\n",
        "  - OneHotEncoder is used to convert categorical indices into a sparse vector representation.\n",
        "  - You're setting up three OneHotEncoder instances: Encodertld, Encoderhttps, and Encoderwhois.\n",
        "  - Each OneHotEncoder takes the output column of the corresponding StringIndexer as input and outputs a sparse vector representation (e.g., \"tldVec\", \"httpsVec\", \"whoisVec\")."
      ]
    },
    {
      "cell_type": "markdown",
      "metadata": {
        "id": "8dGap4cxWqCD"
      },
      "source": [
        "* **VectorAssembler**\n",
        "\n",
        "---\n",
        "\n",
        "\n"
      ]
    },
    {
      "cell_type": "markdown",
      "metadata": {
        "id": "5Ip_xsRlHjpw"
      },
      "source": [
        "It is used to combine multiple feature columns into a single feature vector column"
      ]
    },
    {
      "cell_type": "code",
      "execution_count": null,
      "metadata": {
        "id": "2xCSzyAlHLgJ"
      },
      "outputs": [],
      "source": [
        "assembler = VectorAssembler(inputCols=[\"rawFeatures\", \"urlVec\", \"tldVec\",\"httpsVec\",\"whoisVec\",\"js_len\",\"js_obf_len\"], outputCol=\"features\")\n"
      ]
    },
    {
      "cell_type": "markdown",
      "metadata": {
        "id": "W2_OSocVHqld"
      },
      "source": [
        "## COMBINING ALL THE DATA PROCESSED"
      ]
    },
    {
      "cell_type": "code",
      "execution_count": null,
      "metadata": {
        "id": "sg1VQgyDH7DS",
        "outputId": "c7977ca5-f79c-44d1-f6ea-387bcbabb05f"
      },
      "outputs": [
        {
          "name": "stderr",
          "output_type": "stream",
          "text": [
            "24/05/06 23:35:52 WARN TaskSetManager: Stage 34 contains a task of very large size (10434 KiB). The maximum recommended task size is 1000 KiB.\n",
            "24/05/06 23:35:53 WARN TaskSetManager: Stage 37 contains a task of very large size (10434 KiB). The maximum recommended task size is 1000 KiB.\n",
            "24/05/06 23:35:54 WARN TaskSetManager: Stage 40 contains a task of very large size (10434 KiB). The maximum recommended task size is 1000 KiB.\n",
            "24/05/06 23:35:54 WARN TaskSetManager: Stage 43 contains a task of very large size (10434 KiB). The maximum recommended task size is 1000 KiB.\n"
          ]
        }
      ],
      "source": [
        "pipeline = Pipeline(stages = [indexerlabels,tokenizer,remover,hashingTF,regexTokenizer,hashingTFurl,indexertld,indexerhttps,indexerwhois,Encodertld,Encoderhttps,Encoderwhois,assembler])\n",
        "pipelineModel = pipeline.fit(df_spark)\n",
        "df_spark = pipelineModel.transform(df_spark)"
      ]
    },
    {
      "cell_type": "code",
      "execution_count": null,
      "metadata": {
        "colab": {
          "base_uri": "https://localhost:8080/"
        },
        "id": "uTobmRDBITtN",
        "outputId": "81e6345e-c993-4bc7-e749-b65c78352456"
      },
      "outputs": [
        {
          "name": "stderr",
          "output_type": "stream",
          "text": [
            "24/05/06 23:35:57 WARN TaskSetManager: Stage 46 contains a task of very large size (10434 KiB). The maximum recommended task size is 1000 KiB.\n",
            "[Stage 46:>                                                         (0 + 1) / 1]\r"
          ]
        },
        {
          "name": "stdout",
          "output_type": "stream",
          "text": [
            "+----------+--------------------+-------+---------------+-------------+---+----------+-----+------+----------+--------------------+-----+----------+--------------------+--------------------+--------------------+--------------------+--------------------+--------+----------+----------+----------------+-------------+-------------+--------------------+\n",
            "|Unnamed: 0|                 url|url_len|         ip_add|      geo_loc|tld|    who_is|https|js_len|js_obf_len|             content|label|labelIndex|               words|          contentVec|         rawFeatures|            urlToken|              urlVec|tldIndex|httpsIndex|whoisIndex|          tldVec|     httpsVec|     whoisVec|            features|\n",
            "+----------+--------------------+-------+---------------+-------------+---+----------+-----+------+----------+--------------------+-----+----------+--------------------+--------------------+--------------------+--------------------+--------------------+--------+----------+----------+----------------+-------------+-------------+--------------------+\n",
            "|         0|http://www.dutcht...|     36|  175.67.214.68|        China|com|  complete|  yes|    38|         0|Decay suggest in ...| good|       0.0|[decay, suggest, ...|[decay, suggest, ...|(20,[0,1,2,3,4,5,...|[http:, www.dutch...|(20,[6,9,16],[1.0...|     0.0|       0.0|       0.0| (380,[0],[1.0])|(1,[0],[1.0])|(1,[0],[1.0])|(424,[0,1,2,3,4,5...|\n",
            "|         1|http://www.collec...|     32|188.120.171.121|       Sweden|com|incomplete|  yes|   187|         0|breast addict nud...| good|       0.0|[breast, addict, ...|[breast, addict, ...|(20,[0,1,2,3,4,5,...|[http:, www.colle...|(20,[14,16],[1.0,...|     0.0|       0.0|       1.0| (380,[0],[1.0])|(1,[0],[1.0])|    (1,[],[])|(424,[0,1,2,3,4,5...|\n",
            "|         2|http://www.deadli...|     27|   193.51.170.1|       France|com|  complete|  yes|    31|         0|Nato's military s...| good|       0.0|[nato's, military...|[nato's, military...|(20,[0,1,2,3,5,6,...|[http:, www.deadl...|(20,[11,16],[1.0,...|     0.0|       0.0|       0.0| (380,[0],[1.0])|(1,[0],[1.0])|(1,[0],[1.0])|(424,[0,1,2,3,5,6...|\n",
            "|         3|http://www.mil.fi...|     56|   13.237.35.44|    Australia| fi|  complete|  yes|   152|         0|Night being newto...| good|       0.0|[night, being, ne...|[night, newton., ...|(20,[0,1,2,3,4,5,...|[http:, www.mil.f...|(20,[6,7,9,15,16]...|    29.0|       0.0|       0.0|(380,[29],[1.0])|(1,[0],[1.0])|(1,[0],[1.0])|(424,[0,1,2,3,4,5...|\n",
            "|         4|http://www.avclub...|     40|  220.193.62.89|        China|com|  complete|  yes|   150|         0|34 per two childr...| good|       0.0|[34, per, two, ch...|[34, per, two, ch...|(20,[0,1,2,3,4,5,...|[http:, www.avclu...|(20,[2,8,10,16,18...|     0.0|       0.0|       0.0| (380,[0],[1.0])|(1,[0],[1.0])|(1,[0],[1.0])|(424,[0,1,2,3,4,5...|\n",
            "|         5|http://www.yellow...|     34|  13.122.80.132|United States|net|  complete|  yes|   140|         0|Own desert includ...| good|       0.0|[own, desert, inc...|[desert, include,...|(20,[0,1,2,3,4,5,...|[http:, www.yello...|(20,[8,12,16],[1....|     3.0|       0.0|       0.0| (380,[3],[1.0])|(1,[0],[1.0])|(1,[0],[1.0])|(424,[0,1,2,3,4,5...|\n",
            "|         6|http://www.eteamz...|     31|  67.240.38.208|United States|com|  complete|  yes|    72|         0|The trial ions wh...| good|       0.0|[the, trial, ions...|[trial, ions, dis...|(20,[0,1,2,3,4,5,...|[http:, www.eteam...|(20,[1,6,16],[1.0...|     0.0|       0.0|       0.0| (380,[0],[1.0])|(1,[0],[1.0])|(1,[0],[1.0])|(424,[0,1,2,3,4,5...|\n",
            "|         7|http://www.becket...|     29|  135.41.22.180|United States|com|  complete|  yes|    60|         0|Region with conse...| good|       0.0|[region, with, co...|[region, conseque...|(20,[0,1,2,3,4,5,...|[http:, www.becke...|(20,[14,16],[1.0,...|     0.0|       0.0|       0.0| (380,[0],[1.0])|(1,[0],[1.0])|(1,[0],[1.0])|(424,[0,1,2,3,4,5...|\n",
            "|         8|http://www.newedg...|     33|  90.136.31.203|       Sweden|com|  complete|  yes|   108|         0|In 1953, the high...| good|       0.0|[in, 1953,, the, ...|[1953,, higher, e...|(20,[0,1,2,3,4,5,...|[http:, www.newed...|(20,[16,19],[1.0,...|     0.0|       0.0|       0.0| (380,[0],[1.0])|(1,[0],[1.0])|(1,[0],[1.0])|(424,[0,1,2,3,4,5...|\n",
            "|         9|http://www.fourdi...|     38|120.101.209.144|       Taiwan|com|  complete|  yes|    38|         0|Christian power h...| good|       0.0|[christian, power...|[christian, power...|(20,[0,1,2,3,4,5,...|[http:, www.fourd...|(20,[10,16],[2.0,...|     0.0|       0.0|       0.0| (380,[0],[1.0])|(1,[0],[1.0])|(1,[0],[1.0])|(424,[0,1,2,3,4,5...|\n",
            "|        10|http://eserver.or...|     46|  169.64.227.39|United States|org|  complete|  yes|   166|         0|Facility, it with...| good|       0.0|[facility,, it, w...|[facility,, oppor...|(20,[0,1,2,3,4,5,...|[http:, eserver.o...|(20,[0,7,12,16],[...|     1.0|       0.0|       0.0| (380,[1],[1.0])|(1,[0],[1.0])|(1,[0],[1.0])|(424,[0,1,2,3,4,5...|\n",
            "|        11|http://www.tkhr.com/|     20|  183.228.23.16|        China|com|  complete|  yes|   179|         0|fondle whore give...| good|       0.0|[fondle, whore, g...|[fondle, whore, g...|(20,[0,1,2,3,4,5,...|[http:, www.tkhr....|(20,[14,16],[1.0,...|     0.0|       0.0|       0.0| (380,[0],[1.0])|(1,[0],[1.0])|(1,[0],[1.0])|(424,[0,1,2,3,4,5...|\n",
            "|        12|http://www.chinal...|     27|  15.238.210.97|United States|com|  complete|  yes|   114|         0|Observed temperat...| good|       0.0|[observed, temper...|[observed, temper...|(20,[0,1,2,3,4,5,...|[http:, www.china...|     (20,[16],[2.0])|     0.0|       0.0|       0.0| (380,[0],[1.0])|(1,[0],[1.0])|(1,[0],[1.0])|(424,[0,1,2,3,4,5...|\n",
            "|        13|http://www.urmc.r...|     55| 154.121.13.150|      Algeria|edu|incomplete|  yes|   148|         0|Various estimates...| good|       0.0|[various, estimat...|[various, estimat...|(20,[0,1,2,3,4,5,...|[http:, www.urmc....|(20,[0,4,13,16,19...|     2.0|       0.0|       1.0| (380,[2],[1.0])|(1,[0],[1.0])|    (1,[],[])|(424,[0,1,2,3,4,5...|\n",
            "|        14|http://www.whitew...|     32| 139.208.211.50|        China| ca|incomplete|  yes|   112|         0|Of abstraction cu...| good|       0.0|[of, abstraction,...|[abstraction, cur...|(20,[0,1,2,3,4,5,...|[http:, www.white...|(20,[12,16],[1.0,...|     5.0|       0.0|       1.0| (380,[5],[1.0])|(1,[0],[1.0])|    (1,[],[])|(424,[0,1,2,3,4,5...|\n",
            "|        15|http://discountpe...|     27| 193.174.96.162|      Germany|com|  complete|  yes|   151|         0|Material, as a co...| good|       0.0|[material,, as, a...|[material,, consi...|(20,[0,1,2,3,4,5,...|[http:, discountp...|(20,[16,17],[1.0,...|     0.0|       0.0|       0.0| (380,[0],[1.0])|(1,[0],[1.0])|(1,[0],[1.0])|(424,[0,1,2,3,4,5...|\n",
            "|        16|http://democrats....|     66|   170.65.188.8|United States|gov|  complete|   no|   175|         0|Ensure implementa...| good|       0.0|[ensure, implemen...|[ensure, implemen...|(20,[0,1,2,3,4,5,...|[http:, democrats...|(20,[8,16,17],[1....|     9.0|       1.0|       0.0| (380,[9],[1.0])|    (1,[],[])|(1,[0],[1.0])|(424,[0,1,2,3,4,5...|\n",
            "|        17|http://com.en.spo...|     32|  177.7.178.123|       Brazil|com|  complete|   no|   155|         0|Creating artistic...| good|       0.0|[creating, artist...|[creating, artist...|(20,[0,1,2,3,4,5,...|[http:, com.en.sp...|(20,[16,19],[1.0,...|     0.0|       1.0|       0.0| (380,[0],[1.0])|    (1,[],[])|(1,[0],[1.0])|(424,[0,1,2,3,4,5...|\n",
            "|        18|http://www.dbccol...|     31|  74.212.56.181|United States|com|  complete|   no|   123|         0|Sliding doors ida...| good|       0.0|[sliding, doors, ...|[sliding, doors, ...|(20,[0,1,2,3,4,5,...|[http:, www.dbcco...|(20,[16,19],[1.0,...|     0.0|       1.0|       0.0| (380,[0],[1.0])|    (1,[],[])|(1,[0],[1.0])|(424,[0,1,2,3,4,5...|\n",
            "|        19|http://leftfootbl...|     28|   182.17.85.87|     Thailand|com|  complete|   no|   197|         0|Other predictions...| good|       0.0|[other, predictio...|[predictions, div...|(20,[0,1,2,3,4,5,...|[http:, leftfootb...|(20,[16,17],[1.0,...|     0.0|       1.0|       0.0| (380,[0],[1.0])|    (1,[],[])|(1,[0],[1.0])|(424,[0,1,2,3,4,5...|\n",
            "+----------+--------------------+-------+---------------+-------------+---+----------+-----+------+----------+--------------------+-----+----------+--------------------+--------------------+--------------------+--------------------+--------------------+--------+----------+----------+----------------+-------------+-------------+--------------------+\n",
            "only showing top 20 rows\n",
            "\n"
          ]
        },
        {
          "name": "stderr",
          "output_type": "stream",
          "text": [
            "24/05/06 23:36:01 WARN PythonRunner: Detected deadlock while completing task 0.0 in stage 46 (TID 136): Attempting to kill Python Worker\n",
            "                                                                                \r"
          ]
        }
      ],
      "source": [
        "df_spark.show()"
      ]
    },
    {
      "cell_type": "markdown",
      "metadata": {
        "id": "vQOKkyVbI5Su"
      },
      "source": [
        "## FINALIZE OUR DATASET"
      ]
    },
    {
      "cell_type": "code",
      "execution_count": null,
      "metadata": {
        "colab": {
          "base_uri": "https://localhost:8080/"
        },
        "id": "M5sq59IpIiPd",
        "outputId": "079efdb8-9e76-4540-c0b3-7ba5d470c2c0"
      },
      "outputs": [
        {
          "name": "stderr",
          "output_type": "stream",
          "text": [
            "24/05/06 23:36:04 WARN TaskSetManager: Stage 47 contains a task of very large size (10434 KiB). The maximum recommended task size is 1000 KiB.\n",
            "[Stage 47:>                                                         (0 + 1) / 1]\r"
          ]
        },
        {
          "name": "stdout",
          "output_type": "stream",
          "text": [
            "+----------+--------------------+\n",
            "|labelIndex|            features|\n",
            "+----------+--------------------+\n",
            "|       0.0|(424,[0,1,2,3,4,5...|\n",
            "|       0.0|(424,[0,1,2,3,4,5...|\n",
            "|       0.0|(424,[0,1,2,3,5,6...|\n",
            "|       0.0|(424,[0,1,2,3,4,5...|\n",
            "|       0.0|(424,[0,1,2,3,4,5...|\n",
            "|       0.0|(424,[0,1,2,3,4,5...|\n",
            "|       0.0|(424,[0,1,2,3,4,5...|\n",
            "|       0.0|(424,[0,1,2,3,4,5...|\n",
            "|       0.0|(424,[0,1,2,3,4,5...|\n",
            "|       0.0|(424,[0,1,2,3,4,5...|\n",
            "|       0.0|(424,[0,1,2,3,4,5...|\n",
            "|       0.0|(424,[0,1,2,3,4,5...|\n",
            "|       0.0|(424,[0,1,2,3,4,5...|\n",
            "|       0.0|(424,[0,1,2,3,4,5...|\n",
            "|       0.0|(424,[0,1,2,3,4,5...|\n",
            "|       0.0|(424,[0,1,2,3,4,5...|\n",
            "|       0.0|(424,[0,1,2,3,4,5...|\n",
            "|       0.0|(424,[0,1,2,3,4,5...|\n",
            "|       0.0|(424,[0,1,2,3,4,5...|\n",
            "|       0.0|(424,[0,1,2,3,4,5...|\n",
            "+----------+--------------------+\n",
            "only showing top 20 rows\n",
            "\n"
          ]
        },
        {
          "name": "stderr",
          "output_type": "stream",
          "text": [
            "24/05/06 23:36:08 WARN PythonRunner: Detected deadlock while completing task 0.0 in stage 47 (TID 137): Attempting to kill Python Worker\n",
            "                                                                                \r"
          ]
        }
      ],
      "source": [
        "selected_Columns = ['labelIndex', 'features']\n",
        "df_spark = df_spark.select(selected_Columns)\n",
        "df_spark.show()"
      ]
    },
    {
      "cell_type": "markdown",
      "metadata": {
        "id": "gZ6h8dZ0OAsu"
      },
      "source": [
        "## SPLITTING THE DATA INTO TRAINING AND TESTING"
      ]
    },
    {
      "cell_type": "code",
      "execution_count": null,
      "metadata": {
        "id": "DSBYnnbNI7eM"
      },
      "outputs": [],
      "source": [
        "training_data, testing_data = df_spark.randomSplit([0.6805,0.3195], seed = 99999999)"
      ]
    },
    {
      "cell_type": "code",
      "execution_count": null,
      "metadata": {
        "colab": {
          "base_uri": "https://localhost:8080/"
        },
        "id": "eScYkve0NRXH",
        "outputId": "f98ed66f-f236-4de2-8625-e44495a21316"
      },
      "outputs": [
        {
          "name": "stderr",
          "output_type": "stream",
          "text": [
            "24/05/06 23:36:14 WARN TaskSetManager: Stage 48 contains a task of very large size (10434 KiB). The maximum recommended task size is 1000 KiB.\n",
            "[Stage 48:>                                                         (0 + 1) / 1]\r"
          ]
        },
        {
          "name": "stdout",
          "output_type": "stream",
          "text": [
            "+----------+--------------------+\n",
            "|labelIndex|            features|\n",
            "+----------+--------------------+\n",
            "|       0.0|(424,[0,1,2,3,4,5...|\n",
            "|       0.0|(424,[0,1,2,3,4,5...|\n",
            "|       0.0|(424,[0,1,2,3,4,5...|\n",
            "|       0.0|(424,[0,1,2,3,4,5...|\n",
            "|       0.0|(424,[0,1,2,3,4,5...|\n",
            "|       0.0|(424,[0,1,2,3,4,5...|\n",
            "|       0.0|(424,[0,1,2,3,4,5...|\n",
            "|       0.0|(424,[0,1,2,3,4,5...|\n",
            "|       0.0|(424,[0,1,2,3,4,5...|\n",
            "|       0.0|(424,[0,1,2,3,4,5...|\n",
            "|       0.0|(424,[0,1,2,3,4,5...|\n",
            "|       0.0|(424,[0,1,2,3,4,5...|\n",
            "|       0.0|(424,[0,1,2,3,4,5...|\n",
            "|       0.0|(424,[0,1,2,3,4,5...|\n",
            "|       0.0|(424,[0,1,2,3,4,5...|\n",
            "|       0.0|(424,[0,1,2,3,4,5...|\n",
            "|       0.0|(424,[0,1,2,3,4,5...|\n",
            "|       0.0|(424,[0,1,2,3,4,5...|\n",
            "|       0.0|(424,[0,1,2,3,4,5...|\n",
            "|       0.0|(424,[0,1,2,3,4,5...|\n",
            "+----------+--------------------+\n",
            "only showing top 20 rows\n",
            "\n"
          ]
        },
        {
          "name": "stderr",
          "output_type": "stream",
          "text": [
            "                                                                                \r"
          ]
        }
      ],
      "source": [
        "training_data.show()"
      ]
    },
    {
      "cell_type": "code",
      "execution_count": null,
      "metadata": {
        "colab": {
          "base_uri": "https://localhost:8080/"
        },
        "id": "PK7_n0zmOvOe",
        "outputId": "66114a3e-2dc6-4d52-db53-76f0aec216fc"
      },
      "outputs": [
        {
          "name": "stderr",
          "output_type": "stream",
          "text": [
            "24/05/06 23:36:18 WARN TaskSetManager: Stage 49 contains a task of very large size (10434 KiB). The maximum recommended task size is 1000 KiB.\n",
            "[Stage 49:>                                                         (0 + 1) / 1]\r"
          ]
        },
        {
          "name": "stdout",
          "output_type": "stream",
          "text": [
            "+----------+--------------------+\n",
            "|labelIndex|            features|\n",
            "+----------+--------------------+\n",
            "|       0.0|(424,[0,1,2,3,4,5...|\n",
            "|       0.0|(424,[0,1,2,3,4,5...|\n",
            "|       0.0|(424,[0,1,2,3,4,5...|\n",
            "|       0.0|(424,[0,1,2,3,4,5...|\n",
            "|       0.0|(424,[0,1,2,3,4,5...|\n",
            "|       0.0|(424,[0,1,2,3,4,5...|\n",
            "|       0.0|(424,[0,1,2,3,4,5...|\n",
            "|       0.0|(424,[0,1,2,3,4,5...|\n",
            "|       0.0|(424,[0,1,2,3,4,5...|\n",
            "|       0.0|(424,[0,1,2,3,4,5...|\n",
            "|       0.0|(424,[0,1,2,3,4,5...|\n",
            "|       0.0|(424,[0,1,2,3,4,5...|\n",
            "|       0.0|(424,[0,1,2,3,4,5...|\n",
            "|       0.0|(424,[0,1,2,3,4,5...|\n",
            "|       0.0|(424,[0,1,2,3,4,5...|\n",
            "|       0.0|(424,[0,1,2,3,4,5...|\n",
            "|       0.0|(424,[0,1,2,3,4,5...|\n",
            "|       0.0|(424,[0,1,2,3,4,5...|\n",
            "|       0.0|(424,[0,1,2,3,4,5...|\n",
            "|       0.0|(424,[0,1,2,3,4,5...|\n",
            "+----------+--------------------+\n",
            "only showing top 20 rows\n",
            "\n"
          ]
        },
        {
          "name": "stderr",
          "output_type": "stream",
          "text": [
            "                                                                                \r"
          ]
        }
      ],
      "source": [
        "testing_data.show()"
      ]
    },
    {
      "cell_type": "markdown",
      "metadata": {
        "id": "Gzaj3RoRQXp1"
      },
      "source": [
        "# BUILT MODEL\n",
        "\n",
        "\n",
        "\n"
      ]
    },
    {
      "cell_type": "markdown",
      "metadata": {
        "id": "pezkceHbPBOz"
      },
      "source": [
        "## NaiveBayes Model"
      ]
    },
    {
      "cell_type": "markdown",
      "metadata": {
        "id": "y0BjrA2fPKjQ"
      },
      "source": [
        "* **Fiting the Model on Traning Data**\n",
        "\n",
        "\n",
        "---\n",
        "\n"
      ]
    },
    {
      "cell_type": "code",
      "execution_count": null,
      "metadata": {
        "colab": {
          "base_uri": "https://localhost:8080/"
        },
        "id": "aeMhjmdWPDhL",
        "outputId": "af4634a2-a49e-4504-abc6-ce0a58be2556"
      },
      "outputs": [
        {
          "name": "stderr",
          "output_type": "stream",
          "text": [
            "24/05/06 23:36:22 WARN TaskSetManager: Stage 50 contains a task of very large size (10434 KiB). The maximum recommended task size is 1000 KiB.\n",
            "[Stage 50:>                                                         (0 + 8) / 8]\r"
          ]
        },
        {
          "name": "stdout",
          "output_type": "stream",
          "text": [
            "Time Taken to Fit the Model  2.52423095703125\n"
          ]
        },
        {
          "name": "stderr",
          "output_type": "stream",
          "text": [
            "                                                                                \r"
          ]
        }
      ],
      "source": [
        "start=time.time()\n",
        "# Create an instance of the NaiveBayes estimator\n",
        "naive_bayes = NaiveBayes(labelCol=\"labelIndex\", featuresCol=\"features\", smoothing=1.0, modelType=\"multinomial\" )\n",
        "\n",
        "NaiveBayesModel = naive_bayes.fit(dataset=training_data)\n",
        "end=time.time()\n",
        "print(\"Time Taken to Fit the Model \", end-start)\n",
        "NaiveBayes_TT=end-start"
      ]
    },
    {
      "cell_type": "markdown",
      "metadata": {
        "id": "sfbN1jGdQdw-"
      },
      "source": [
        "* **Prediction**\n",
        "\n",
        "---\n",
        "\n"
      ]
    },
    {
      "cell_type": "code",
      "execution_count": null,
      "metadata": {
        "id": "gO1DFb8OPUqq"
      },
      "outputs": [],
      "source": [
        "start1=time.time()\n",
        "f_predictions = NaiveBayesModel.transform(testing_data)\n",
        "# f_predictions.select('labelIndex','prediction').coalesce(1).write.option(\"header\",\"true\").csv('pred_output.csv')\n",
        "end1=time.time()\n"
      ]
    },
    {
      "cell_type": "code",
      "execution_count": null,
      "metadata": {
        "colab": {
          "base_uri": "https://localhost:8080/"
        },
        "id": "1mmG38VoQ2Oz",
        "outputId": "512ab6ea-540c-46d8-c8bd-963711413589"
      },
      "outputs": [
        {
          "name": "stderr",
          "output_type": "stream",
          "text": [
            "24/05/06 23:36:40 WARN TaskSetManager: Stage 53 contains a task of very large size (10434 KiB). The maximum recommended task size is 1000 KiB.\n",
            "[Stage 53:>                                                         (0 + 1) / 1]\r"
          ]
        },
        {
          "name": "stdout",
          "output_type": "stream",
          "text": [
            "+----------+--------------------+--------------------+--------------------+----------+\n",
            "|labelIndex|            features|       rawPrediction|         probability|prediction|\n",
            "+----------+--------------------+--------------------+--------------------+----------+\n",
            "|       0.0|(424,[0,1,2,3,4,5...|[-800.27721217831...|[1.0,4.0911764381...|       0.0|\n",
            "|       0.0|(424,[0,1,2,3,4,5...|[-667.86147558160...|[1.0,4.1896955241...|       0.0|\n",
            "|       0.0|(424,[0,1,2,3,4,5...|[-1138.8548683399...|[1.0,7.0660015021...|       0.0|\n",
            "|       0.0|(424,[0,1,2,3,4,5...|[-425.64067877191...|[1.0,2.8277461896...|       0.0|\n",
            "|       0.0|(424,[0,1,2,3,4,5...|[-1024.5633174077...|[1.0,1.6765499580...|       0.0|\n",
            "|       0.0|(424,[0,1,2,3,4,5...|[-569.51372060796...|[1.0,3.9698792427...|       0.0|\n",
            "|       0.0|(424,[0,1,2,3,4,5...|[-462.89802646983...|[1.0,1.2071210221...|       0.0|\n",
            "|       0.0|(424,[0,1,2,3,4,5...|[-719.57095307482...|[1.0,5.2839049210...|       0.0|\n",
            "|       0.0|(424,[0,1,2,3,4,5...|[-766.74013782273...|[1.0,1.7609601958...|       0.0|\n",
            "|       0.0|(424,[0,1,2,3,4,5...|[-527.06238415951...|[1.0,2.9144619535...|       0.0|\n",
            "|       0.0|(424,[0,1,2,3,4,5...|[-949.63911779949...|[1.0,3.2975265565...|       0.0|\n",
            "|       0.0|(424,[0,1,2,3,4,5...|[-1089.5669744206...|[1.0,1.1650864154...|       0.0|\n",
            "|       0.0|(424,[0,1,2,3,4,5...|[-414.53634077665...|[1.0,4.5323276131...|       0.0|\n",
            "|       0.0|(424,[0,1,2,3,4,5...|[-820.65211224527...|[1.0,1.6325909446...|       0.0|\n",
            "|       0.0|(424,[0,1,2,3,4,5...|[-425.19795658736...|[1.0,9.8892668915...|       0.0|\n",
            "|       0.0|(424,[0,1,2,3,4,5...|[-370.31451139667...|[1.0,1.6316155493...|       0.0|\n",
            "|       0.0|(424,[0,1,2,3,4,5...|[-387.40125504541...|[1.0,3.3368689642...|       0.0|\n",
            "|       0.0|(424,[0,1,2,3,4,5...|[-394.98305333278...|[1.0,3.4517931146...|       0.0|\n",
            "|       0.0|(424,[0,1,2,3,4,5...|[-520.93017877083...|[1.0,4.7488132311...|       0.0|\n",
            "|       0.0|(424,[0,1,2,3,4,5...|[-538.94827193647...|[1.0,1.4266726253...|       0.0|\n",
            "+----------+--------------------+--------------------+--------------------+----------+\n",
            "only showing top 20 rows\n",
            "\n"
          ]
        },
        {
          "name": "stderr",
          "output_type": "stream",
          "text": [
            "24/05/06 23:36:42 WARN InstanceBuilder: Failed to load implementation from:dev.ludovic.netlib.blas.JNIBLAS\n",
            "24/05/06 23:36:42 WARN InstanceBuilder: Failed to load implementation from:dev.ludovic.netlib.blas.VectorBLAS\n",
            "                                                                                \r"
          ]
        }
      ],
      "source": [
        "f_predictions.show()"
      ]
    },
    {
      "cell_type": "markdown",
      "metadata": {
        "id": "IjsWQAQoT6Ml"
      },
      "source": [
        "* **Evaluation**\n",
        "\n",
        "---\n",
        "\n"
      ]
    },
    {
      "cell_type": "code",
      "execution_count": null,
      "metadata": {
        "colab": {
          "base_uri": "https://localhost:8080/"
        },
        "id": "oVQnVbttUKo1",
        "outputId": "6f0f03d7-e815-4100-d264-0a14e4701a0b"
      },
      "outputs": [
        {
          "name": "stderr",
          "output_type": "stream",
          "text": [
            "24/05/06 23:36:44 WARN TaskSetManager: Stage 54 contains a task of very large size (10434 KiB). The maximum recommended task size is 1000 KiB.\n",
            "[Stage 54:>                                                         (0 + 8) / 8]\r"
          ]
        },
        {
          "name": "stdout",
          "output_type": "stream",
          "text": [
            "Accuracy: 0.9976138147566719\n"
          ]
        },
        {
          "name": "stderr",
          "output_type": "stream",
          "text": [
            "                                                                                \r"
          ]
        }
      ],
      "source": [
        "# Define a MulticlassClassificationEvaluator for accuracy\n",
        "evaluation_accuracy = MulticlassClassificationEvaluator(labelCol=\"labelIndex\", predictionCol=\"prediction\")\n",
        "\n",
        "# Compute accuracy\n",
        "NaiveBayes_accuracy = evaluation_accuracy.evaluate(f_predictions, {evaluation_accuracy.metricName: \"accuracy\"})\n",
        "print(\"Accuracy:\", NaiveBayes_accuracy)"
      ]
    },
    {
      "cell_type": "code",
      "execution_count": null,
      "metadata": {
        "colab": {
          "base_uri": "https://localhost:8080/"
        },
        "id": "zhe_gw5eRcMu",
        "outputId": "c9078e0d-7506-4bf1-82f3-81e372ce537d"
      },
      "outputs": [
        {
          "name": "stderr",
          "output_type": "stream",
          "text": [
            "24/05/06 23:37:06 WARN TaskSetManager: Stage 56 contains a task of very large size (10434 KiB). The maximum recommended task size is 1000 KiB.\n",
            "[Stage 56:>                                                         (0 + 8) / 8]\r"
          ]
        },
        {
          "name": "stdout",
          "output_type": "stream",
          "text": [
            "Recall: 0.9976138147566719\n"
          ]
        },
        {
          "name": "stderr",
          "output_type": "stream",
          "text": [
            "                                                                                \r"
          ]
        }
      ],
      "source": [
        "# Define a MulticlassClassificationEvaluator for recall\n",
        "evaluation_recall = MulticlassClassificationEvaluator(labelCol=\"labelIndex\", predictionCol=\"prediction\")\n",
        "\n",
        "# Compute recall\n",
        "NaiveBayes_recall = evaluation_recall.evaluate(f_predictions, {evaluation_recall.metricName: \"weightedRecall\"})\n",
        "print(\"Recall:\", NaiveBayes_recall)"
      ]
    },
    {
      "cell_type": "code",
      "execution_count": null,
      "metadata": {
        "colab": {
          "base_uri": "https://localhost:8080/"
        },
        "id": "R_ybolCPUAQl",
        "outputId": "d1808490-b088-4255-f387-96f399432164"
      },
      "outputs": [
        {
          "name": "stderr",
          "output_type": "stream",
          "text": [
            "24/05/06 23:37:10 WARN TaskSetManager: Stage 58 contains a task of very large size (10434 KiB). The maximum recommended task size is 1000 KiB.\n",
            "[Stage 58:>                                                         (0 + 8) / 8]\r"
          ]
        },
        {
          "name": "stdout",
          "output_type": "stream",
          "text": [
            "F1 Score: 0.9975437568541727\n"
          ]
        },
        {
          "name": "stderr",
          "output_type": "stream",
          "text": [
            "                                                                                \r"
          ]
        }
      ],
      "source": [
        "# Compute F1 score\n",
        "evaluation_f1 = MulticlassClassificationEvaluator(labelCol=\"labelIndex\", predictionCol=\"prediction\")\n",
        "\n",
        "# Compute F1 score\n",
        "NaiveBayes_f1_score = evaluation_f1.evaluate(f_predictions, {evaluation_f1.metricName: \"f1\"})\n",
        "print(\"F1 Score:\", NaiveBayes_f1_score)\n"
      ]
    },
    {
      "cell_type": "markdown",
      "metadata": {
        "id": "wjcTEq-DJ8XP"
      },
      "source": [
        "* **confusion Matrix**\n",
        "\n",
        "---\n",
        "\n"
      ]
    },
    {
      "cell_type": "code",
      "execution_count": null,
      "metadata": {
        "colab": {
          "base_uri": "https://localhost:8080/",
          "height": 112
        },
        "id": "G15QClLkJ8XQ",
        "outputId": "57091435-d553-4b4e-e7a4-97a3f4874b0e"
      },
      "outputs": [
        {
          "name": "stderr",
          "output_type": "stream",
          "text": [
            "24/05/06 23:37:25 WARN TaskSetManager: Stage 60 contains a task of very large size (10434 KiB). The maximum recommended task size is 1000 KiB.\n",
            "                                                                                \r"
          ]
        },
        {
          "data": {
            "text/html": [
              "<div>\n",
              "<style scoped>\n",
              "    .dataframe tbody tr th:only-of-type {\n",
              "        vertical-align: middle;\n",
              "    }\n",
              "\n",
              "    .dataframe tbody tr th {\n",
              "        vertical-align: top;\n",
              "    }\n",
              "\n",
              "    .dataframe thead th {\n",
              "        text-align: right;\n",
              "    }\n",
              "</style>\n",
              "<table border=\"1\" class=\"dataframe\">\n",
              "  <thead>\n",
              "    <tr style=\"text-align: right;\">\n",
              "      <th></th>\n",
              "      <th>A_good</th>\n",
              "      <th>A_bad</th>\n",
              "    </tr>\n",
              "  </thead>\n",
              "  <tbody>\n",
              "    <tr>\n",
              "      <th>P_good</th>\n",
              "      <td>15589</td>\n",
              "      <td>0</td>\n",
              "    </tr>\n",
              "    <tr>\n",
              "      <th>P_bad</th>\n",
              "      <td>38</td>\n",
              "      <td>298</td>\n",
              "    </tr>\n",
              "  </tbody>\n",
              "</table>\n",
              "</div>"
            ],
            "text/plain": [
              "        A_good  A_bad\n",
              "P_good   15589      0\n",
              "P_bad       38    298"
            ]
          },
          "execution_count": 33,
          "metadata": {},
          "output_type": "execute_result"
        }
      ],
      "source": [
        "from sklearn.metrics import classification_report\n",
        "from sklearn.metrics import confusion_matrix\n",
        "import pandas as pd\n",
        "\n",
        "# Convert the PySpark DataFrame to a Pandas DataFrame\n",
        "pred_pd = f_predictions.select(\"labelIndex\", \"prediction\").toPandas()\n",
        "# Genrate Confusion Matrix\n",
        "# Define the labels\n",
        "labels = pred_pd[\"labelIndex\"].unique()\n",
        "\n",
        "pd.DataFrame(confusion_matrix(pred_pd[\"labelIndex\"], pred_pd[\"prediction\"],labels=labels), index=[\"P_good\",\"P_bad\"], columns=[\"A_good\",\"A_bad\"])"
      ]
    },
    {
      "cell_type": "markdown",
      "metadata": {
        "id": "4MiuNLn2VC1W"
      },
      "source": [
        "## LinearSVC"
      ]
    },
    {
      "cell_type": "markdown",
      "metadata": {
        "id": "44-iPit6VIsu"
      },
      "source": [
        "* **Fitting the Model**\n",
        "\n",
        "---\n",
        "\n"
      ]
    },
    {
      "cell_type": "code",
      "execution_count": null,
      "metadata": {
        "colab": {
          "base_uri": "https://localhost:8080/"
        },
        "id": "1F9OGDUKVEvg",
        "outputId": "9e3770b3-f39d-4870-a966-5e3d74435adc"
      },
      "outputs": [
        {
          "name": "stderr",
          "output_type": "stream",
          "text": [
            "24/05/06 23:37:29 WARN TaskSetManager: Stage 61 contains a task of very large size (10434 KiB). The maximum recommended task size is 1000 KiB.\n",
            "24/05/06 23:37:34 WARN TaskSetManager: Stage 63 contains a task of very large size (10434 KiB). The maximum recommended task size is 1000 KiB.\n",
            "24/05/06 23:37:37 WARN TaskSetManager: Stage 65 contains a task of very large size (10434 KiB). The maximum recommended task size is 1000 KiB.\n",
            "24/05/06 23:37:37 WARN TaskSetManager: Stage 67 contains a task of very large size (10434 KiB). The maximum recommended task size is 1000 KiB.\n",
            "24/05/06 23:37:37 WARN TaskSetManager: Stage 69 contains a task of very large size (10434 KiB). The maximum recommended task size is 1000 KiB.\n",
            "24/05/06 23:37:38 WARN TaskSetManager: Stage 71 contains a task of very large size (10434 KiB). The maximum recommended task size is 1000 KiB.\n",
            "24/05/06 23:37:38 WARN TaskSetManager: Stage 73 contains a task of very large size (10434 KiB). The maximum recommended task size is 1000 KiB.\n",
            "24/05/06 23:37:38 WARN TaskSetManager: Stage 75 contains a task of very large size (10434 KiB). The maximum recommended task size is 1000 KiB.\n",
            "24/05/06 23:37:38 WARN TaskSetManager: Stage 77 contains a task of very large size (10434 KiB). The maximum recommended task size is 1000 KiB.\n",
            "24/05/06 23:37:38 WARN TaskSetManager: Stage 79 contains a task of very large size (10434 KiB). The maximum recommended task size is 1000 KiB.\n",
            "24/05/06 23:37:38 WARN TaskSetManager: Stage 81 contains a task of very large size (10434 KiB). The maximum recommended task size is 1000 KiB.\n",
            "24/05/06 23:37:38 WARN TaskSetManager: Stage 83 contains a task of very large size (10434 KiB). The maximum recommended task size is 1000 KiB.\n",
            "24/05/06 23:37:39 WARN TaskSetManager: Stage 85 contains a task of very large size (10434 KiB). The maximum recommended task size is 1000 KiB.\n",
            "24/05/06 23:37:39 WARN TaskSetManager: Stage 87 contains a task of very large size (10434 KiB). The maximum recommended task size is 1000 KiB.\n",
            "24/05/06 23:37:39 WARN TaskSetManager: Stage 89 contains a task of very large size (10434 KiB). The maximum recommended task size is 1000 KiB.\n",
            "24/05/06 23:37:39 WARN TaskSetManager: Stage 91 contains a task of very large size (10434 KiB). The maximum recommended task size is 1000 KiB.\n",
            "24/05/06 23:37:39 WARN TaskSetManager: Stage 93 contains a task of very large size (10434 KiB). The maximum recommended task size is 1000 KiB.\n",
            "24/05/06 23:37:39 WARN TaskSetManager: Stage 95 contains a task of very large size (10434 KiB). The maximum recommended task size is 1000 KiB.\n",
            "24/05/06 23:37:39 WARN TaskSetManager: Stage 97 contains a task of very large size (10434 KiB). The maximum recommended task size is 1000 KiB.\n",
            "24/05/06 23:37:40 WARN TaskSetManager: Stage 99 contains a task of very large size (10434 KiB). The maximum recommended task size is 1000 KiB.\n",
            "24/05/06 23:37:40 WARN TaskSetManager: Stage 101 contains a task of very large size (10434 KiB). The maximum recommended task size is 1000 KiB.\n",
            "24/05/06 23:37:40 WARN TaskSetManager: Stage 103 contains a task of very large size (10434 KiB). The maximum recommended task size is 1000 KiB.\n",
            "24/05/06 23:37:40 WARN TaskSetManager: Stage 105 contains a task of very large size (10434 KiB). The maximum recommended task size is 1000 KiB.\n",
            "24/05/06 23:37:40 WARN TaskSetManager: Stage 107 contains a task of very large size (10434 KiB). The maximum recommended task size is 1000 KiB.\n",
            "24/05/06 23:37:40 WARN TaskSetManager: Stage 109 contains a task of very large size (10434 KiB). The maximum recommended task size is 1000 KiB.\n",
            "24/05/06 23:37:40 WARN TaskSetManager: Stage 111 contains a task of very large size (10434 KiB). The maximum recommended task size is 1000 KiB.\n",
            "24/05/06 23:37:40 WARN TaskSetManager: Stage 113 contains a task of very large size (10434 KiB). The maximum recommended task size is 1000 KiB.\n",
            "24/05/06 23:37:41 WARN TaskSetManager: Stage 115 contains a task of very large size (10434 KiB). The maximum recommended task size is 1000 KiB.\n",
            "24/05/06 23:37:41 WARN TaskSetManager: Stage 117 contains a task of very large size (10434 KiB). The maximum recommended task size is 1000 KiB.\n",
            "24/05/06 23:37:41 WARN TaskSetManager: Stage 119 contains a task of very large size (10434 KiB). The maximum recommended task size is 1000 KiB.\n",
            "24/05/06 23:37:41 WARN TaskSetManager: Stage 121 contains a task of very large size (10434 KiB). The maximum recommended task size is 1000 KiB.\n",
            "24/05/06 23:37:41 WARN TaskSetManager: Stage 123 contains a task of very large size (10434 KiB). The maximum recommended task size is 1000 KiB.\n",
            "24/05/06 23:37:41 WARN TaskSetManager: Stage 125 contains a task of very large size (10434 KiB). The maximum recommended task size is 1000 KiB.\n",
            "24/05/06 23:37:41 WARN TaskSetManager: Stage 127 contains a task of very large size (10434 KiB). The maximum recommended task size is 1000 KiB.\n",
            "24/05/06 23:37:41 WARN TaskSetManager: Stage 129 contains a task of very large size (10434 KiB). The maximum recommended task size is 1000 KiB.\n",
            "24/05/06 23:37:41 WARN TaskSetManager: Stage 131 contains a task of very large size (10434 KiB). The maximum recommended task size is 1000 KiB.\n",
            "24/05/06 23:37:42 WARN TaskSetManager: Stage 133 contains a task of very large size (10434 KiB). The maximum recommended task size is 1000 KiB.\n",
            "24/05/06 23:37:42 WARN TaskSetManager: Stage 135 contains a task of very large size (10434 KiB). The maximum recommended task size is 1000 KiB.\n",
            "24/05/06 23:37:42 WARN TaskSetManager: Stage 137 contains a task of very large size (10434 KiB). The maximum recommended task size is 1000 KiB.\n",
            "24/05/06 23:37:42 WARN TaskSetManager: Stage 139 contains a task of very large size (10434 KiB). The maximum recommended task size is 1000 KiB.\n",
            "24/05/06 23:37:42 WARN TaskSetManager: Stage 141 contains a task of very large size (10434 KiB). The maximum recommended task size is 1000 KiB.\n",
            "24/05/06 23:37:42 WARN TaskSetManager: Stage 143 contains a task of very large size (10434 KiB). The maximum recommended task size is 1000 KiB.\n",
            "24/05/06 23:37:42 WARN TaskSetManager: Stage 145 contains a task of very large size (10434 KiB). The maximum recommended task size is 1000 KiB.\n",
            "24/05/06 23:37:42 WARN TaskSetManager: Stage 147 contains a task of very large size (10434 KiB). The maximum recommended task size is 1000 KiB.\n",
            "24/05/06 23:37:42 WARN TaskSetManager: Stage 149 contains a task of very large size (10434 KiB). The maximum recommended task size is 1000 KiB.\n",
            "24/05/06 23:37:43 WARN TaskSetManager: Stage 151 contains a task of very large size (10434 KiB). The maximum recommended task size is 1000 KiB.\n",
            "24/05/06 23:37:43 WARN TaskSetManager: Stage 153 contains a task of very large size (10434 KiB). The maximum recommended task size is 1000 KiB.\n",
            "24/05/06 23:37:43 WARN TaskSetManager: Stage 155 contains a task of very large size (10434 KiB). The maximum recommended task size is 1000 KiB.\n",
            "24/05/06 23:37:43 WARN TaskSetManager: Stage 157 contains a task of very large size (10434 KiB). The maximum recommended task size is 1000 KiB.\n",
            "24/05/06 23:37:43 WARN TaskSetManager: Stage 159 contains a task of very large size (10434 KiB). The maximum recommended task size is 1000 KiB.\n",
            "24/05/06 23:37:43 WARN TaskSetManager: Stage 161 contains a task of very large size (10434 KiB). The maximum recommended task size is 1000 KiB.\n",
            "24/05/06 23:37:43 WARN TaskSetManager: Stage 163 contains a task of very large size (10434 KiB). The maximum recommended task size is 1000 KiB.\n",
            "24/05/06 23:37:43 WARN TaskSetManager: Stage 165 contains a task of very large size (10434 KiB). The maximum recommended task size is 1000 KiB.\n",
            "24/05/06 23:37:43 WARN TaskSetManager: Stage 167 contains a task of very large size (10434 KiB). The maximum recommended task size is 1000 KiB.\n",
            "24/05/06 23:37:43 WARN TaskSetManager: Stage 169 contains a task of very large size (10434 KiB). The maximum recommended task size is 1000 KiB.\n",
            "24/05/06 23:37:44 WARN TaskSetManager: Stage 171 contains a task of very large size (10434 KiB). The maximum recommended task size is 1000 KiB.\n",
            "24/05/06 23:37:44 WARN TaskSetManager: Stage 173 contains a task of very large size (10434 KiB). The maximum recommended task size is 1000 KiB.\n",
            "24/05/06 23:37:44 WARN TaskSetManager: Stage 175 contains a task of very large size (10434 KiB). The maximum recommended task size is 1000 KiB.\n",
            "24/05/06 23:37:44 WARN TaskSetManager: Stage 177 contains a task of very large size (10434 KiB). The maximum recommended task size is 1000 KiB.\n",
            "24/05/06 23:37:44 WARN TaskSetManager: Stage 179 contains a task of very large size (10434 KiB). The maximum recommended task size is 1000 KiB.\n",
            "24/05/06 23:37:44 WARN TaskSetManager: Stage 181 contains a task of very large size (10434 KiB). The maximum recommended task size is 1000 KiB.\n",
            "24/05/06 23:37:44 WARN TaskSetManager: Stage 183 contains a task of very large size (10434 KiB). The maximum recommended task size is 1000 KiB.\n",
            "24/05/06 23:37:45 WARN TaskSetManager: Stage 185 contains a task of very large size (10434 KiB). The maximum recommended task size is 1000 KiB.\n",
            "24/05/06 23:37:45 WARN TaskSetManager: Stage 187 contains a task of very large size (10434 KiB). The maximum recommended task size is 1000 KiB.\n",
            "24/05/06 23:37:45 WARN TaskSetManager: Stage 189 contains a task of very large size (10434 KiB). The maximum recommended task size is 1000 KiB.\n",
            "24/05/06 23:37:46 WARN TaskSetManager: Stage 191 contains a task of very large size (10434 KiB). The maximum recommended task size is 1000 KiB.\n",
            "24/05/06 23:37:46 WARN TaskSetManager: Stage 193 contains a task of very large size (10434 KiB). The maximum recommended task size is 1000 KiB.\n",
            "24/05/06 23:37:46 WARN TaskSetManager: Stage 195 contains a task of very large size (10434 KiB). The maximum recommended task size is 1000 KiB.\n",
            "24/05/06 23:37:46 WARN TaskSetManager: Stage 197 contains a task of very large size (10434 KiB). The maximum recommended task size is 1000 KiB.\n",
            "24/05/06 23:37:46 WARN TaskSetManager: Stage 199 contains a task of very large size (10434 KiB). The maximum recommended task size is 1000 KiB.\n",
            "24/05/06 23:37:47 WARN TaskSetManager: Stage 201 contains a task of very large size (10434 KiB). The maximum recommended task size is 1000 KiB.\n",
            "24/05/06 23:37:47 WARN TaskSetManager: Stage 203 contains a task of very large size (10434 KiB). The maximum recommended task size is 1000 KiB.\n",
            "24/05/06 23:37:47 WARN TaskSetManager: Stage 205 contains a task of very large size (10434 KiB). The maximum recommended task size is 1000 KiB.\n",
            "24/05/06 23:37:47 WARN TaskSetManager: Stage 207 contains a task of very large size (10434 KiB). The maximum recommended task size is 1000 KiB.\n",
            "24/05/06 23:37:47 WARN TaskSetManager: Stage 209 contains a task of very large size (10434 KiB). The maximum recommended task size is 1000 KiB.\n",
            "24/05/06 23:37:47 WARN TaskSetManager: Stage 211 contains a task of very large size (10434 KiB). The maximum recommended task size is 1000 KiB.\n",
            "24/05/06 23:37:48 WARN TaskSetManager: Stage 213 contains a task of very large size (10434 KiB). The maximum recommended task size is 1000 KiB.\n",
            "24/05/06 23:37:48 WARN TaskSetManager: Stage 215 contains a task of very large size (10434 KiB). The maximum recommended task size is 1000 KiB.\n",
            "24/05/06 23:37:48 WARN TaskSetManager: Stage 217 contains a task of very large size (10434 KiB). The maximum recommended task size is 1000 KiB.\n",
            "24/05/06 23:37:48 WARN TaskSetManager: Stage 219 contains a task of very large size (10434 KiB). The maximum recommended task size is 1000 KiB.\n",
            "24/05/06 23:37:48 WARN TaskSetManager: Stage 221 contains a task of very large size (10434 KiB). The maximum recommended task size is 1000 KiB.\n",
            "24/05/06 23:37:48 WARN TaskSetManager: Stage 223 contains a task of very large size (10434 KiB). The maximum recommended task size is 1000 KiB.\n",
            "24/05/06 23:37:48 WARN TaskSetManager: Stage 225 contains a task of very large size (10434 KiB). The maximum recommended task size is 1000 KiB.\n",
            "24/05/06 23:37:48 WARN TaskSetManager: Stage 227 contains a task of very large size (10434 KiB). The maximum recommended task size is 1000 KiB.\n",
            "24/05/06 23:37:49 WARN TaskSetManager: Stage 229 contains a task of very large size (10434 KiB). The maximum recommended task size is 1000 KiB.\n",
            "24/05/06 23:37:49 WARN TaskSetManager: Stage 231 contains a task of very large size (10434 KiB). The maximum recommended task size is 1000 KiB.\n",
            "24/05/06 23:37:49 WARN TaskSetManager: Stage 233 contains a task of very large size (10434 KiB). The maximum recommended task size is 1000 KiB.\n",
            "24/05/06 23:37:49 WARN TaskSetManager: Stage 235 contains a task of very large size (10434 KiB). The maximum recommended task size is 1000 KiB.\n",
            "24/05/06 23:37:49 WARN TaskSetManager: Stage 237 contains a task of very large size (10434 KiB). The maximum recommended task size is 1000 KiB.\n",
            "24/05/06 23:37:49 WARN TaskSetManager: Stage 239 contains a task of very large size (10434 KiB). The maximum recommended task size is 1000 KiB.\n",
            "24/05/06 23:37:49 WARN TaskSetManager: Stage 241 contains a task of very large size (10434 KiB). The maximum recommended task size is 1000 KiB.\n",
            "24/05/06 23:37:50 WARN TaskSetManager: Stage 243 contains a task of very large size (10434 KiB). The maximum recommended task size is 1000 KiB.\n",
            "24/05/06 23:37:50 WARN TaskSetManager: Stage 245 contains a task of very large size (10434 KiB). The maximum recommended task size is 1000 KiB.\n",
            "24/05/06 23:37:50 WARN TaskSetManager: Stage 247 contains a task of very large size (10434 KiB). The maximum recommended task size is 1000 KiB.\n",
            "24/05/06 23:37:50 WARN TaskSetManager: Stage 249 contains a task of very large size (10434 KiB). The maximum recommended task size is 1000 KiB.\n",
            "24/05/06 23:37:50 WARN TaskSetManager: Stage 251 contains a task of very large size (10434 KiB). The maximum recommended task size is 1000 KiB.\n",
            "24/05/06 23:37:50 WARN TaskSetManager: Stage 253 contains a task of very large size (10434 KiB). The maximum recommended task size is 1000 KiB.\n",
            "24/05/06 23:37:50 WARN TaskSetManager: Stage 255 contains a task of very large size (10434 KiB). The maximum recommended task size is 1000 KiB.\n",
            "24/05/06 23:37:50 WARN TaskSetManager: Stage 257 contains a task of very large size (10434 KiB). The maximum recommended task size is 1000 KiB.\n",
            "24/05/06 23:37:51 WARN TaskSetManager: Stage 259 contains a task of very large size (10434 KiB). The maximum recommended task size is 1000 KiB.\n",
            "24/05/06 23:37:51 WARN TaskSetManager: Stage 261 contains a task of very large size (10434 KiB). The maximum recommended task size is 1000 KiB.\n",
            "24/05/06 23:37:51 WARN TaskSetManager: Stage 263 contains a task of very large size (10434 KiB). The maximum recommended task size is 1000 KiB.\n",
            "24/05/06 23:37:51 WARN TaskSetManager: Stage 265 contains a task of very large size (10434 KiB). The maximum recommended task size is 1000 KiB.\n",
            "24/05/06 23:37:51 WARN TaskSetManager: Stage 267 contains a task of very large size (10434 KiB). The maximum recommended task size is 1000 KiB.\n",
            "24/05/06 23:37:51 WARN TaskSetManager: Stage 269 contains a task of very large size (10434 KiB). The maximum recommended task size is 1000 KiB.\n",
            "24/05/06 23:37:51 WARN TaskSetManager: Stage 271 contains a task of very large size (10434 KiB). The maximum recommended task size is 1000 KiB.\n",
            "24/05/06 23:37:51 WARN TaskSetManager: Stage 273 contains a task of very large size (10434 KiB). The maximum recommended task size is 1000 KiB.\n",
            "24/05/06 23:37:52 WARN TaskSetManager: Stage 275 contains a task of very large size (10434 KiB). The maximum recommended task size is 1000 KiB.\n",
            "24/05/06 23:37:52 WARN TaskSetManager: Stage 277 contains a task of very large size (10434 KiB). The maximum recommended task size is 1000 KiB.\n",
            "24/05/06 23:37:52 WARN TaskSetManager: Stage 279 contains a task of very large size (10434 KiB). The maximum recommended task size is 1000 KiB.\n",
            "24/05/06 23:37:52 WARN TaskSetManager: Stage 281 contains a task of very large size (10434 KiB). The maximum recommended task size is 1000 KiB.\n",
            "24/05/06 23:37:52 WARN TaskSetManager: Stage 283 contains a task of very large size (10434 KiB). The maximum recommended task size is 1000 KiB.\n",
            "24/05/06 23:37:52 WARN TaskSetManager: Stage 285 contains a task of very large size (10434 KiB). The maximum recommended task size is 1000 KiB.\n",
            "24/05/06 23:37:52 WARN TaskSetManager: Stage 287 contains a task of very large size (10434 KiB). The maximum recommended task size is 1000 KiB.\n",
            "24/05/06 23:37:52 WARN TaskSetManager: Stage 289 contains a task of very large size (10434 KiB). The maximum recommended task size is 1000 KiB.\n",
            "24/05/06 23:37:52 WARN TaskSetManager: Stage 291 contains a task of very large size (10434 KiB). The maximum recommended task size is 1000 KiB.\n",
            "24/05/06 23:37:53 WARN TaskSetManager: Stage 293 contains a task of very large size (10434 KiB). The maximum recommended task size is 1000 KiB.\n",
            "24/05/06 23:37:53 WARN TaskSetManager: Stage 295 contains a task of very large size (10434 KiB). The maximum recommended task size is 1000 KiB.\n",
            "24/05/06 23:37:53 WARN TaskSetManager: Stage 297 contains a task of very large size (10434 KiB). The maximum recommended task size is 1000 KiB.\n",
            "24/05/06 23:37:53 WARN TaskSetManager: Stage 299 contains a task of very large size (10434 KiB). The maximum recommended task size is 1000 KiB.\n",
            "24/05/06 23:37:53 WARN TaskSetManager: Stage 301 contains a task of very large size (10434 KiB). The maximum recommended task size is 1000 KiB.\n",
            "24/05/06 23:37:53 WARN TaskSetManager: Stage 303 contains a task of very large size (10434 KiB). The maximum recommended task size is 1000 KiB.\n",
            "24/05/06 23:37:53 WARN TaskSetManager: Stage 305 contains a task of very large size (10434 KiB). The maximum recommended task size is 1000 KiB.\n",
            "24/05/06 23:37:53 WARN TaskSetManager: Stage 307 contains a task of very large size (10434 KiB). The maximum recommended task size is 1000 KiB.\n",
            "24/05/06 23:37:53 WARN TaskSetManager: Stage 309 contains a task of very large size (10434 KiB). The maximum recommended task size is 1000 KiB.\n",
            "24/05/06 23:37:53 WARN TaskSetManager: Stage 311 contains a task of very large size (10434 KiB). The maximum recommended task size is 1000 KiB.\n",
            "24/05/06 23:37:53 WARN TaskSetManager: Stage 313 contains a task of very large size (10434 KiB). The maximum recommended task size is 1000 KiB.\n",
            "24/05/06 23:37:54 WARN TaskSetManager: Stage 315 contains a task of very large size (10434 KiB). The maximum recommended task size is 1000 KiB.\n",
            "24/05/06 23:37:54 WARN TaskSetManager: Stage 317 contains a task of very large size (10434 KiB). The maximum recommended task size is 1000 KiB.\n",
            "24/05/06 23:37:54 WARN TaskSetManager: Stage 319 contains a task of very large size (10434 KiB). The maximum recommended task size is 1000 KiB.\n",
            "24/05/06 23:37:54 WARN TaskSetManager: Stage 321 contains a task of very large size (10434 KiB). The maximum recommended task size is 1000 KiB.\n",
            "24/05/06 23:37:54 WARN TaskSetManager: Stage 323 contains a task of very large size (10434 KiB). The maximum recommended task size is 1000 KiB.\n",
            "24/05/06 23:37:54 WARN TaskSetManager: Stage 325 contains a task of very large size (10434 KiB). The maximum recommended task size is 1000 KiB.\n",
            "24/05/06 23:37:54 WARN TaskSetManager: Stage 327 contains a task of very large size (10434 KiB). The maximum recommended task size is 1000 KiB.\n",
            "24/05/06 23:37:54 WARN TaskSetManager: Stage 329 contains a task of very large size (10434 KiB). The maximum recommended task size is 1000 KiB.\n",
            "24/05/06 23:37:54 WARN TaskSetManager: Stage 331 contains a task of very large size (10434 KiB). The maximum recommended task size is 1000 KiB.\n",
            "24/05/06 23:37:55 WARN TaskSetManager: Stage 333 contains a task of very large size (10434 KiB). The maximum recommended task size is 1000 KiB.\n",
            "24/05/06 23:37:55 WARN TaskSetManager: Stage 335 contains a task of very large size (10434 KiB). The maximum recommended task size is 1000 KiB.\n",
            "24/05/06 23:37:55 WARN TaskSetManager: Stage 337 contains a task of very large size (10434 KiB). The maximum recommended task size is 1000 KiB.\n",
            "24/05/06 23:37:55 WARN TaskSetManager: Stage 339 contains a task of very large size (10434 KiB). The maximum recommended task size is 1000 KiB.\n",
            "24/05/06 23:37:55 WARN TaskSetManager: Stage 341 contains a task of very large size (10434 KiB). The maximum recommended task size is 1000 KiB.\n",
            "24/05/06 23:37:55 WARN TaskSetManager: Stage 343 contains a task of very large size (10434 KiB). The maximum recommended task size is 1000 KiB.\n",
            "24/05/06 23:37:55 WARN TaskSetManager: Stage 345 contains a task of very large size (10434 KiB). The maximum recommended task size is 1000 KiB.\n",
            "24/05/06 23:37:55 WARN TaskSetManager: Stage 347 contains a task of very large size (10434 KiB). The maximum recommended task size is 1000 KiB.\n",
            "24/05/06 23:37:55 WARN TaskSetManager: Stage 349 contains a task of very large size (10434 KiB). The maximum recommended task size is 1000 KiB.\n",
            "24/05/06 23:37:56 WARN TaskSetManager: Stage 351 contains a task of very large size (10434 KiB). The maximum recommended task size is 1000 KiB.\n",
            "24/05/06 23:37:56 WARN TaskSetManager: Stage 353 contains a task of very large size (10434 KiB). The maximum recommended task size is 1000 KiB.\n",
            "24/05/06 23:37:56 WARN TaskSetManager: Stage 355 contains a task of very large size (10434 KiB). The maximum recommended task size is 1000 KiB.\n",
            "24/05/06 23:37:56 WARN TaskSetManager: Stage 357 contains a task of very large size (10434 KiB). The maximum recommended task size is 1000 KiB.\n",
            "24/05/06 23:37:56 WARN TaskSetManager: Stage 359 contains a task of very large size (10434 KiB). The maximum recommended task size is 1000 KiB.\n",
            "24/05/06 23:37:56 WARN TaskSetManager: Stage 361 contains a task of very large size (10434 KiB). The maximum recommended task size is 1000 KiB.\n",
            "24/05/06 23:37:56 WARN TaskSetManager: Stage 363 contains a task of very large size (10434 KiB). The maximum recommended task size is 1000 KiB.\n",
            "24/05/06 23:37:56 WARN TaskSetManager: Stage 365 contains a task of very large size (10434 KiB). The maximum recommended task size is 1000 KiB.\n",
            "24/05/06 23:37:57 WARN TaskSetManager: Stage 367 contains a task of very large size (10434 KiB). The maximum recommended task size is 1000 KiB.\n",
            "24/05/06 23:37:57 WARN TaskSetManager: Stage 369 contains a task of very large size (10434 KiB). The maximum recommended task size is 1000 KiB.\n",
            "24/05/06 23:37:57 WARN TaskSetManager: Stage 371 contains a task of very large size (10434 KiB). The maximum recommended task size is 1000 KiB.\n",
            "24/05/06 23:37:57 WARN TaskSetManager: Stage 373 contains a task of very large size (10434 KiB). The maximum recommended task size is 1000 KiB.\n",
            "24/05/06 23:37:57 WARN TaskSetManager: Stage 375 contains a task of very large size (10434 KiB). The maximum recommended task size is 1000 KiB.\n",
            "24/05/06 23:37:57 WARN TaskSetManager: Stage 377 contains a task of very large size (10434 KiB). The maximum recommended task size is 1000 KiB.\n",
            "24/05/06 23:37:58 WARN TaskSetManager: Stage 379 contains a task of very large size (10434 KiB). The maximum recommended task size is 1000 KiB.\n",
            "24/05/06 23:37:58 WARN TaskSetManager: Stage 381 contains a task of very large size (10434 KiB). The maximum recommended task size is 1000 KiB.\n",
            "24/05/06 23:37:58 WARN TaskSetManager: Stage 383 contains a task of very large size (10434 KiB). The maximum recommended task size is 1000 KiB.\n",
            "24/05/06 23:37:58 WARN TaskSetManager: Stage 385 contains a task of very large size (10434 KiB). The maximum recommended task size is 1000 KiB.\n",
            "24/05/06 23:37:58 WARN TaskSetManager: Stage 387 contains a task of very large size (10434 KiB). The maximum recommended task size is 1000 KiB.\n",
            "24/05/06 23:37:58 WARN TaskSetManager: Stage 389 contains a task of very large size (10434 KiB). The maximum recommended task size is 1000 KiB.\n",
            "24/05/06 23:37:58 WARN TaskSetManager: Stage 391 contains a task of very large size (10434 KiB). The maximum recommended task size is 1000 KiB.\n",
            "24/05/06 23:37:58 WARN TaskSetManager: Stage 393 contains a task of very large size (10434 KiB). The maximum recommended task size is 1000 KiB.\n",
            "24/05/06 23:37:58 WARN TaskSetManager: Stage 395 contains a task of very large size (10434 KiB). The maximum recommended task size is 1000 KiB.\n",
            "24/05/06 23:37:59 WARN TaskSetManager: Stage 397 contains a task of very large size (10434 KiB). The maximum recommended task size is 1000 KiB.\n",
            "24/05/06 23:37:59 WARN TaskSetManager: Stage 399 contains a task of very large size (10434 KiB). The maximum recommended task size is 1000 KiB.\n",
            "24/05/06 23:37:59 WARN TaskSetManager: Stage 401 contains a task of very large size (10434 KiB). The maximum recommended task size is 1000 KiB.\n",
            "24/05/06 23:37:59 WARN TaskSetManager: Stage 403 contains a task of very large size (10434 KiB). The maximum recommended task size is 1000 KiB.\n",
            "24/05/06 23:37:59 WARN TaskSetManager: Stage 405 contains a task of very large size (10434 KiB). The maximum recommended task size is 1000 KiB.\n",
            "24/05/06 23:37:59 WARN TaskSetManager: Stage 407 contains a task of very large size (10434 KiB). The maximum recommended task size is 1000 KiB.\n",
            "24/05/06 23:37:59 WARN TaskSetManager: Stage 409 contains a task of very large size (10434 KiB). The maximum recommended task size is 1000 KiB.\n",
            "24/05/06 23:37:59 WARN TaskSetManager: Stage 411 contains a task of very large size (10434 KiB). The maximum recommended task size is 1000 KiB.\n",
            "24/05/06 23:37:59 WARN TaskSetManager: Stage 413 contains a task of very large size (10434 KiB). The maximum recommended task size is 1000 KiB.\n",
            "24/05/06 23:37:59 WARN TaskSetManager: Stage 415 contains a task of very large size (10434 KiB). The maximum recommended task size is 1000 KiB.\n",
            "24/05/06 23:38:00 WARN TaskSetManager: Stage 417 contains a task of very large size (10434 KiB). The maximum recommended task size is 1000 KiB.\n",
            "24/05/06 23:38:00 WARN TaskSetManager: Stage 419 contains a task of very large size (10434 KiB). The maximum recommended task size is 1000 KiB.\n",
            "24/05/06 23:38:00 WARN TaskSetManager: Stage 421 contains a task of very large size (10434 KiB). The maximum recommended task size is 1000 KiB.\n",
            "24/05/06 23:38:00 WARN TaskSetManager: Stage 423 contains a task of very large size (10434 KiB). The maximum recommended task size is 1000 KiB.\n",
            "24/05/06 23:38:00 WARN TaskSetManager: Stage 425 contains a task of very large size (10434 KiB). The maximum recommended task size is 1000 KiB.\n",
            "24/05/06 23:38:00 WARN TaskSetManager: Stage 427 contains a task of very large size (10434 KiB). The maximum recommended task size is 1000 KiB.\n",
            "24/05/06 23:38:00 WARN TaskSetManager: Stage 429 contains a task of very large size (10434 KiB). The maximum recommended task size is 1000 KiB.\n",
            "24/05/06 23:38:00 WARN TaskSetManager: Stage 431 contains a task of very large size (10434 KiB). The maximum recommended task size is 1000 KiB.\n",
            "24/05/06 23:38:00 WARN TaskSetManager: Stage 433 contains a task of very large size (10434 KiB). The maximum recommended task size is 1000 KiB.\n",
            "24/05/06 23:38:00 WARN TaskSetManager: Stage 435 contains a task of very large size (10434 KiB). The maximum recommended task size is 1000 KiB.\n",
            "24/05/06 23:38:00 WARN TaskSetManager: Stage 437 contains a task of very large size (10434 KiB). The maximum recommended task size is 1000 KiB.\n",
            "24/05/06 23:38:00 WARN TaskSetManager: Stage 439 contains a task of very large size (10434 KiB). The maximum recommended task size is 1000 KiB.\n",
            "24/05/06 23:38:01 WARN TaskSetManager: Stage 441 contains a task of very large size (10434 KiB). The maximum recommended task size is 1000 KiB.\n",
            "24/05/06 23:38:01 WARN TaskSetManager: Stage 443 contains a task of very large size (10434 KiB). The maximum recommended task size is 1000 KiB.\n",
            "24/05/06 23:38:01 WARN TaskSetManager: Stage 445 contains a task of very large size (10434 KiB). The maximum recommended task size is 1000 KiB.\n",
            "24/05/06 23:38:01 WARN TaskSetManager: Stage 447 contains a task of very large size (10434 KiB). The maximum recommended task size is 1000 KiB.\n",
            "24/05/06 23:38:01 WARN TaskSetManager: Stage 449 contains a task of very large size (10434 KiB). The maximum recommended task size is 1000 KiB.\n",
            "24/05/06 23:38:01 WARN TaskSetManager: Stage 451 contains a task of very large size (10434 KiB). The maximum recommended task size is 1000 KiB.\n",
            "24/05/06 23:38:01 WARN TaskSetManager: Stage 453 contains a task of very large size (10434 KiB). The maximum recommended task size is 1000 KiB.\n",
            "24/05/06 23:38:01 WARN TaskSetManager: Stage 455 contains a task of very large size (10434 KiB). The maximum recommended task size is 1000 KiB.\n",
            "24/05/06 23:38:01 WARN TaskSetManager: Stage 457 contains a task of very large size (10434 KiB). The maximum recommended task size is 1000 KiB.\n",
            "24/05/06 23:38:01 WARN TaskSetManager: Stage 459 contains a task of very large size (10434 KiB). The maximum recommended task size is 1000 KiB.\n",
            "24/05/06 23:38:01 WARN TaskSetManager: Stage 461 contains a task of very large size (10434 KiB). The maximum recommended task size is 1000 KiB.\n",
            "24/05/06 23:38:02 WARN TaskSetManager: Stage 463 contains a task of very large size (10434 KiB). The maximum recommended task size is 1000 KiB.\n",
            "24/05/06 23:38:02 WARN TaskSetManager: Stage 465 contains a task of very large size (10434 KiB). The maximum recommended task size is 1000 KiB.\n",
            "24/05/06 23:38:02 WARN TaskSetManager: Stage 467 contains a task of very large size (10434 KiB). The maximum recommended task size is 1000 KiB.\n",
            "24/05/06 23:38:02 WARN TaskSetManager: Stage 469 contains a task of very large size (10434 KiB). The maximum recommended task size is 1000 KiB.\n",
            "24/05/06 23:38:02 WARN TaskSetManager: Stage 471 contains a task of very large size (10434 KiB). The maximum recommended task size is 1000 KiB.\n",
            "24/05/06 23:38:02 WARN TaskSetManager: Stage 473 contains a task of very large size (10434 KiB). The maximum recommended task size is 1000 KiB.\n",
            "24/05/06 23:38:02 WARN TaskSetManager: Stage 475 contains a task of very large size (10434 KiB). The maximum recommended task size is 1000 KiB.\n",
            "24/05/06 23:38:03 WARN TaskSetManager: Stage 477 contains a task of very large size (10434 KiB). The maximum recommended task size is 1000 KiB.\n",
            "24/05/06 23:38:03 WARN TaskSetManager: Stage 479 contains a task of very large size (10434 KiB). The maximum recommended task size is 1000 KiB.\n",
            "24/05/06 23:38:03 WARN TaskSetManager: Stage 481 contains a task of very large size (10434 KiB). The maximum recommended task size is 1000 KiB.\n",
            "24/05/06 23:38:03 WARN TaskSetManager: Stage 483 contains a task of very large size (10434 KiB). The maximum recommended task size is 1000 KiB.\n",
            "24/05/06 23:38:03 WARN TaskSetManager: Stage 485 contains a task of very large size (10434 KiB). The maximum recommended task size is 1000 KiB.\n",
            "24/05/06 23:38:03 WARN TaskSetManager: Stage 487 contains a task of very large size (10434 KiB). The maximum recommended task size is 1000 KiB.\n",
            "24/05/06 23:38:03 WARN TaskSetManager: Stage 489 contains a task of very large size (10434 KiB). The maximum recommended task size is 1000 KiB.\n",
            "24/05/06 23:38:03 WARN TaskSetManager: Stage 491 contains a task of very large size (10434 KiB). The maximum recommended task size is 1000 KiB.\n",
            "24/05/06 23:38:03 WARN TaskSetManager: Stage 493 contains a task of very large size (10434 KiB). The maximum recommended task size is 1000 KiB.\n",
            "24/05/06 23:38:03 WARN TaskSetManager: Stage 495 contains a task of very large size (10434 KiB). The maximum recommended task size is 1000 KiB.\n",
            "24/05/06 23:38:04 WARN TaskSetManager: Stage 497 contains a task of very large size (10434 KiB). The maximum recommended task size is 1000 KiB.\n",
            "24/05/06 23:38:04 WARN TaskSetManager: Stage 499 contains a task of very large size (10434 KiB). The maximum recommended task size is 1000 KiB.\n",
            "24/05/06 23:38:04 WARN TaskSetManager: Stage 501 contains a task of very large size (10434 KiB). The maximum recommended task size is 1000 KiB.\n",
            "24/05/06 23:38:04 WARN TaskSetManager: Stage 503 contains a task of very large size (10434 KiB). The maximum recommended task size is 1000 KiB.\n",
            "24/05/06 23:38:05 WARN TaskSetManager: Stage 505 contains a task of very large size (10434 KiB). The maximum recommended task size is 1000 KiB.\n",
            "24/05/06 23:38:05 WARN TaskSetManager: Stage 507 contains a task of very large size (10434 KiB). The maximum recommended task size is 1000 KiB.\n",
            "24/05/06 23:38:05 WARN TaskSetManager: Stage 509 contains a task of very large size (10434 KiB). The maximum recommended task size is 1000 KiB.\n",
            "24/05/06 23:38:05 WARN TaskSetManager: Stage 511 contains a task of very large size (10434 KiB). The maximum recommended task size is 1000 KiB.\n",
            "24/05/06 23:38:05 WARN TaskSetManager: Stage 513 contains a task of very large size (10434 KiB). The maximum recommended task size is 1000 KiB.\n",
            "24/05/06 23:38:05 WARN TaskSetManager: Stage 515 contains a task of very large size (10434 KiB). The maximum recommended task size is 1000 KiB.\n",
            "24/05/06 23:38:06 WARN TaskSetManager: Stage 517 contains a task of very large size (10434 KiB). The maximum recommended task size is 1000 KiB.\n",
            "24/05/06 23:38:06 WARN TaskSetManager: Stage 519 contains a task of very large size (10434 KiB). The maximum recommended task size is 1000 KiB.\n",
            "24/05/06 23:38:06 WARN TaskSetManager: Stage 521 contains a task of very large size (10434 KiB). The maximum recommended task size is 1000 KiB.\n",
            "24/05/06 23:38:06 WARN TaskSetManager: Stage 523 contains a task of very large size (10434 KiB). The maximum recommended task size is 1000 KiB.\n",
            "24/05/06 23:38:06 WARN TaskSetManager: Stage 525 contains a task of very large size (10434 KiB). The maximum recommended task size is 1000 KiB.\n",
            "24/05/06 23:38:06 WARN TaskSetManager: Stage 527 contains a task of very large size (10434 KiB). The maximum recommended task size is 1000 KiB.\n",
            "24/05/06 23:38:07 WARN TaskSetManager: Stage 529 contains a task of very large size (10434 KiB). The maximum recommended task size is 1000 KiB.\n",
            "24/05/06 23:38:07 WARN TaskSetManager: Stage 531 contains a task of very large size (10434 KiB). The maximum recommended task size is 1000 KiB.\n",
            "24/05/06 23:38:07 WARN TaskSetManager: Stage 533 contains a task of very large size (10434 KiB). The maximum recommended task size is 1000 KiB.\n",
            "24/05/06 23:38:07 WARN TaskSetManager: Stage 535 contains a task of very large size (10434 KiB). The maximum recommended task size is 1000 KiB.\n",
            "24/05/06 23:38:07 WARN TaskSetManager: Stage 537 contains a task of very large size (10434 KiB). The maximum recommended task size is 1000 KiB.\n",
            "24/05/06 23:38:07 WARN TaskSetManager: Stage 539 contains a task of very large size (10434 KiB). The maximum recommended task size is 1000 KiB.\n",
            "24/05/06 23:38:07 WARN TaskSetManager: Stage 541 contains a task of very large size (10434 KiB). The maximum recommended task size is 1000 KiB.\n",
            "24/05/06 23:38:07 WARN TaskSetManager: Stage 543 contains a task of very large size (10434 KiB). The maximum recommended task size is 1000 KiB.\n",
            "24/05/06 23:38:07 WARN TaskSetManager: Stage 545 contains a task of very large size (10434 KiB). The maximum recommended task size is 1000 KiB.\n",
            "24/05/06 23:38:08 WARN TaskSetManager: Stage 547 contains a task of very large size (10434 KiB). The maximum recommended task size is 1000 KiB.\n",
            "24/05/06 23:38:08 WARN TaskSetManager: Stage 549 contains a task of very large size (10434 KiB). The maximum recommended task size is 1000 KiB.\n",
            "24/05/06 23:38:08 WARN TaskSetManager: Stage 551 contains a task of very large size (10434 KiB). The maximum recommended task size is 1000 KiB.\n",
            "24/05/06 23:38:08 WARN TaskSetManager: Stage 553 contains a task of very large size (10434 KiB). The maximum recommended task size is 1000 KiB.\n",
            "24/05/06 23:38:08 WARN TaskSetManager: Stage 555 contains a task of very large size (10434 KiB). The maximum recommended task size is 1000 KiB.\n",
            "24/05/06 23:38:08 WARN TaskSetManager: Stage 557 contains a task of very large size (10434 KiB). The maximum recommended task size is 1000 KiB.\n",
            "24/05/06 23:38:08 WARN TaskSetManager: Stage 559 contains a task of very large size (10434 KiB). The maximum recommended task size is 1000 KiB.\n",
            "24/05/06 23:38:08 WARN TaskSetManager: Stage 561 contains a task of very large size (10434 KiB). The maximum recommended task size is 1000 KiB.\n",
            "24/05/06 23:38:08 WARN TaskSetManager: Stage 563 contains a task of very large size (10434 KiB). The maximum recommended task size is 1000 KiB.\n"
          ]
        },
        {
          "name": "stdout",
          "output_type": "stream",
          "text": [
            "Time to train:\n",
            "39.88803195953369\n"
          ]
        }
      ],
      "source": [
        "Linearsvc = LinearSVC(labelCol=\"labelIndex\", featuresCol=\"features\", maxIter=100)\n",
        "start=time.time()\n",
        "LinearSVCModel = Linearsvc.fit(training_data)\n",
        "end=time.time()\n",
        "\n",
        "print(\"Time to train:\")\n",
        "print(end-start)\n",
        "LinearSVC_TT=end-start"
      ]
    },
    {
      "cell_type": "markdown",
      "metadata": {
        "id": "kihytCoLVQx1"
      },
      "source": [
        "* **Prediction**\n",
        "\n",
        "---\n",
        "\n"
      ]
    },
    {
      "cell_type": "code",
      "execution_count": null,
      "metadata": {
        "colab": {
          "base_uri": "https://localhost:8080/"
        },
        "id": "G8zxgmGHVOcc",
        "outputId": "190c1439-d3fc-44e1-d4cf-cd019815fa72"
      },
      "outputs": [
        {
          "name": "stdout",
          "output_type": "stream",
          "text": [
            "Time to predict:\n",
            "0.033547163009643555\n"
          ]
        }
      ],
      "source": [
        "start1=time.time()\n",
        "Linear_SVC_pred = LinearSVCModel.transform(testing_data)\n",
        "end1=time.time()\n",
        "print(\"Time to predict:\")\n",
        "print(end1-start1)"
      ]
    },
    {
      "cell_type": "markdown",
      "metadata": {
        "id": "FadE2H8vZPlG"
      },
      "source": [
        "* **Evaluation**\n",
        "\n",
        "---\n",
        "\n"
      ]
    },
    {
      "cell_type": "code",
      "execution_count": null,
      "metadata": {
        "colab": {
          "base_uri": "https://localhost:8080/"
        },
        "id": "aFMBcYxAZPlV",
        "outputId": "f6f4524e-8b15-4e9b-dfa3-f05de1b2f242"
      },
      "outputs": [
        {
          "name": "stderr",
          "output_type": "stream",
          "text": [
            "24/05/06 23:38:39 WARN TaskSetManager: Stage 565 contains a task of very large size (10434 KiB). The maximum recommended task size is 1000 KiB.\n",
            "[Stage 565:>                                                        (0 + 8) / 8]\r"
          ]
        },
        {
          "name": "stdout",
          "output_type": "stream",
          "text": [
            "Accuracy: 0.9982417582417582\n"
          ]
        },
        {
          "name": "stderr",
          "output_type": "stream",
          "text": [
            "                                                                                \r"
          ]
        }
      ],
      "source": [
        "# Define a MulticlassClassificationEvaluator for accuracy\n",
        "evaluation_accuracy = MulticlassClassificationEvaluator(labelCol=\"labelIndex\", predictionCol=\"prediction\")\n",
        "\n",
        "# Compute accuracy\n",
        "LinearSVC_accuracy = evaluation_accuracy.evaluate(Linear_SVC_pred, {evaluation_accuracy.metricName: \"accuracy\"})\n",
        "print(\"Accuracy:\",LinearSVC_accuracy)"
      ]
    },
    {
      "cell_type": "code",
      "execution_count": null,
      "metadata": {
        "colab": {
          "base_uri": "https://localhost:8080/"
        },
        "id": "GGwuhQJWZPlV",
        "outputId": "db472848-8f2f-4570-f0cd-0085cb0c6134"
      },
      "outputs": [
        {
          "name": "stderr",
          "output_type": "stream",
          "text": [
            "24/05/06 23:38:44 WARN TaskSetManager: Stage 567 contains a task of very large size (10434 KiB). The maximum recommended task size is 1000 KiB.\n",
            "[Stage 567:>                                                        (0 + 8) / 8]\r"
          ]
        },
        {
          "name": "stdout",
          "output_type": "stream",
          "text": [
            "Recall: 0.9982417582417582\n"
          ]
        },
        {
          "name": "stderr",
          "output_type": "stream",
          "text": [
            "                                                                                \r"
          ]
        }
      ],
      "source": [
        "# Define a MulticlassClassificationEvaluator for recall\n",
        "evaluation_recall = MulticlassClassificationEvaluator(labelCol=\"labelIndex\", predictionCol=\"prediction\")\n",
        "\n",
        "# Compute recall\n",
        "LinearSVC_recall = evaluation_recall.evaluate(Linear_SVC_pred, {evaluation_recall.metricName: \"weightedRecall\"})\n",
        "print(\"Recall:\",LinearSVC_recall)"
      ]
    },
    {
      "cell_type": "code",
      "execution_count": null,
      "metadata": {
        "colab": {
          "base_uri": "https://localhost:8080/"
        },
        "id": "T_hoNvUzZPlW",
        "outputId": "36576713-3810-4364-909c-d47bf2b711ee"
      },
      "outputs": [
        {
          "name": "stderr",
          "output_type": "stream",
          "text": [
            "24/05/06 23:38:47 WARN TaskSetManager: Stage 569 contains a task of very large size (10434 KiB). The maximum recommended task size is 1000 KiB.\n",
            "[Stage 569:=======>                                                 (1 + 7) / 8]\r"
          ]
        },
        {
          "name": "stdout",
          "output_type": "stream",
          "text": [
            "F1 Score: 0.9982126232741617\n"
          ]
        },
        {
          "name": "stderr",
          "output_type": "stream",
          "text": [
            "                                                                                \r"
          ]
        }
      ],
      "source": [
        "# Compute F1 score\n",
        "evaluation_f1 = MulticlassClassificationEvaluator(labelCol=\"labelIndex\", predictionCol=\"prediction\")\n",
        "\n",
        "# Compute F1 score\n",
        "LinearSVC_f1_score = evaluation_f1.evaluate(Linear_SVC_pred, {evaluation_f1.metricName: \"f1\"})\n",
        "print(\"F1 Score:\", LinearSVC_f1_score)\n"
      ]
    },
    {
      "cell_type": "markdown",
      "metadata": {
        "id": "nV2KfSeiJ1HW"
      },
      "source": [
        "* **confusion Matrix**\n",
        "---"
      ]
    },
    {
      "cell_type": "code",
      "execution_count": null,
      "metadata": {
        "colab": {
          "base_uri": "https://localhost:8080/",
          "height": 112
        },
        "id": "NE5tx4p5J1HX",
        "outputId": "70da016d-8113-4e4f-d9a8-cdabb035f8b5"
      },
      "outputs": [
        {
          "name": "stderr",
          "output_type": "stream",
          "text": [
            "24/05/06 23:38:51 WARN TaskSetManager: Stage 571 contains a task of very large size (10434 KiB). The maximum recommended task size is 1000 KiB.\n",
            "                                                                                \r"
          ]
        },
        {
          "data": {
            "text/html": [
              "<div>\n",
              "<style scoped>\n",
              "    .dataframe tbody tr th:only-of-type {\n",
              "        vertical-align: middle;\n",
              "    }\n",
              "\n",
              "    .dataframe tbody tr th {\n",
              "        vertical-align: top;\n",
              "    }\n",
              "\n",
              "    .dataframe thead th {\n",
              "        text-align: right;\n",
              "    }\n",
              "</style>\n",
              "<table border=\"1\" class=\"dataframe\">\n",
              "  <thead>\n",
              "    <tr style=\"text-align: right;\">\n",
              "      <th></th>\n",
              "      <th>A_good</th>\n",
              "      <th>A_bad</th>\n",
              "    </tr>\n",
              "  </thead>\n",
              "  <tbody>\n",
              "    <tr>\n",
              "      <th>P_good</th>\n",
              "      <td>15586</td>\n",
              "      <td>3</td>\n",
              "    </tr>\n",
              "    <tr>\n",
              "      <th>P_bad</th>\n",
              "      <td>25</td>\n",
              "      <td>311</td>\n",
              "    </tr>\n",
              "  </tbody>\n",
              "</table>\n",
              "</div>"
            ],
            "text/plain": [
              "        A_good  A_bad\n",
              "P_good   15586      3\n",
              "P_bad       25    311"
            ]
          },
          "execution_count": 40,
          "metadata": {},
          "output_type": "execute_result"
        }
      ],
      "source": [
        "from sklearn.metrics import classification_report\n",
        "from sklearn.metrics import confusion_matrix\n",
        "import pandas as pd\n",
        "\n",
        "# Convert the PySpark DataFrame to a Pandas DataFrame\n",
        "pred_pd = Linear_SVC_pred.select(\"labelIndex\", \"prediction\").toPandas()\n",
        "# Genrate Confusion Matrix\n",
        "# Define the labels\n",
        "labels = pred_pd[\"labelIndex\"].unique()\n",
        "\n",
        "pd.DataFrame(confusion_matrix(pred_pd[\"labelIndex\"], pred_pd[\"prediction\"],labels=labels), index=[\"P_good\",\"P_bad\"], columns=[\"A_good\",\"A_bad\"])"
      ]
    },
    {
      "cell_type": "markdown",
      "metadata": {
        "id": "MtUZklDTb0Cs"
      },
      "source": [
        "## Decison Tree"
      ]
    },
    {
      "cell_type": "code",
      "execution_count": null,
      "metadata": {
        "id": "PnNNHkWqb4zW"
      },
      "outputs": [],
      "source": [
        "from pyspark.ml.classification import DecisionTreeClassifier\n",
        "from pyspark.ml.feature import VectorAssembler\n",
        "from pyspark.ml import Pipeline\n",
        "from pyspark.ml.evaluation import MulticlassClassificationEvaluator"
      ]
    },
    {
      "cell_type": "markdown",
      "metadata": {
        "id": "PryQz7AkcgGP"
      },
      "source": [
        "* **Fitting the Model**\n",
        "---"
      ]
    },
    {
      "cell_type": "code",
      "execution_count": null,
      "metadata": {
        "colab": {
          "base_uri": "https://localhost:8080/"
        },
        "id": "dIRvJSvEcgGQ",
        "outputId": "596a3e16-8dcf-4941-f14e-bb01369d007e"
      },
      "outputs": [
        {
          "name": "stderr",
          "output_type": "stream",
          "text": [
            "24/05/06 23:38:58 WARN TaskSetManager: Stage 572 contains a task of very large size (10434 KiB). The maximum recommended task size is 1000 KiB.\n",
            "24/05/06 23:38:59 WARN TaskSetManager: Stage 573 contains a task of very large size (10434 KiB). The maximum recommended task size is 1000 KiB.\n",
            "24/05/06 23:39:01 WARN TaskSetManager: Stage 574 contains a task of very large size (10434 KiB). The maximum recommended task size is 1000 KiB.\n",
            "24/05/06 23:39:05 WARN TaskSetManager: Stage 576 contains a task of very large size (10434 KiB). The maximum recommended task size is 1000 KiB.\n",
            "24/05/06 23:39:09 WARN TaskSetManager: Stage 578 contains a task of very large size (10434 KiB). The maximum recommended task size is 1000 KiB.\n",
            "24/05/06 23:39:09 WARN TaskSetManager: Stage 580 contains a task of very large size (10434 KiB). The maximum recommended task size is 1000 KiB.\n",
            "24/05/06 23:39:10 WARN TaskSetManager: Stage 582 contains a task of very large size (10434 KiB). The maximum recommended task size is 1000 KiB.\n"
          ]
        },
        {
          "name": "stdout",
          "output_type": "stream",
          "text": [
            "Time to train:\n",
            "11.599788904190063\n"
          ]
        },
        {
          "name": "stderr",
          "output_type": "stream",
          "text": [
            "24/05/06 23:39:10 WARN TaskSetManager: Stage 584 contains a task of very large size (10434 KiB). The maximum recommended task size is 1000 KiB.\n"
          ]
        }
      ],
      "source": [
        "# Define the Decision Tree classifier\n",
        "tree = DecisionTreeClassifier(featuresCol='features', labelCol='labelIndex',  impurity='entropy',seed=10)\n",
        "\n",
        "\n",
        "start=time.time()\n",
        "tree_model = tree.fit(training_data)\n",
        "end=time.time()\n",
        "\n",
        "print(\"Time to train:\")\n",
        "print(end-start)\n",
        "Decison_Tree_TT=end-start"
      ]
    },
    {
      "cell_type": "markdown",
      "metadata": {
        "id": "CPszeSQicgGR"
      },
      "source": [
        "* **Prediction**\n",
        "\n",
        "---\n",
        "\n"
      ]
    },
    {
      "cell_type": "code",
      "execution_count": null,
      "metadata": {
        "colab": {
          "base_uri": "https://localhost:8080/"
        },
        "id": "60Y2FN3vcgGR",
        "outputId": "d0b85f72-6d52-41c7-ba49-d5d7464c8fde"
      },
      "outputs": [
        {
          "name": "stdout",
          "output_type": "stream",
          "text": [
            "Time to predict:\n",
            "0.06037306785583496\n"
          ]
        }
      ],
      "source": [
        "start1=time.time()\n",
        "# Make predictions on the test data\n",
        "tree_predictions = tree_model.transform(testing_data)\n",
        "end1=time.time()\n",
        "print(\"Time to predict:\")\n",
        "print(end1-start1)"
      ]
    },
    {
      "cell_type": "markdown",
      "metadata": {
        "id": "esSQXjWTcgGR"
      },
      "source": [
        "* **Evaluation**\n",
        "-----"
      ]
    },
    {
      "cell_type": "code",
      "execution_count": null,
      "metadata": {
        "colab": {
          "base_uri": "https://localhost:8080/"
        },
        "id": "5htbzrxXcgGS",
        "outputId": "119da72a-58c1-478d-a420-291ab23ad8c3"
      },
      "outputs": [
        {
          "name": "stderr",
          "output_type": "stream",
          "text": [
            "24/05/06 23:39:16 WARN TaskSetManager: Stage 586 contains a task of very large size (10434 KiB). The maximum recommended task size is 1000 KiB.\n",
            "[Stage 586:>                                                        (0 + 8) / 8]\r"
          ]
        },
        {
          "name": "stdout",
          "output_type": "stream",
          "text": [
            "Accuracy: 0.9991836734693877\n"
          ]
        },
        {
          "name": "stderr",
          "output_type": "stream",
          "text": [
            "                                                                                \r"
          ]
        }
      ],
      "source": [
        "# Define a MulticlassClassificationEvaluator for accuracy\n",
        "evaluation_accuracy = MulticlassClassificationEvaluator(labelCol=\"labelIndex\", predictionCol=\"prediction\")\n",
        "\n",
        "# Compute accuracy\n",
        "Decison_Tree_accuracy = evaluation_accuracy.evaluate(tree_predictions, {evaluation_accuracy.metricName: \"accuracy\"})\n",
        "print(\"Accuracy:\", Decison_Tree_accuracy)"
      ]
    },
    {
      "cell_type": "code",
      "execution_count": null,
      "metadata": {
        "colab": {
          "base_uri": "https://localhost:8080/"
        },
        "id": "2l0aKFbMcgGS",
        "outputId": "97cc5f24-545c-4005-91a6-cd5337ecefa5"
      },
      "outputs": [
        {
          "name": "stderr",
          "output_type": "stream",
          "text": [
            "24/05/06 23:39:18 WARN TaskSetManager: Stage 588 contains a task of very large size (10434 KiB). The maximum recommended task size is 1000 KiB.\n",
            "[Stage 588:>                                                        (0 + 8) / 8]\r"
          ]
        },
        {
          "name": "stdout",
          "output_type": "stream",
          "text": [
            "Recall: 0.9991836734693877\n"
          ]
        },
        {
          "name": "stderr",
          "output_type": "stream",
          "text": [
            "                                                                                \r"
          ]
        }
      ],
      "source": [
        "# Define a MulticlassClassificationEvaluator for recall\n",
        "evaluation_recall = MulticlassClassificationEvaluator(labelCol=\"labelIndex\", predictionCol=\"prediction\")\n",
        "\n",
        "# Compute recall\n",
        "Decison_Tree_recall = evaluation_recall.evaluate(tree_predictions, {evaluation_recall.metricName: \"weightedRecall\"})\n",
        "print(\"Recall:\", Decison_Tree_recall)"
      ]
    },
    {
      "cell_type": "code",
      "execution_count": null,
      "metadata": {
        "colab": {
          "base_uri": "https://localhost:8080/"
        },
        "id": "u0XsDSVkcgGS",
        "outputId": "4c7d3f0c-0add-4127-9c8d-5e6b79e02cc6"
      },
      "outputs": [
        {
          "name": "stderr",
          "output_type": "stream",
          "text": [
            "24/05/06 23:39:20 WARN TaskSetManager: Stage 590 contains a task of very large size (10434 KiB). The maximum recommended task size is 1000 KiB.\n",
            "[Stage 590:===================================>                     (5 + 3) / 8]\r"
          ]
        },
        {
          "name": "stdout",
          "output_type": "stream",
          "text": [
            "F1 Score: 0.9991830782693485\n"
          ]
        },
        {
          "name": "stderr",
          "output_type": "stream",
          "text": [
            "                                                                                \r"
          ]
        }
      ],
      "source": [
        "# Compute F1 score\n",
        "evaluation_f1 = MulticlassClassificationEvaluator(labelCol=\"labelIndex\", predictionCol=\"prediction\")\n",
        "\n",
        "# Compute F1 score\n",
        "Decison_Tree_f1_score = evaluation_f1.evaluate(tree_predictions, {evaluation_f1.metricName: \"f1\"})\n",
        "print(\"F1 Score:\", Decison_Tree_f1_score)\n"
      ]
    },
    {
      "cell_type": "markdown",
      "metadata": {
        "id": "cbKggqnXJlT6"
      },
      "source": [
        "* **confusion Matrix**\n",
        "---"
      ]
    },
    {
      "cell_type": "code",
      "execution_count": null,
      "metadata": {
        "colab": {
          "base_uri": "https://localhost:8080/",
          "height": 112
        },
        "id": "H3g79bHQJlT6",
        "outputId": "64af3569-4c27-4e18-ac66-e26778672318"
      },
      "outputs": [
        {
          "name": "stderr",
          "output_type": "stream",
          "text": [
            "24/05/06 23:39:22 WARN TaskSetManager: Stage 592 contains a task of very large size (10434 KiB). The maximum recommended task size is 1000 KiB.\n",
            "                                                                                \r"
          ]
        },
        {
          "data": {
            "text/html": [
              "<div>\n",
              "<style scoped>\n",
              "    .dataframe tbody tr th:only-of-type {\n",
              "        vertical-align: middle;\n",
              "    }\n",
              "\n",
              "    .dataframe tbody tr th {\n",
              "        vertical-align: top;\n",
              "    }\n",
              "\n",
              "    .dataframe thead th {\n",
              "        text-align: right;\n",
              "    }\n",
              "</style>\n",
              "<table border=\"1\" class=\"dataframe\">\n",
              "  <thead>\n",
              "    <tr style=\"text-align: right;\">\n",
              "      <th></th>\n",
              "      <th>A_good</th>\n",
              "      <th>A_bad</th>\n",
              "    </tr>\n",
              "  </thead>\n",
              "  <tbody>\n",
              "    <tr>\n",
              "      <th>P_good</th>\n",
              "      <td>15583</td>\n",
              "      <td>6</td>\n",
              "    </tr>\n",
              "    <tr>\n",
              "      <th>P_bad</th>\n",
              "      <td>7</td>\n",
              "      <td>329</td>\n",
              "    </tr>\n",
              "  </tbody>\n",
              "</table>\n",
              "</div>"
            ],
            "text/plain": [
              "        A_good  A_bad\n",
              "P_good   15583      6\n",
              "P_bad        7    329"
            ]
          },
          "execution_count": 47,
          "metadata": {},
          "output_type": "execute_result"
        }
      ],
      "source": [
        "from sklearn.metrics import classification_report\n",
        "from sklearn.metrics import confusion_matrix\n",
        "import pandas as pd\n",
        "\n",
        "# Convert the PySpark DataFrame to a Pandas DataFrame\n",
        "pred_pd = tree_predictions.select(\"labelIndex\", \"prediction\").toPandas()\n",
        "# Genrate Confusion Matrix\n",
        "# Define the labels\n",
        "labels = pred_pd[\"labelIndex\"].unique()\n",
        "\n",
        "pd.DataFrame(confusion_matrix(pred_pd[\"labelIndex\"], pred_pd[\"prediction\"],labels=labels), index=[\"P_good\",\"P_bad\"], columns=[\"A_good\",\"A_bad\"])"
      ]
    },
    {
      "cell_type": "markdown",
      "metadata": {
        "id": "IsBVs6oPd8cG"
      },
      "source": [
        "## Random Forest"
      ]
    },
    {
      "cell_type": "code",
      "execution_count": null,
      "metadata": {
        "id": "ndKyF8LNeU1e"
      },
      "outputs": [],
      "source": [
        "from pyspark.ml.classification import RandomForestClassifier\n",
        "import time\n"
      ]
    },
    {
      "cell_type": "markdown",
      "metadata": {
        "id": "Q2F_REx4eI6I"
      },
      "source": [
        "* **Fitting the Model**\n",
        "---"
      ]
    },
    {
      "cell_type": "code",
      "execution_count": null,
      "metadata": {
        "colab": {
          "base_uri": "https://localhost:8080/"
        },
        "id": "U3ID9fUteI6U",
        "outputId": "b7d0b3f0-fe0b-4610-abf2-a975e21a5617"
      },
      "outputs": [
        {
          "name": "stderr",
          "output_type": "stream",
          "text": [
            "24/05/06 23:40:49 WARN TaskSetManager: Stage 607 contains a task of very large size (10434 KiB). The maximum recommended task size is 1000 KiB.\n",
            "24/05/06 23:40:50 WARN TaskSetManager: Stage 608 contains a task of very large size (10434 KiB). The maximum recommended task size is 1000 KiB.\n",
            "24/05/06 23:40:53 WARN TaskSetManager: Stage 609 contains a task of very large size (10434 KiB). The maximum recommended task size is 1000 KiB.\n",
            "24/05/06 23:40:56 WARN TaskSetManager: Stage 611 contains a task of very large size (10434 KiB). The maximum recommended task size is 1000 KiB.\n",
            "24/05/06 23:40:59 WARN TaskSetManager: Stage 613 contains a task of very large size (10434 KiB). The maximum recommended task size is 1000 KiB.\n",
            "24/05/06 23:41:00 WARN TaskSetManager: Stage 615 contains a task of very large size (10434 KiB). The maximum recommended task size is 1000 KiB.\n",
            "24/05/06 23:41:00 WARN TaskSetManager: Stage 617 contains a task of very large size (10434 KiB). The maximum recommended task size is 1000 KiB.\n",
            "24/05/06 23:41:00 WARN TaskSetManager: Stage 619 contains a task of very large size (10434 KiB). The maximum recommended task size is 1000 KiB.\n"
          ]
        },
        {
          "name": "stdout",
          "output_type": "stream",
          "text": [
            "Time to train:\n",
            "11.87963080406189\n"
          ]
        }
      ],
      "source": [
        "# Define the Random Forest classifier\n",
        "rf = RandomForestClassifier(featuresCol='features', labelCol='labelIndex', impurity='entropy', seed=10)\n",
        "\n",
        "start=time.time()\n",
        "rf_model = rf.fit(training_data)\n",
        "end=time.time()\n",
        "\n",
        "print(\"Time to train:\")\n",
        "print(end-start)\n",
        "Random_Forest_TT=end-start"
      ]
    },
    {
      "cell_type": "markdown",
      "metadata": {
        "id": "0UdwVNzAeI6V"
      },
      "source": [
        "* **Prediction**\n",
        "---"
      ]
    },
    {
      "cell_type": "code",
      "execution_count": null,
      "metadata": {
        "colab": {
          "base_uri": "https://localhost:8080/"
        },
        "id": "Vl2LW7IVeI6V",
        "outputId": "6c9b9008-6226-4a83-925d-0d7b39d2abaa"
      },
      "outputs": [
        {
          "name": "stdout",
          "output_type": "stream",
          "text": [
            "Time to predict:\n",
            "0.06789612770080566\n"
          ]
        }
      ],
      "source": [
        "start1=time.time()\n",
        "rf_model = rf_model.transform(testing_data)\n",
        "end1=time.time()\n",
        "print(\"Time to predict:\")\n",
        "print(end1-start1)"
      ]
    },
    {
      "cell_type": "markdown",
      "metadata": {
        "id": "62IhmRILeI6V"
      },
      "source": [
        "* **Evaluation**\n",
        "---"
      ]
    },
    {
      "cell_type": "code",
      "execution_count": null,
      "metadata": {
        "colab": {
          "base_uri": "https://localhost:8080/"
        },
        "id": "oYjAswqXeI6W",
        "outputId": "08654794-6529-4131-f8c6-93dbdb7a371d"
      },
      "outputs": [
        {
          "name": "stderr",
          "output_type": "stream",
          "text": [
            "24/05/06 23:41:15 WARN TaskSetManager: Stage 621 contains a task of very large size (10434 KiB). The maximum recommended task size is 1000 KiB.\n",
            "[Stage 621:==============>                                          (2 + 6) / 8]\r"
          ]
        },
        {
          "name": "stdout",
          "output_type": "stream",
          "text": [
            "Accuracy: 0.9980533751962324\n"
          ]
        },
        {
          "name": "stderr",
          "output_type": "stream",
          "text": [
            "                                                                                \r"
          ]
        }
      ],
      "source": [
        "# Define a MulticlassClassificationEvaluator for accuracy\n",
        "evaluation_accuracy = MulticlassClassificationEvaluator(labelCol=\"labelIndex\", predictionCol=\"prediction\")\n",
        "\n",
        "# Compute accuracy\n",
        "Random_Forest_accuracy = evaluation_accuracy.evaluate(rf_model, {evaluation_accuracy.metricName: \"accuracy\"})\n",
        "print(\"Accuracy:\", Random_Forest_accuracy)"
      ]
    },
    {
      "cell_type": "code",
      "execution_count": null,
      "metadata": {
        "colab": {
          "base_uri": "https://localhost:8080/"
        },
        "id": "1kWMlmPgeI6W",
        "outputId": "f04f2873-ed78-455a-8ce3-55e57947ee0e"
      },
      "outputs": [
        {
          "name": "stderr",
          "output_type": "stream",
          "text": [
            "24/05/06 23:41:21 WARN TaskSetManager: Stage 623 contains a task of very large size (10434 KiB). The maximum recommended task size is 1000 KiB.\n",
            "[Stage 623:>                                                        (0 + 8) / 8]\r"
          ]
        },
        {
          "name": "stdout",
          "output_type": "stream",
          "text": [
            "Recall: 0.9980533751962323\n"
          ]
        },
        {
          "name": "stderr",
          "output_type": "stream",
          "text": [
            "                                                                                \r"
          ]
        }
      ],
      "source": [
        "# Define a MulticlassClassificationEvaluator for recall\n",
        "evaluation_recall = MulticlassClassificationEvaluator(labelCol=\"labelIndex\", predictionCol=\"prediction\")\n",
        "\n",
        "# Compute recall\n",
        "Random_Forest_recall = evaluation_recall.evaluate(rf_model, {evaluation_recall.metricName: \"weightedRecall\"})\n",
        "print(\"Recall:\", Random_Forest_recall)"
      ]
    },
    {
      "cell_type": "code",
      "execution_count": null,
      "metadata": {
        "colab": {
          "base_uri": "https://localhost:8080/"
        },
        "id": "aCW86YD1eI6W",
        "outputId": "338da5ef-863f-45da-c686-daac3d6d2653"
      },
      "outputs": [
        {
          "name": "stderr",
          "output_type": "stream",
          "text": [
            "24/05/06 23:41:27 WARN TaskSetManager: Stage 625 contains a task of very large size (10434 KiB). The maximum recommended task size is 1000 KiB.\n",
            "[Stage 625:>                                                        (0 + 8) / 8]\r"
          ]
        },
        {
          "name": "stdout",
          "output_type": "stream",
          "text": [
            "F1 Score: 0.9980072707199633\n"
          ]
        },
        {
          "name": "stderr",
          "output_type": "stream",
          "text": [
            "                                                                                \r"
          ]
        }
      ],
      "source": [
        "# Compute F1 score\n",
        "evaluation_f1 = MulticlassClassificationEvaluator(labelCol=\"labelIndex\", predictionCol=\"prediction\")\n",
        "\n",
        "# Compute F1 score\n",
        "Random_Forest_f1_score = evaluation_f1.evaluate(rf_model, {evaluation_f1.metricName: \"f1\"})\n",
        "print(\"F1 Score:\", Random_Forest_f1_score)\n"
      ]
    },
    {
      "cell_type": "markdown",
      "metadata": {
        "id": "wV_CcAX8JEcQ"
      },
      "source": [
        "* **confusion Matrix**\n",
        "---"
      ]
    },
    {
      "cell_type": "code",
      "execution_count": null,
      "metadata": {
        "colab": {
          "base_uri": "https://localhost:8080/",
          "height": 112
        },
        "id": "8A51XzeWJEcQ",
        "outputId": "215a2216-54df-4c05-9383-52052f48e59e"
      },
      "outputs": [
        {
          "name": "stderr",
          "output_type": "stream",
          "text": [
            "24/05/06 23:41:30 WARN TaskSetManager: Stage 627 contains a task of very large size (10434 KiB). The maximum recommended task size is 1000 KiB.\n",
            "                                                                                \r"
          ]
        },
        {
          "data": {
            "text/html": [
              "<div>\n",
              "<style scoped>\n",
              "    .dataframe tbody tr th:only-of-type {\n",
              "        vertical-align: middle;\n",
              "    }\n",
              "\n",
              "    .dataframe tbody tr th {\n",
              "        vertical-align: top;\n",
              "    }\n",
              "\n",
              "    .dataframe thead th {\n",
              "        text-align: right;\n",
              "    }\n",
              "</style>\n",
              "<table border=\"1\" class=\"dataframe\">\n",
              "  <thead>\n",
              "    <tr style=\"text-align: right;\">\n",
              "      <th></th>\n",
              "      <th>A_good</th>\n",
              "      <th>A_bad</th>\n",
              "    </tr>\n",
              "  </thead>\n",
              "  <tbody>\n",
              "    <tr>\n",
              "      <th>P_good</th>\n",
              "      <td>15589</td>\n",
              "      <td>0</td>\n",
              "    </tr>\n",
              "    <tr>\n",
              "      <th>P_bad</th>\n",
              "      <td>31</td>\n",
              "      <td>305</td>\n",
              "    </tr>\n",
              "  </tbody>\n",
              "</table>\n",
              "</div>"
            ],
            "text/plain": [
              "        A_good  A_bad\n",
              "P_good   15589      0\n",
              "P_bad       31    305"
            ]
          },
          "execution_count": 57,
          "metadata": {},
          "output_type": "execute_result"
        }
      ],
      "source": [
        "from sklearn.metrics import classification_report\n",
        "from sklearn.metrics import confusion_matrix\n",
        "import pandas as pd\n",
        "\n",
        "# Convert the PySpark DataFrame to a Pandas DataFrame\n",
        "pred_pd = rf_model.select(\"labelIndex\", \"prediction\").toPandas()\n",
        "# Genrate Confusion Matrix\n",
        "# Define the labels\n",
        "labels = pred_pd[\"labelIndex\"].unique()\n",
        "\n",
        "pd.DataFrame(confusion_matrix(pred_pd[\"labelIndex\"], pred_pd[\"prediction\"],labels=labels), index=[\"P_good\",\"P_bad\"], columns=[\"A_good\",\"A_bad\"])"
      ]
    },
    {
      "cell_type": "markdown",
      "metadata": {
        "id": "ugM2EaqE1VXZ"
      },
      "source": [
        "## Gradient Boosting  Classifier"
      ]
    },
    {
      "cell_type": "code",
      "execution_count": null,
      "metadata": {
        "id": "OI8ntfoZ1fx1"
      },
      "outputs": [],
      "source": [
        "from pyspark.ml.classification import GBTClassifier"
      ]
    },
    {
      "cell_type": "markdown",
      "metadata": {
        "id": "zZazSgeM1gEr"
      },
      "source": [
        "* **Fitting the Model**\n",
        "---"
      ]
    },
    {
      "cell_type": "code",
      "execution_count": null,
      "metadata": {
        "colab": {
          "base_uri": "https://localhost:8080/"
        },
        "id": "XAQY2_N81gEr",
        "outputId": "768e7e7d-6b1a-4604-d9cd-3e4f0821cfb7"
      },
      "outputs": [
        {
          "name": "stderr",
          "output_type": "stream",
          "text": [
            "24/05/06 23:41:33 WARN TaskSetManager: Stage 628 contains a task of very large size (10434 KiB). The maximum recommended task size is 1000 KiB.\n",
            "24/05/06 23:41:34 WARN TaskSetManager: Stage 629 contains a task of very large size (10434 KiB). The maximum recommended task size is 1000 KiB.\n",
            "24/05/06 23:41:37 WARN TaskSetManager: Stage 630 contains a task of very large size (10434 KiB). The maximum recommended task size is 1000 KiB.\n",
            "24/05/06 23:41:41 WARN TaskSetManager: Stage 632 contains a task of very large size (10434 KiB). The maximum recommended task size is 1000 KiB.\n",
            "24/05/06 23:41:44 WARN TaskSetManager: Stage 634 contains a task of very large size (10434 KiB). The maximum recommended task size is 1000 KiB.\n",
            "24/05/06 23:41:44 WARN TaskSetManager: Stage 636 contains a task of very large size (10434 KiB). The maximum recommended task size is 1000 KiB.\n",
            "24/05/06 23:41:44 WARN TaskSetManager: Stage 638 contains a task of very large size (10434 KiB). The maximum recommended task size is 1000 KiB.\n",
            "24/05/06 23:41:44 WARN TaskSetManager: Stage 640 contains a task of very large size (10434 KiB). The maximum recommended task size is 1000 KiB.\n",
            "24/05/06 23:41:45 WARN TaskSetManager: Stage 642 contains a task of very large size (10434 KiB). The maximum recommended task size is 1000 KiB.\n",
            "24/05/06 23:41:45 WARN TaskSetManager: Stage 644 contains a task of very large size (10434 KiB). The maximum recommended task size is 1000 KiB.\n",
            "24/05/06 23:41:45 WARN TaskSetManager: Stage 646 contains a task of very large size (10434 KiB). The maximum recommended task size is 1000 KiB.\n",
            "24/05/06 23:41:45 WARN TaskSetManager: Stage 648 contains a task of very large size (10434 KiB). The maximum recommended task size is 1000 KiB.\n",
            "24/05/06 23:41:45 WARN TaskSetManager: Stage 650 contains a task of very large size (10434 KiB). The maximum recommended task size is 1000 KiB.\n",
            "24/05/06 23:41:45 WARN TaskSetManager: Stage 652 contains a task of very large size (10434 KiB). The maximum recommended task size is 1000 KiB.\n",
            "24/05/06 23:41:46 WARN TaskSetManager: Stage 654 contains a task of very large size (10434 KiB). The maximum recommended task size is 1000 KiB.\n",
            "24/05/06 23:41:46 WARN TaskSetManager: Stage 656 contains a task of very large size (10434 KiB). The maximum recommended task size is 1000 KiB.\n",
            "24/05/06 23:41:46 WARN TaskSetManager: Stage 658 contains a task of very large size (10434 KiB). The maximum recommended task size is 1000 KiB.\n",
            "24/05/06 23:41:46 WARN TaskSetManager: Stage 660 contains a task of very large size (10434 KiB). The maximum recommended task size is 1000 KiB.\n",
            "24/05/06 23:41:46 WARN TaskSetManager: Stage 662 contains a task of very large size (10434 KiB). The maximum recommended task size is 1000 KiB.\n",
            "24/05/06 23:41:46 WARN TaskSetManager: Stage 664 contains a task of very large size (10434 KiB). The maximum recommended task size is 1000 KiB.\n",
            "24/05/06 23:41:46 WARN TaskSetManager: Stage 666 contains a task of very large size (10434 KiB). The maximum recommended task size is 1000 KiB.\n",
            "24/05/06 23:41:47 WARN TaskSetManager: Stage 668 contains a task of very large size (10434 KiB). The maximum recommended task size is 1000 KiB.\n",
            "24/05/06 23:41:47 WARN TaskSetManager: Stage 670 contains a task of very large size (10434 KiB). The maximum recommended task size is 1000 KiB.\n",
            "24/05/06 23:41:47 WARN TaskSetManager: Stage 672 contains a task of very large size (10434 KiB). The maximum recommended task size is 1000 KiB.\n",
            "24/05/06 23:41:47 WARN TaskSetManager: Stage 674 contains a task of very large size (10434 KiB). The maximum recommended task size is 1000 KiB.\n",
            "24/05/06 23:41:47 WARN TaskSetManager: Stage 676 contains a task of very large size (10434 KiB). The maximum recommended task size is 1000 KiB.\n",
            "24/05/06 23:41:47 WARN TaskSetManager: Stage 678 contains a task of very large size (10434 KiB). The maximum recommended task size is 1000 KiB.\n",
            "24/05/06 23:41:47 WARN TaskSetManager: Stage 680 contains a task of very large size (10434 KiB). The maximum recommended task size is 1000 KiB.\n",
            "24/05/06 23:41:48 WARN TaskSetManager: Stage 682 contains a task of very large size (10434 KiB). The maximum recommended task size is 1000 KiB.\n",
            "24/05/06 23:41:48 WARN TaskSetManager: Stage 684 contains a task of very large size (10434 KiB). The maximum recommended task size is 1000 KiB.\n",
            "24/05/06 23:41:48 WARN TaskSetManager: Stage 686 contains a task of very large size (10434 KiB). The maximum recommended task size is 1000 KiB.\n",
            "24/05/06 23:41:48 WARN TaskSetManager: Stage 688 contains a task of very large size (10434 KiB). The maximum recommended task size is 1000 KiB.\n",
            "24/05/06 23:41:48 WARN TaskSetManager: Stage 690 contains a task of very large size (10434 KiB). The maximum recommended task size is 1000 KiB.\n",
            "24/05/06 23:41:48 WARN TaskSetManager: Stage 692 contains a task of very large size (10434 KiB). The maximum recommended task size is 1000 KiB.\n",
            "24/05/06 23:41:48 WARN TaskSetManager: Stage 694 contains a task of very large size (10434 KiB). The maximum recommended task size is 1000 KiB.\n",
            "24/05/06 23:41:49 WARN TaskSetManager: Stage 696 contains a task of very large size (10434 KiB). The maximum recommended task size is 1000 KiB.\n",
            "24/05/06 23:41:49 WARN TaskSetManager: Stage 698 contains a task of very large size (10434 KiB). The maximum recommended task size is 1000 KiB.\n",
            "24/05/06 23:41:49 WARN TaskSetManager: Stage 700 contains a task of very large size (10434 KiB). The maximum recommended task size is 1000 KiB.\n",
            "24/05/06 23:41:49 WARN TaskSetManager: Stage 702 contains a task of very large size (10434 KiB). The maximum recommended task size is 1000 KiB.\n",
            "24/05/06 23:41:49 WARN TaskSetManager: Stage 704 contains a task of very large size (10434 KiB). The maximum recommended task size is 1000 KiB.\n",
            "24/05/06 23:41:49 WARN TaskSetManager: Stage 706 contains a task of very large size (10434 KiB). The maximum recommended task size is 1000 KiB.\n",
            "24/05/06 23:41:49 WARN TaskSetManager: Stage 708 contains a task of very large size (10434 KiB). The maximum recommended task size is 1000 KiB.\n",
            "24/05/06 23:41:50 WARN TaskSetManager: Stage 710 contains a task of very large size (10434 KiB). The maximum recommended task size is 1000 KiB.\n",
            "24/05/06 23:41:50 WARN TaskSetManager: Stage 712 contains a task of very large size (10434 KiB). The maximum recommended task size is 1000 KiB.\n",
            "24/05/06 23:41:50 WARN TaskSetManager: Stage 714 contains a task of very large size (10434 KiB). The maximum recommended task size is 1000 KiB.\n",
            "24/05/06 23:41:50 WARN TaskSetManager: Stage 716 contains a task of very large size (10434 KiB). The maximum recommended task size is 1000 KiB.\n",
            "24/05/06 23:41:50 WARN TaskSetManager: Stage 718 contains a task of very large size (10434 KiB). The maximum recommended task size is 1000 KiB.\n",
            "24/05/06 23:41:50 WARN TaskSetManager: Stage 720 contains a task of very large size (10434 KiB). The maximum recommended task size is 1000 KiB.\n",
            "24/05/06 23:41:50 WARN TaskSetManager: Stage 722 contains a task of very large size (10434 KiB). The maximum recommended task size is 1000 KiB.\n",
            "24/05/06 23:41:51 WARN TaskSetManager: Stage 724 contains a task of very large size (10434 KiB). The maximum recommended task size is 1000 KiB.\n",
            "24/05/06 23:41:51 WARN TaskSetManager: Stage 726 contains a task of very large size (10434 KiB). The maximum recommended task size is 1000 KiB.\n",
            "24/05/06 23:41:51 WARN TaskSetManager: Stage 728 contains a task of very large size (10434 KiB). The maximum recommended task size is 1000 KiB.\n",
            "24/05/06 23:41:51 WARN TaskSetManager: Stage 730 contains a task of very large size (10434 KiB). The maximum recommended task size is 1000 KiB.\n"
          ]
        },
        {
          "name": "stdout",
          "output_type": "stream",
          "text": [
            "Time to train:\n",
            "18.127641916275024\n"
          ]
        }
      ],
      "source": [
        "# Define the GBTClassifier\n",
        "gbt = GBTClassifier(featuresCol='features', labelCol='labelIndex', maxIter=10)\n",
        "start=time.time()\n",
        "gbt_model = gbt.fit(training_data)\n",
        "end=time.time()\n",
        "\n",
        "print(\"Time to train:\")\n",
        "print(end-start)\n",
        "Gradient_Boosting_TT=end-start"
      ]
    },
    {
      "cell_type": "markdown",
      "metadata": {
        "id": "XtsvNL9c1gEs"
      },
      "source": [
        "* **Prediction**\n",
        "---"
      ]
    },
    {
      "cell_type": "code",
      "execution_count": null,
      "metadata": {
        "colab": {
          "base_uri": "https://localhost:8080/"
        },
        "id": "wXoQNwBS1gEs",
        "outputId": "796106c0-646f-45ef-b433-10f1962edc72"
      },
      "outputs": [
        {
          "name": "stdout",
          "output_type": "stream",
          "text": [
            "Time to predict:\n",
            "0.051078081130981445\n"
          ]
        }
      ],
      "source": [
        "start1=time.time()\n",
        "gbt_predictions = gbt_model.transform(training_data)\n",
        "end1=time.time()\n",
        "print(\"Time to predict:\")\n",
        "print(end1-start1)"
      ]
    },
    {
      "cell_type": "markdown",
      "metadata": {
        "id": "jnzfX8KE1gEs"
      },
      "source": [
        "* **Evaluation**\n",
        "---"
      ]
    },
    {
      "cell_type": "code",
      "execution_count": null,
      "metadata": {
        "colab": {
          "base_uri": "https://localhost:8080/"
        },
        "id": "1rfdHZu11gEt",
        "outputId": "cb26bb88-fa83-4e41-b84a-8a5e1d5da4dc"
      },
      "outputs": [
        {
          "name": "stderr",
          "output_type": "stream",
          "text": [
            "24/05/06 23:41:56 WARN TaskSetManager: Stage 732 contains a task of very large size (10434 KiB). The maximum recommended task size is 1000 KiB.\n",
            "[Stage 732:>                                                        (0 + 8) / 8]\r"
          ]
        },
        {
          "name": "stdout",
          "output_type": "stream",
          "text": [
            "Accuracy: 0.9982417582417582\n"
          ]
        },
        {
          "name": "stderr",
          "output_type": "stream",
          "text": [
            "                                                                                \r"
          ]
        }
      ],
      "source": [
        "# Define a MulticlassClassificationEvaluator for accuracy\n",
        "evaluation_accuracy = MulticlassClassificationEvaluator(labelCol=\"labelIndex\", predictionCol=\"prediction\")\n",
        "\n",
        "# Compute accuracy\n",
        "Gradient_Boosting_accuracy = evaluation_accuracy.evaluate(gbt_predictions, {evaluation_accuracy.metricName: \"accuracy\"})\n",
        "print(\"Accuracy:\",LinearSVC_accuracy)"
      ]
    },
    {
      "cell_type": "code",
      "execution_count": null,
      "metadata": {
        "colab": {
          "base_uri": "https://localhost:8080/"
        },
        "id": "X0gaKP9h1gEt",
        "outputId": "97dc0f3e-cb51-4b97-b856-dcdde20595a3"
      },
      "outputs": [
        {
          "name": "stderr",
          "output_type": "stream",
          "text": [
            "24/05/06 23:41:58 WARN TaskSetManager: Stage 734 contains a task of very large size (10434 KiB). The maximum recommended task size is 1000 KiB.\n",
            "[Stage 734:=======>                                                 (1 + 7) / 8]\r"
          ]
        },
        {
          "name": "stdout",
          "output_type": "stream",
          "text": [
            "Recall: 0.9996771826852532\n"
          ]
        },
        {
          "name": "stderr",
          "output_type": "stream",
          "text": [
            "                                                                                \r"
          ]
        }
      ],
      "source": [
        "# Define a MulticlassClassificationEvaluator for recall\n",
        "evaluation_recall = MulticlassClassificationEvaluator(labelCol=\"labelIndex\", predictionCol=\"prediction\")\n",
        "\n",
        "# Compute recall\n",
        "Gradient_Boosting_recall = evaluation_recall.evaluate(gbt_predictions, {evaluation_recall.metricName: \"weightedRecall\"})\n",
        "print(\"Recall:\", Gradient_Boosting_recall)"
      ]
    },
    {
      "cell_type": "code",
      "execution_count": null,
      "metadata": {
        "colab": {
          "base_uri": "https://localhost:8080/"
        },
        "id": "YiYDGaQ31gEt",
        "outputId": "c2e092f8-b81c-4716-c93d-03c2af9e030c"
      },
      "outputs": [
        {
          "name": "stderr",
          "output_type": "stream",
          "text": [
            "24/05/06 23:42:00 WARN TaskSetManager: Stage 736 contains a task of very large size (10434 KiB). The maximum recommended task size is 1000 KiB.\n",
            "[Stage 736:>                                                        (0 + 8) / 8]\r"
          ]
        },
        {
          "name": "stdout",
          "output_type": "stream",
          "text": [
            "F1 Score: 0.9996760185124074\n"
          ]
        },
        {
          "name": "stderr",
          "output_type": "stream",
          "text": [
            "                                                                                \r"
          ]
        }
      ],
      "source": [
        "# Compute F1 score\n",
        "evaluation_f1 = MulticlassClassificationEvaluator(labelCol=\"labelIndex\", predictionCol=\"prediction\")\n",
        "\n",
        "# Compute F1 score\n",
        "Gradient_Boosting_f1_score = evaluation_f1.evaluate(gbt_predictions, {evaluation_f1.metricName: \"f1\"})\n",
        "print(\"F1 Score:\", Gradient_Boosting_f1_score)\n"
      ]
    },
    {
      "cell_type": "markdown",
      "metadata": {
        "id": "W8C-wxbBHn0l"
      },
      "source": [
        "* **confusion Matrix**\n",
        "---"
      ]
    },
    {
      "cell_type": "code",
      "execution_count": null,
      "metadata": {
        "colab": {
          "base_uri": "https://localhost:8080/",
          "height": 112
        },
        "id": "6epIJBoA1gEt",
        "outputId": "d5610244-89bd-4544-c8aa-edfa1246a66d"
      },
      "outputs": [
        {
          "name": "stderr",
          "output_type": "stream",
          "text": [
            "24/05/06 23:42:04 WARN TaskSetManager: Stage 738 contains a task of very large size (10434 KiB). The maximum recommended task size is 1000 KiB.\n",
            "                                                                                \r"
          ]
        },
        {
          "data": {
            "text/html": [
              "<div>\n",
              "<style scoped>\n",
              "    .dataframe tbody tr th:only-of-type {\n",
              "        vertical-align: middle;\n",
              "    }\n",
              "\n",
              "    .dataframe tbody tr th {\n",
              "        vertical-align: top;\n",
              "    }\n",
              "\n",
              "    .dataframe thead th {\n",
              "        text-align: right;\n",
              "    }\n",
              "</style>\n",
              "<table border=\"1\" class=\"dataframe\">\n",
              "  <thead>\n",
              "    <tr style=\"text-align: right;\">\n",
              "      <th></th>\n",
              "      <th>A_good</th>\n",
              "      <th>A_bad</th>\n",
              "    </tr>\n",
              "  </thead>\n",
              "  <tbody>\n",
              "    <tr>\n",
              "      <th>P_good</th>\n",
              "      <td>33324</td>\n",
              "      <td>0</td>\n",
              "    </tr>\n",
              "    <tr>\n",
              "      <th>P_bad</th>\n",
              "      <td>11</td>\n",
              "      <td>740</td>\n",
              "    </tr>\n",
              "  </tbody>\n",
              "</table>\n",
              "</div>"
            ],
            "text/plain": [
              "        A_good  A_bad\n",
              "P_good   33324      0\n",
              "P_bad       11    740"
            ]
          },
          "execution_count": 64,
          "metadata": {},
          "output_type": "execute_result"
        }
      ],
      "source": [
        "from sklearn.metrics import classification_report\n",
        "from sklearn.metrics import confusion_matrix\n",
        "import pandas as pd\n",
        "\n",
        "# Convert the PySpark DataFrame to a Pandas DataFrame\n",
        "pred_pd = gbt_predictions.select(\"labelIndex\", \"prediction\").toPandas()\n",
        "# Genrate Confusion Matrix\n",
        "# Define the labels\n",
        "labels = pred_pd[\"labelIndex\"].unique()\n",
        "\n",
        "pd.DataFrame(confusion_matrix(pred_pd[\"labelIndex\"], pred_pd[\"prediction\"],labels=labels), index=[\"P_good\",\"P_bad\"], columns=[\"A_good\",\"A_bad\"])"
      ]
    },
    {
      "cell_type": "markdown",
      "metadata": {
        "id": "eXkeoqHPfhn8"
      },
      "source": [
        "# COMPARISON OF ALL ACCURACY OF OUR MODEL\n",
        "\n",
        "\n",
        "\n"
      ]
    },
    {
      "cell_type": "code",
      "execution_count": null,
      "metadata": {
        "colab": {
          "base_uri": "https://localhost:8080/",
          "height": 216
        },
        "id": "tfXs4BWngWe5",
        "outputId": "4d96b577-5dc9-4c7d-c593-de22b2322fe2"
      },
      "outputs": [
        {
          "data": {
            "text/html": [
              "<div>\n",
              "<style scoped>\n",
              "    .dataframe tbody tr th:only-of-type {\n",
              "        vertical-align: middle;\n",
              "    }\n",
              "\n",
              "    .dataframe tbody tr th {\n",
              "        vertical-align: top;\n",
              "    }\n",
              "\n",
              "    .dataframe thead th {\n",
              "        text-align: right;\n",
              "    }\n",
              "</style>\n",
              "<table border=\"1\" class=\"dataframe\">\n",
              "  <thead>\n",
              "    <tr style=\"text-align: right;\">\n",
              "      <th></th>\n",
              "      <th>Accuracy</th>\n",
              "      <th>Recall</th>\n",
              "      <th>F1 Score</th>\n",
              "      <th>Time_Taken</th>\n",
              "    </tr>\n",
              "  </thead>\n",
              "  <tbody>\n",
              "    <tr>\n",
              "      <th>NAIVE BAYES</th>\n",
              "      <td>0.997614</td>\n",
              "      <td>0.997614</td>\n",
              "      <td>0.997544</td>\n",
              "      <td>2.524231</td>\n",
              "    </tr>\n",
              "    <tr>\n",
              "      <th>LinearSVC</th>\n",
              "      <td>0.998242</td>\n",
              "      <td>0.998242</td>\n",
              "      <td>0.998213</td>\n",
              "      <td>39.888032</td>\n",
              "    </tr>\n",
              "    <tr>\n",
              "      <th>DECISION TREE</th>\n",
              "      <td>0.999184</td>\n",
              "      <td>0.999184</td>\n",
              "      <td>0.999183</td>\n",
              "      <td>11.599789</td>\n",
              "    </tr>\n",
              "    <tr>\n",
              "      <th>RANDOM FOREST</th>\n",
              "      <td>0.998053</td>\n",
              "      <td>0.998053</td>\n",
              "      <td>0.998007</td>\n",
              "      <td>11.879631</td>\n",
              "    </tr>\n",
              "    <tr>\n",
              "      <th>Gradient Boosting</th>\n",
              "      <td>0.999677</td>\n",
              "      <td>0.999677</td>\n",
              "      <td>0.999676</td>\n",
              "      <td>18.127642</td>\n",
              "    </tr>\n",
              "  </tbody>\n",
              "</table>\n",
              "</div>"
            ],
            "text/plain": [
              "                   Accuracy    Recall  F1 Score  Time_Taken\n",
              "NAIVE BAYES        0.997614  0.997614  0.997544    2.524231\n",
              "LinearSVC          0.998242  0.998242  0.998213   39.888032\n",
              "DECISION TREE      0.999184  0.999184  0.999183   11.599789\n",
              "RANDOM FOREST      0.998053  0.998053  0.998007   11.879631\n",
              "Gradient Boosting  0.999677  0.999677  0.999676   18.127642"
            ]
          },
          "execution_count": 65,
          "metadata": {},
          "output_type": "execute_result"
        }
      ],
      "source": [
        "model = ['NAIVE BAYES','LinearSVC', 'DECISION TREE','RANDOM FOREST',\"Gradient Boosting\"]\n",
        "accuracy=[NaiveBayes_accuracy,LinearSVC_accuracy,Decison_Tree_accuracy,Random_Forest_accuracy,Gradient_Boosting_accuracy]\n",
        "recall=[NaiveBayes_recall,LinearSVC_recall,Decison_Tree_recall,Random_Forest_recall,Gradient_Boosting_recall]\n",
        "f1_score=[NaiveBayes_f1_score,LinearSVC_f1_score,Decison_Tree_f1_score,Random_Forest_f1_score,Gradient_Boosting_f1_score]\n",
        "Time_Taken=[NaiveBayes_TT,LinearSVC_TT,Decison_Tree_TT,Random_Forest_TT,Gradient_Boosting_TT]\n",
        "\n",
        "data = pd.DataFrame({'Accuracy': accuracy, 'Recall': recall, 'F1 Score': f1_score,'Time_Taken':Time_Taken}, index=model)\n",
        "data\n"
      ]
    },
    {
      "cell_type": "code",
      "execution_count": null,
      "metadata": {
        "colab": {
          "base_uri": "https://localhost:8080/",
          "height": 368
        },
        "id": "BWwZ_xa7g30M",
        "outputId": "a3f586bb-11a2-42ee-fbde-cfdbedca5131"
      },
      "outputs": [
        {
          "data": {
            "text/plain": [
              "<Axes: ylabel='Accuracy'>"
            ]
          },
          "execution_count": 66,
          "metadata": {},
          "output_type": "execute_result"
        },
        {
          "data": {
            "image/png": "[encoded data removed]",
            "text/plain": [
              "<Figure size 1000x500 with 1 Axes>"
            ]
          },
          "metadata": {},
          "output_type": "display_data"
        }
      ],
      "source": [
        "import matplotlib.pyplot as plt\n",
        "import seaborn as sns\n",
        "plt.figure(figsize=(10,5))\n",
        "sns.barplot(data=data, y='Accuracy', x=data.index)"
      ]
    },
    {
      "cell_type": "code",
      "execution_count": null,
      "metadata": {
        "id": "Qu61oGKBLtpP"
      },
      "outputs": [],
      "source": []
    },
    {
      "cell_type": "code",
      "execution_count": null,
      "metadata": {
        "id": "fE1-nM0rH1rh"
      },
      "outputs": [],
      "source": []
    }
  ],
  "metadata": {
    "colab": {
      "collapsed_sections": [
        "6pKsQ8KrDLUH",
        "9M-gVZJ-QMgg",
        "aPEzIGKrTtHu",
        "TKB-NmBGTx8l",
        "pMtztlVcXsYM",
        "UkwjvKnuT5Zg",
        "iL0ZQ6FzvL3F",
        "yQOgiC7hc0yY",
        "yNRacQKGvY5x",
        "X-0uFfvXnm9I",
        "zyvQaws9eL7m",
        "PwBVaMxPygrk",
        "l8f7ZctOln8d",
        "n50ppF9KDQ7z",
        "1XruyS2zVLWu",
        "nrAmVtQGVSHl",
        "W2_OSocVHqld",
        "vQOKkyVbI5Su",
        "gZ6h8dZ0OAsu",
        "pezkceHbPBOz",
        "4MiuNLn2VC1W",
        "MtUZklDTb0Cs",
        "IsBVs6oPd8cG",
        "ugM2EaqE1VXZ"
      ],
      "provenance": []
    },
    "kernelspec": {
      "display_name": "Python 3",
      "name": "python3"
    },
    "language_info": {
      "codemirror_mode": {
        "name": "ipython",
        "version": 3
      },
      "file_extension": ".py",
      "mimetype": "text/x-python",
      "name": "python",
      "nbconvert_exporter": "python",
      "pygments_lexer": "ipython3",
      "version": "3.11.7"
    }
  },
  "nbformat": 4,
  "nbformat_minor": 0
}